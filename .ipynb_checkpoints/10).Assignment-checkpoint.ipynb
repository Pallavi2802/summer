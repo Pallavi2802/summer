{
 "cells": [
  {
   "cell_type": "code",
   "execution_count": 1,
   "metadata": {},
   "outputs": [
    {
     "name": "stdout",
     "output_type": "stream",
     "text": [
      "enter a no4\n"
     ]
    }
   ],
   "source": [
    " # shuffle deck of cards\n",
    "from random import randint\n",
    "l=[for var in range(1,52)]"
   ]
  },
  {
   "cell_type": "code",
   "execution_count": 2,
   "metadata": {},
   "outputs": [
    {
     "name": "stdout",
     "output_type": "stream",
     "text": [
      "enter a no 5\n",
      "enter a no 7\n",
      "1\n"
     ]
    }
   ],
   "source": [
    "# GCD --> HCF\n",
    "a=int(input(\"enter a no \"))\n",
    "b=int(input(\"enter a no \"))\n",
    "\n",
    "if a >b :\n",
    "    a,b=b,a\n",
    "\n",
    "def gcd(a,b) :\n",
    "    if a :\n",
    "        return gcd(b%a,a)\n",
    "    else :\n",
    "        return b\n",
    "r=gcd(a,b)\n",
    "print(r)"
   ]
  },
  {
   "cell_type": "code",
   "execution_count": null,
   "metadata": {},
   "outputs": [],
   "source": []
  }
 ],
 "metadata": {
  "kernelspec": {
   "display_name": "Python 3",
   "language": "python",
   "name": "python3"
  },
  "language_info": {
   "codemirror_mode": {
    "name": "ipython",
    "version": 3
   },
   "file_extension": ".py",
   "mimetype": "text/x-python",
   "name": "python",
   "nbconvert_exporter": "python",
   "pygments_lexer": "ipython3",
   "version": "3.7.3"
  }
 },
 "nbformat": 4,
 "nbformat_minor": 2
}
