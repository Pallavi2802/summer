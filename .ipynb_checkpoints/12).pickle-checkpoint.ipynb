{
 "cells": [
  {
   "cell_type": "markdown",
   "metadata": {},
   "source": [
    "# Pickle concept\n"
   ]
  },
  {
   "cell_type": "code",
   "execution_count": 1,
   "metadata": {},
   "outputs": [],
   "source": [
    "import pickle"
   ]
  },
  {
   "cell_type": "code",
   "execution_count": 2,
   "metadata": {},
   "outputs": [],
   "source": [
    "data = { \n",
    "\n",
    "    'name':'python',\n",
    "    'version' : 3.7,\n",
    "    'modules' : {\n",
    "        'ds' : [ 'matplot','numpy','scipy','stats'],\n",
    "        'ml' : [ 'tenserflow','keras','sklearn'],\n",
    "        'web': [ 'flask','django','web2py','pyramid'],\n",
    "        'automation' : [ 'ansible','puppet','openstack'],\n",
    "        'gui'  : [ 'tkinter','wxpython','kivy'],\n",
    "        \n",
    "    },\n",
    "    'versions' : [ \"1.X\",\"2.X\",\"3.X\"]\n",
    "}"
   ]
  },
  {
   "cell_type": "code",
   "execution_count": 3,
   "metadata": {},
   "outputs": [
    {
     "data": {
      "text/plain": [
       "{'name': 'python',\n",
       " 'version': 3.7,\n",
       " 'modules': {'ds': ['matplot', 'numpy', 'scipy', 'stats'],\n",
       "  'ml': ['tenserflow', 'keras', 'sklearn'],\n",
       "  'web': ['flask', 'django', 'web2py', 'pyramid'],\n",
       "  'automation': ['ansible', 'puppet', 'openstack'],\n",
       "  'gui': ['tkinter', 'wxpython', 'kivy']},\n",
       " 'versions': ['1.X', '2.X', '3.X']}"
      ]
     },
     "execution_count": 3,
     "metadata": {},
     "output_type": "execute_result"
    }
   ],
   "source": [
    "data"
   ]
  },
  {
   "cell_type": "code",
   "execution_count": 4,
   "metadata": {},
   "outputs": [],
   "source": [
    "fp=open(\"python.pkl\",\"wb\")# as file opens in bytes so write wb\n"
   ]
  },
  {
   "cell_type": "code",
   "execution_count": 5,
   "metadata": {},
   "outputs": [],
   "source": [
    "pickle.dump(data,fp)\n",
    "fp.close() # only when u close the file the data get saved in file otherwise remain in buffer"
   ]
  },
  {
   "cell_type": "code",
   "execution_count": 6,
   "metadata": {},
   "outputs": [],
   "source": [
    "fp=open(\"python.pkl\",\"rb\")"
   ]
  },
  {
   "cell_type": "code",
   "execution_count": 7,
   "metadata": {},
   "outputs": [],
   "source": [
    "d=pickle.load(fp)"
   ]
  },
  {
   "cell_type": "code",
   "execution_count": 8,
   "metadata": {},
   "outputs": [
    {
     "data": {
      "text/plain": [
       "{'name': 'python',\n",
       " 'version': 3.7,\n",
       " 'modules': {'ds': ['matplot', 'numpy', 'scipy', 'stats'],\n",
       "  'ml': ['tenserflow', 'keras', 'sklearn'],\n",
       "  'web': ['flask', 'django', 'web2py', 'pyramid'],\n",
       "  'automation': ['ansible', 'puppet', 'openstack'],\n",
       "  'gui': ['tkinter', 'wxpython', 'kivy']},\n",
       " 'versions': ['1.X', '2.X', '3.X']}"
      ]
     },
     "execution_count": 8,
     "metadata": {},
     "output_type": "execute_result"
    }
   ],
   "source": [
    "d"
   ]
  },
  {
   "cell_type": "code",
   "execution_count": null,
   "metadata": {},
   "outputs": [],
   "source": []
  }
 ],
 "metadata": {
  "kernelspec": {
   "display_name": "Python 3",
   "language": "python",
   "name": "python3"
  },
  "language_info": {
   "codemirror_mode": {
    "name": "ipython",
    "version": 3
   },
   "file_extension": ".py",
   "mimetype": "text/x-python",
   "name": "python",
   "nbconvert_exporter": "python",
   "pygments_lexer": "ipython3",
   "version": "3.7.3"
  }
 },
 "nbformat": 4,
 "nbformat_minor": 2
}
