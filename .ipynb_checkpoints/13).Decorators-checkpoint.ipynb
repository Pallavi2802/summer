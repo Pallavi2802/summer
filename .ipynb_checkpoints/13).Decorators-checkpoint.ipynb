{
 "cells": [
  {
   "cell_type": "code",
   "execution_count": 1,
   "metadata": {},
   "outputs": [],
   "source": [
    "def hi() :\n",
    "    def hello() :\n",
    "        print(\"hello world\")\n",
    "    return hello()"
   ]
  },
  {
   "cell_type": "code",
   "execution_count": 2,
   "metadata": {},
   "outputs": [
    {
     "name": "stdout",
     "output_type": "stream",
     "text": [
      "hello world\n"
     ]
    }
   ],
   "source": [
    "hi()"
   ]
  },
  {
   "cell_type": "code",
   "execution_count": 5,
   "metadata": {},
   "outputs": [],
   "source": [
    "def add(x,y):\n",
    "    def add1():\n",
    "        print(\"the addition of two no is \",x+y)\n",
    "    return add1()"
   ]
  },
  {
   "cell_type": "code",
   "execution_count": 6,
   "metadata": {},
   "outputs": [
    {
     "name": "stdout",
     "output_type": "stream",
     "text": [
      "enter any no 3\n",
      "enter another no 4\n",
      "the addition of two no is  7\n"
     ]
    }
   ],
   "source": [
    "x=int(input(\"enter any no \"))\n",
    "y=int(input(\"enter another no \"))\n",
    "add(x,y)"
   ]
  },
  {
   "cell_type": "code",
   "execution_count": 7,
   "metadata": {},
   "outputs": [],
   "source": [
    "def printmsg(msg) :\n",
    "    def msg1() :\n",
    "        print(msg)\n",
    "    return msg1"
   ]
  },
  {
   "cell_type": "code",
   "execution_count": 8,
   "metadata": {},
   "outputs": [
    {
     "name": "stdout",
     "output_type": "stream",
     "text": [
      "enter any message : hry\n",
      "hry\n"
     ]
    }
   ],
   "source": [
    "m1=printmsg(input(\"enter any message : \"))\n",
    "m1()"
   ]
  },
  {
   "cell_type": "code",
   "execution_count": 9,
   "metadata": {},
   "outputs": [],
   "source": [
    "def mul(x):\n",
    "    def mul1(y) :\n",
    "        print(\"the multipliacation is \".format(x*y))\n",
    "    return mul1"
   ]
  },
  {
   "cell_type": "code",
   "execution_count": 25,
   "metadata": {},
   "outputs": [],
   "source": [
    "def fact() :\n",
    "    def fact1(x) :\n",
    "        s=1\n",
    "        for var in range(1,x+1) :\n",
    "            s = var * s\n",
    "        else :\n",
    "            print(\"the factorial of no is \",s)\n",
    "    return fact1"
   ]
  },
  {
   "cell_type": "code",
   "execution_count": 27,
   "metadata": {},
   "outputs": [
    {
     "name": "stdout",
     "output_type": "stream",
     "text": [
      "enter any no : 5\n",
      "the factorial of no is  120\n"
     ]
    }
   ],
   "source": [
    "a=int(input(\"enter any no : \"))\n",
    "m=fact()\n",
    "m(a)"
   ]
  },
  {
   "cell_type": "markdown",
   "metadata": {},
   "source": [
    "# passing function as an argument"
   ]
  },
  {
   "cell_type": "code",
   "execution_count": 28,
   "metadata": {},
   "outputs": [],
   "source": [
    "def inc(x) :\n",
    "    return x+1\n",
    "def dec(x):\n",
    "    return x-1\n",
    "def operate(func,var):\n",
    "    result = func(var)\n",
    "    print(result)\n",
    "    "
   ]
  },
  {
   "cell_type": "code",
   "execution_count": 29,
   "metadata": {},
   "outputs": [
    {
     "name": "stdout",
     "output_type": "stream",
     "text": [
      "8\n"
     ]
    }
   ],
   "source": [
    "operate(dec,9)"
   ]
  },
  {
   "cell_type": "code",
   "execution_count": 32,
   "metadata": {},
   "outputs": [],
   "source": [
    "def square(x):\n",
    "    return x**2\n",
    "def cube(y) :\n",
    "    return x**3\n",
    "def operate(func,var) :\n",
    "    result=func(var)\n",
    "    print(result)"
   ]
  },
  {
   "cell_type": "code",
   "execution_count": 33,
   "metadata": {},
   "outputs": [
    {
     "name": "stdout",
     "output_type": "stream",
     "text": [
      "16\n"
     ]
    }
   ],
   "source": [
    "operate(square,4)"
   ]
  },
  {
   "cell_type": "markdown",
   "metadata": {},
   "source": [
    "# Decorators"
   ]
  },
  {
   "cell_type": "code",
   "execution_count": 37,
   "metadata": {},
   "outputs": [
    {
     "name": "stdout",
     "output_type": "stream",
     "text": [
      "enter message rrrrrrrrrr\n",
      "**************************************************\n",
      "--------------------------------------------------\n",
      "rrrrrrrrrr\n",
      "**************************************************\n",
      "--------------------------------------------------\n"
     ]
    }
   ],
   "source": [
    "def decorate(func) :\n",
    "    def printmsg(msg) :\n",
    "        print(\"*\"*50)\n",
    "        print(\"-\"*50)\n",
    "        result=func(msg)\n",
    "        print(result)\n",
    "        print(\"*\"*50)\n",
    "        print(\"-\"*50)\n",
    "    return printmsg\n",
    "\n",
    "\n",
    "@decorate\n",
    "def msg1(msg):\n",
    "    return msg\n",
    "\n",
    "msg=input(\"enter message \")\n",
    "msg1(msg)"
   ]
  },
  {
   "cell_type": "code",
   "execution_count": 40,
   "metadata": {},
   "outputs": [
    {
     "name": "stdout",
     "output_type": "stream",
     "text": [
      "**************************************************\n",
      "the cube of no is :  27\n",
      "**************************************************\n",
      "**************************************************\n",
      "the square of no is  36\n",
      "**************************************************\n"
     ]
    }
   ],
   "source": [
    "def deco(func):\n",
    "    def d(x) :\n",
    "        print(\"*\"*50)\n",
    "        func(x)\n",
    "        print(\"*\"*50)\n",
    "    return d\n",
    "\n",
    "@deco\n",
    "def cube(x) :\n",
    "    print(\"the cube of no is : \",x**3)\n",
    "    \n",
    "    \n",
    "@deco\n",
    "def square(y) :\n",
    "    print(\"the square of no is \",y**2)\n",
    "    \n",
    "    \n",
    "    \n",
    "    \n",
    "cube(3)\n",
    "square(6)"
   ]
  },
  {
   "cell_type": "code",
   "execution_count": 1,
   "metadata": {},
   "outputs": [],
   "source": [
    "import time"
   ]
  },
  {
   "cell_type": "code",
   "execution_count": 42,
   "metadata": {},
   "outputs": [
    {
     "data": {
      "text/plain": [
       "1559101724.2471468"
      ]
     },
     "execution_count": 42,
     "metadata": {},
     "output_type": "execute_result"
    }
   ],
   "source": [
    "time.time() # gives second"
   ]
  },
  {
   "cell_type": "code",
   "execution_count": 50,
   "metadata": {},
   "outputs": [
    {
     "name": "stdout",
     "output_type": "stream",
     "text": [
      "**************************************************\n",
      "**************************************************\n",
      "the start time is : 1559102106.2161565\n",
      "the cube of no is :  842421124828532235938454046639231824417010161865569272976680384000000000000000000000000000000000000000000000000000000000000000000000000000000000000000000000000000000000000000000000000000000000\n",
      "**************************************************\n",
      "**************************************************\n",
      "the end time is  1559102106.2161565\n",
      "the time taken  0.0\n"
     ]
    }
   ],
   "source": [
    "def intime(func):\n",
    "    def time1(*args,**kwargs):\n",
    "        print(\"*\"*50)\n",
    "        print(\"*\"*50)\n",
    "        start=time.time()\n",
    "        print(\"the start time is :\",start)\n",
    "        result=func(*args,**kwargs)\n",
    "        print(\"*\"*50)\n",
    "        print(\"*\"*50)\n",
    "        end=time.time()\n",
    "        print(\"the end time is \",end)\n",
    "        print(\"the time taken \",end-start)\n",
    "    return time1\n",
    "\n",
    "@intime\n",
    "def cube(x):\n",
    "    print(\"the cube of no is : \",x**3)\n",
    "    \n",
    "    \n",
    "cube(9444444444444444444440000000000000000000000000000000000000000000)"
   ]
  },
  {
   "cell_type": "code",
   "execution_count": 54,
   "metadata": {},
   "outputs": [
    {
     "name": "stdout",
     "output_type": "stream",
     "text": [
      "--------------------------------------------------\n",
      "--------------------------------------------------\n",
      "**************************************************\n",
      "**************************************************\n",
      "the start time is : 1559102335.141934\n",
      "the cube of no is :  125\n",
      "**************************************************\n",
      "**************************************************\n",
      "the end time is  1559102335.141934\n",
      "the time taken  0.0\n",
      "--------------------------------------------------\n",
      "--------------------------------------------------\n"
     ]
    }
   ],
   "source": [
    "def intime(func):\n",
    "    def time1(*args,**kwargs):\n",
    "        print(\"*\"*50)\n",
    "        print(\"*\"*50)\n",
    "        start=time.time()\n",
    "        print(\"the start time is :\",start)\n",
    "        result=func(*args,**kwargs)\n",
    "        print(\"*\"*50)\n",
    "        print(\"*\"*50)\n",
    "        end=time.time()\n",
    "        print(\"the end time is \",end)\n",
    "        print(\"the time taken \",end-start)\n",
    "    return time1\n",
    "\n",
    "\n",
    "\n",
    "\n",
    "def timein(func):\n",
    "    def time2(*args,**kwargs):\n",
    "        print(\"-\"*50)\n",
    "        print(\"-\"*50)\n",
    "        start=time.time()\n",
    "       # print(\"the start time is :\",start)\n",
    "        result=func(*args,**kwargs)\n",
    "        print(\"-\"*50)\n",
    "        print(\"-\"*50)\n",
    "        end=time.time()\n",
    "        #print(\"the end time is \",end)\n",
    "        #print(\"the time taken \",end-start)\n",
    "    return time2\n",
    "\n",
    "@timein\n",
    "@intime\n",
    "def cube(x):\n",
    "    print(\"the cube of no is : \",x**3)\n",
    "    \n",
    "\n",
    "cube(5)"
   ]
  },
  {
   "cell_type": "code",
   "execution_count": 4,
   "metadata": {},
   "outputs": [],
   "source": [
    "def intime(func):\n",
    "    def time1(*args,**kwargs):\n",
    "        print(\"*\"*50)\n",
    "        print(\"*\"*50)\n",
    "        start=time.time()\n",
    "        print(\"the start time is :\",start)\n",
    "        result=func(*args,**kwargs)\n",
    "        print(\"*\"*50)\n",
    "        print(\"*\"*50)\n",
    "        end=time.time()\n",
    "        print(\"the end time is \",end)\n",
    "        print(\"the time taken \",end-start)\n",
    "    return time1\n",
    "\n",
    "def timein(func):\n",
    "    def time2(*args,**kwargs):\n",
    "        print(\"-\"*50)\n",
    "        print(\"-\"*50)\n",
    "        start=time.time()\n",
    "       # print(\"the start time is :\",start)\n",
    "        result=func(*args,**kwargs)\n",
    "        print(\"-\"*50)\n",
    "        print(\"-\"*50)\n",
    "        end=time.time()\n",
    "        #print(\"the end time is \",end)\n",
    "        #print(\"the time taken \",end-start)\n",
    "    return time2\n",
    "\n",
    "@timein\n",
    "@intime\n",
    "def fact(l1,*args) :\n",
    "    l=[]\n",
    "    for var in l1:\n",
    "        s=1\n",
    "        while var > 0 :\n",
    "            s = var * s\n",
    "            var=var-1\n",
    "        else :\n",
    "            l.append(s)\n",
    "    else :\n",
    "        print(l)\n"
   ]
  },
  {
   "cell_type": "code",
   "execution_count": 5,
   "metadata": {},
   "outputs": [
    {
     "name": "stdout",
     "output_type": "stream",
     "text": [
      "enter the list1 2 3 4\n",
      "--------------------------------------------------\n",
      "--------------------------------------------------\n",
      "**************************************************\n",
      "**************************************************\n",
      "the start time is : 1559103803.0346212\n",
      "[1, 2, 6, 24]\n",
      "**************************************************\n",
      "**************************************************\n",
      "the end time is  1559103803.0366228\n",
      "the time taken  0.002001523971557617\n",
      "--------------------------------------------------\n",
      "--------------------------------------------------\n"
     ]
    }
   ],
   "source": [
    "n=list(map(int,input(\"enter the list\").split()))\n",
    "fact(n)\n",
    "\n"
   ]
  },
  {
   "cell_type": "code",
   "execution_count": null,
   "metadata": {},
   "outputs": [],
   "source": []
  }
 ],
 "metadata": {
  "kernelspec": {
   "display_name": "Python 3",
   "language": "python",
   "name": "python3"
  },
  "language_info": {
   "codemirror_mode": {
    "name": "ipython",
    "version": 3
   },
   "file_extension": ".py",
   "mimetype": "text/x-python",
   "name": "python",
   "nbconvert_exporter": "python",
   "pygments_lexer": "ipython3",
   "version": "3.7.3"
  }
 },
 "nbformat": 4,
 "nbformat_minor": 2
}
