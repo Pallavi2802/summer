{
 "cells": [
  {
   "cell_type": "markdown",
   "metadata": {},
   "source": [
    "# OOPS-Object Oriented Programming Structure\n",
    "### Classes\n",
    "### Objects\n",
    "### Method\n",
    "### Inheritance\n",
    "### Polymorphism\n",
    "### Abstraction\n",
    "### Encapsulation"
   ]
  },
  {
   "cell_type": "markdown",
   "metadata": {},
   "source": [
    "syntax :-\n",
    "for class \n",
    "class A :            \n",
    "  pass\n",
    "\n",
    "             # 1st letter of class should be capital\n",
    "  \n",
    " \n",
    " \n",
    "for object\n",
    "a=A()"
   ]
  },
  {
   "cell_type": "code",
   "execution_count": 2,
   "metadata": {},
   "outputs": [],
   "source": [
    "class A :\n",
    "    pass"
   ]
  },
  {
   "cell_type": "code",
   "execution_count": 3,
   "metadata": {},
   "outputs": [],
   "source": [
    "a = A()"
   ]
  },
  {
   "cell_type": "code",
   "execution_count": 4,
   "metadata": {},
   "outputs": [
    {
     "name": "stdout",
     "output_type": "stream",
     "text": [
      "<class '__main__.A'>\n"
     ]
    }
   ],
   "source": [
    "print(type(a))"
   ]
  },
  {
   "cell_type": "code",
   "execution_count": 5,
   "metadata": {},
   "outputs": [
    {
     "name": "stdout",
     "output_type": "stream",
     "text": [
      "<class 'list'>\n"
     ]
    }
   ],
   "source": [
    "l=[1,2,3]\n",
    "print(type(l))"
   ]
  },
  {
   "cell_type": "code",
   "execution_count": 6,
   "metadata": {},
   "outputs": [],
   "source": [
    "l.append(1)"
   ]
  },
  {
   "cell_type": "code",
   "execution_count": 7,
   "metadata": {},
   "outputs": [
    {
     "data": {
      "text/plain": [
       "[1, 2, 3, 1]"
      ]
     },
     "execution_count": 7,
     "metadata": {},
     "output_type": "execute_result"
    }
   ],
   "source": [
    "l"
   ]
  },
  {
   "cell_type": "code",
   "execution_count": 8,
   "metadata": {},
   "outputs": [
    {
     "data": {
      "text/plain": [
       "'Automatically created module for IPython interactive environment'"
      ]
     },
     "execution_count": 8,
     "metadata": {},
     "output_type": "execute_result"
    }
   ],
   "source": [
    "__doc__"
   ]
  },
  {
   "cell_type": "code",
   "execution_count": 15,
   "metadata": {},
   "outputs": [],
   "source": [
    "class A :\n",
    "        \"\"\" this is a doc string\"\"\""
   ]
  },
  {
   "cell_type": "code",
   "execution_count": 16,
   "metadata": {},
   "outputs": [
    {
     "data": {
      "text/plain": [
       "' this is a doc string'"
      ]
     },
     "execution_count": 16,
     "metadata": {},
     "output_type": "execute_result"
    }
   ],
   "source": [
    "a = A()\n",
    "a.__doc__\n"
   ]
  },
  {
   "cell_type": "code",
   "execution_count": 17,
   "metadata": {},
   "outputs": [],
   "source": [
    "class A :\n",
    "    def show():\n",
    "        \"\"\"this a doc string of function\"\"\""
   ]
  },
  {
   "cell_type": "code",
   "execution_count": 18,
   "metadata": {},
   "outputs": [
    {
     "data": {
      "text/plain": [
       "'this a doc string of function'"
      ]
     },
     "execution_count": 18,
     "metadata": {},
     "output_type": "execute_result"
    }
   ],
   "source": [
    "a= A()\n",
    "a.show.__doc__"
   ]
  },
  {
   "cell_type": "code",
   "execution_count": 33,
   "metadata": {},
   "outputs": [],
   "source": [
    "class Employee :\n",
    "    name = \"khushi\"         # class variable\n",
    "    def show() :\n",
    "        print(\"the name of student is \",Employee.name)"
   ]
  },
  {
   "cell_type": "code",
   "execution_count": 20,
   "metadata": {},
   "outputs": [
    {
     "ename": "TypeError",
     "evalue": "show() takes 0 positional arguments but 1 was given",
     "output_type": "error",
     "traceback": [
      "\u001b[1;31m---------------------------------------------------------------------------\u001b[0m",
      "\u001b[1;31mTypeError\u001b[0m                                 Traceback (most recent call last)",
      "\u001b[1;32m<ipython-input-20-d0778b09f6e9>\u001b[0m in \u001b[0;36m<module>\u001b[1;34m\u001b[0m\n\u001b[0;32m      1\u001b[0m \u001b[0mobj\u001b[0m \u001b[1;33m=\u001b[0m \u001b[0mEmployee\u001b[0m\u001b[1;33m(\u001b[0m\u001b[1;33m)\u001b[0m\u001b[1;33m\u001b[0m\u001b[1;33m\u001b[0m\u001b[0m\n\u001b[1;32m----> 2\u001b[1;33m \u001b[0mobj\u001b[0m\u001b[1;33m.\u001b[0m\u001b[0mshow\u001b[0m\u001b[1;33m(\u001b[0m\u001b[1;33m)\u001b[0m\u001b[1;33m\u001b[0m\u001b[1;33m\u001b[0m\u001b[0m\n\u001b[0m",
      "\u001b[1;31mTypeError\u001b[0m: show() takes 0 positional arguments but 1 was given"
     ]
    }
   ],
   "source": [
    "obj = Employee()\n",
    "obj.show()"
   ]
  },
  {
   "cell_type": "code",
   "execution_count": 21,
   "metadata": {},
   "outputs": [
    {
     "name": "stdout",
     "output_type": "stream",
     "text": [
      "the name of student is  khushi\n"
     ]
    }
   ],
   "source": [
    "obj = Employee()\n",
    "Employee.show()"
   ]
  },
  {
   "cell_type": "code",
   "execution_count": 34,
   "metadata": {},
   "outputs": [],
   "source": [
    "class Employee:\n",
    "    def show(self):\n",
    "        print(\"The object name is : \",self.name)"
   ]
  },
  {
   "cell_type": "code",
   "execution_count": null,
   "metadata": {},
   "outputs": [],
   "source": []
  },
  {
   "cell_type": "code",
   "execution_count": 35,
   "metadata": {},
   "outputs": [],
   "source": [
    "e1 = Employee() "
   ]
  },
  {
   "cell_type": "code",
   "execution_count": 36,
   "metadata": {},
   "outputs": [],
   "source": [
    "e1.name = \"simran\" #Dynamic binding\n"
   ]
  },
  {
   "cell_type": "code",
   "execution_count": 37,
   "metadata": {},
   "outputs": [],
   "source": [
    "e1.rollno = 101"
   ]
  },
  {
   "cell_type": "code",
   "execution_count": 38,
   "metadata": {},
   "outputs": [
    {
     "data": {
      "text/plain": [
       "'simran'"
      ]
     },
     "execution_count": 38,
     "metadata": {},
     "output_type": "execute_result"
    }
   ],
   "source": [
    "e1.name"
   ]
  },
  {
   "cell_type": "code",
   "execution_count": 39,
   "metadata": {},
   "outputs": [
    {
     "data": {
      "text/plain": [
       "101"
      ]
     },
     "execution_count": 39,
     "metadata": {},
     "output_type": "execute_result"
    }
   ],
   "source": [
    "e1.rollno"
   ]
  },
  {
   "cell_type": "code",
   "execution_count": 40,
   "metadata": {},
   "outputs": [],
   "source": [
    "e2=Employee()"
   ]
  },
  {
   "cell_type": "code",
   "execution_count": 41,
   "metadata": {
    "scrolled": true
   },
   "outputs": [],
   "source": [
    "e2.name=\"khushi\"\n",
    "e2.course=\"python\"\n",
    "e2.rollno=102"
   ]
  },
  {
   "cell_type": "code",
   "execution_count": 42,
   "metadata": {},
   "outputs": [
    {
     "data": {
      "text/plain": [
       "102"
      ]
     },
     "execution_count": 42,
     "metadata": {},
     "output_type": "execute_result"
    }
   ],
   "source": [
    "e2.rollno"
   ]
  },
  {
   "cell_type": "code",
   "execution_count": 43,
   "metadata": {},
   "outputs": [
    {
     "data": {
      "text/plain": [
       "{'name': 'simran', 'rollno': 101}"
      ]
     },
     "execution_count": 43,
     "metadata": {},
     "output_type": "execute_result"
    }
   ],
   "source": [
    "e1.__dict__ # to see the no of attributes"
   ]
  },
  {
   "cell_type": "code",
   "execution_count": 44,
   "metadata": {},
   "outputs": [
    {
     "data": {
      "text/plain": [
       "{'name': 'khushi', 'course': 'python', 'rollno': 102}"
      ]
     },
     "execution_count": 44,
     "metadata": {},
     "output_type": "execute_result"
    }
   ],
   "source": [
    "e2.__dict__"
   ]
  },
  {
   "cell_type": "code",
   "execution_count": 45,
   "metadata": {},
   "outputs": [
    {
     "name": "stdout",
     "output_type": "stream",
     "text": [
      "The object name is :  simran\n"
     ]
    }
   ],
   "source": [
    "e1.show()"
   ]
  },
  {
   "cell_type": "code",
   "execution_count": 46,
   "metadata": {},
   "outputs": [
    {
     "name": "stdout",
     "output_type": "stream",
     "text": [
      "The object name is :  khushi\n"
     ]
    }
   ],
   "source": [
    "e2.show()"
   ]
  },
  {
   "cell_type": "code",
   "execution_count": 47,
   "metadata": {},
   "outputs": [],
   "source": [
    "class Employee:\n",
    "    count = 0           # class variable\n",
    "    def setit(self,name):\n",
    "        self.name=name          # object variable\n",
    "        Employee.count += 1\n",
    "    def show() :\n",
    "        print(\"the no of employee is \", Employee.count)"
   ]
  },
  {
   "cell_type": "code",
   "execution_count": 48,
   "metadata": {},
   "outputs": [],
   "source": [
    "e1=Employee()\n",
    "e2=Employee()\n",
    "e3=Employee()"
   ]
  },
  {
   "cell_type": "code",
   "execution_count": 49,
   "metadata": {},
   "outputs": [],
   "source": [
    "e1.setit(\"simran\")\n",
    "e2.setit(\"ravi\")\n",
    "e3.setit(\"sachin\")"
   ]
  },
  {
   "cell_type": "code",
   "execution_count": 50,
   "metadata": {},
   "outputs": [
    {
     "name": "stdout",
     "output_type": "stream",
     "text": [
      "the no of employee is  3\n"
     ]
    }
   ],
   "source": [
    "Employee.show()"
   ]
  },
  {
   "cell_type": "code",
   "execution_count": 51,
   "metadata": {},
   "outputs": [],
   "source": [
    "class Person() :\n",
    "    def setit(self,n,c,a) :\n",
    "        self.name = n\n",
    "        self.color= c\n",
    "        self.age = a\n",
    "\n",
    "    def getit(self):\n",
    "        print(\"the name of person is \",self.name)\n",
    "        print(\"the colour is \",self.color)\n",
    "        print(\"the age of person is \",self.age)"
   ]
  },
  {
   "cell_type": "code",
   "execution_count": 39,
   "metadata": {},
   "outputs": [],
   "source": [
    "p1= Person()"
   ]
  },
  {
   "cell_type": "code",
   "execution_count": 42,
   "metadata": {},
   "outputs": [],
   "source": [
    "p1.setit(\"pallavi\",\"fair\",20)"
   ]
  },
  {
   "cell_type": "code",
   "execution_count": 43,
   "metadata": {},
   "outputs": [
    {
     "name": "stdout",
     "output_type": "stream",
     "text": [
      "the name of person is  pallavi\n",
      "the colour is  fair\n",
      "the age of person is  20\n"
     ]
    }
   ],
   "source": [
    "p1.getit()"
   ]
  },
  {
   "cell_type": "code",
   "execution_count": 59,
   "metadata": {},
   "outputs": [],
   "source": [
    "class Student:\n",
    "    count = 0\n",
    "    def setit(self,name,course,year):\n",
    "        self.name = name\n",
    "        self.course = course\n",
    "        self.year = year\n",
    "        Student.count += 1\n",
    "    def getit(self):\n",
    "        print(\"The name of student is : \",self.name)\n",
    "        print(\"The course of student is : \",self.course)\n",
    "        print(\"The year of student is : \",self.year)\n",
    "    def change(self):\n",
    "        self.name = input(\"Enter the new name : \")\n",
    "        self.course = input(\"Enter the new course : \")\n",
    "        self.year = int(input(\"Enter the new year :  \"))\n",
    "    def showstudent(self):\n",
    "        print(\"The total students are : \",Student.count)"
   ]
  },
  {
   "cell_type": "code",
   "execution_count": 60,
   "metadata": {},
   "outputs": [],
   "source": [
    "s1 = Student()\n",
    "s1.setit(\"Simran\",\"Python\",4)\n",
    "s2 = Student()\n",
    "s2.setit(\"Khushi\",\"Python\",4)\n",
    "s3 = Student()\n",
    "s3.setit(\"Manan\",\"Datascience\",4)"
   ]
  },
  {
   "cell_type": "code",
   "execution_count": 61,
   "metadata": {},
   "outputs": [
    {
     "name": "stdout",
     "output_type": "stream",
     "text": [
      "The name of student is :  Simran\n",
      "The course of student is :  Python\n",
      "The year of student is :  4\n"
     ]
    }
   ],
   "source": [
    "s1.getit()"
   ]
  },
  {
   "cell_type": "code",
   "execution_count": 62,
   "metadata": {},
   "outputs": [
    {
     "name": "stdout",
     "output_type": "stream",
     "text": [
      "Enter the new name : pallavi\n",
      "Enter the new course : DevOps\n",
      "Enter the new year :  2019\n"
     ]
    }
   ],
   "source": [
    "s1.change()"
   ]
  },
  {
   "cell_type": "code",
   "execution_count": 63,
   "metadata": {},
   "outputs": [
    {
     "name": "stdout",
     "output_type": "stream",
     "text": [
      "The name of student is :  pallavi\n",
      "The course of student is :  DevOps\n",
      "The year of student is :  2019\n"
     ]
    }
   ],
   "source": [
    "s1.getit()"
   ]
  },
  {
   "cell_type": "code",
   "execution_count": 64,
   "metadata": {},
   "outputs": [
    {
     "name": "stdout",
     "output_type": "stream",
     "text": [
      "The total students are :  3\n"
     ]
    }
   ],
   "source": [
    "s1.showstudent()"
   ]
  },
  {
   "cell_type": "code",
   "execution_count": 65,
   "metadata": {},
   "outputs": [],
   "source": [
    "class Class() :\n",
    "    def setit(self,a,b,c,d):\n",
    "        self.chairs=a\n",
    "        self.table=b\n",
    "        self.computer=c\n",
    "        self.fans=d\n",
    "    def getit(self):\n",
    "        print(\"no of chairs are \",self.chairs)\n",
    "        print(\"no of tables are \",self.table)\n",
    "        print(\"no of computers ree \",self.computer)\n",
    "        print(\"no of fans are \",self.fans)\n",
    "    def change(self):\n",
    "        n=int(input(\"what do u want to change\\n 1. chairs \\n 2. table \\n 3. computer \\n 4. fans \\n\\n\"))\n",
    "        if n == 1 :\n",
    "            i=int(input(\"enter no of chairs \"))\n",
    "            self.chairs =i\n",
    "        elif n == 2:\n",
    "            i=int(input(\"enter no of table \"))\n",
    "            self.table =i\n",
    "        elif n == 3 :\n",
    "            i=int(input(\"enter no of computer \"))\n",
    "            self.computer =i\n",
    "        elif n==4 :\n",
    "            i=int(input(\"enter no of fans \"))\n",
    "            self.fans =i\n",
    "        else :\n",
    "            print(\"nothing to change\")\n",
    "                    "
   ]
  },
  {
   "cell_type": "code",
   "execution_count": 66,
   "metadata": {},
   "outputs": [],
   "source": [
    "c1 = Class()"
   ]
  },
  {
   "cell_type": "code",
   "execution_count": 67,
   "metadata": {},
   "outputs": [],
   "source": [
    "c1.setit(3,4,5,1)"
   ]
  },
  {
   "cell_type": "code",
   "execution_count": 68,
   "metadata": {},
   "outputs": [
    {
     "name": "stdout",
     "output_type": "stream",
     "text": [
      "no of chairs are  3\n",
      "no of tables are  4\n",
      "no of computers ree  5\n",
      "no of fans are  1\n"
     ]
    }
   ],
   "source": [
    "c1.getit()"
   ]
  },
  {
   "cell_type": "code",
   "execution_count": 79,
   "metadata": {},
   "outputs": [
    {
     "name": "stdout",
     "output_type": "stream",
     "text": [
      "what do u want to change\n",
      " 1. chairs \n",
      " 2. table \n",
      " 3. computer \n",
      " 4. fans \n",
      "\n",
      "4\n",
      "enter no of fans 2\n"
     ]
    }
   ],
   "source": [
    "c1.change()"
   ]
  },
  {
   "cell_type": "code",
   "execution_count": 69,
   "metadata": {},
   "outputs": [
    {
     "name": "stdout",
     "output_type": "stream",
     "text": [
      "no of chairs are  3\n",
      "no of tables are  4\n",
      "no of computers ree  5\n",
      "no of fans are  1\n"
     ]
    }
   ],
   "source": [
    "c1.getit()"
   ]
  },
  {
   "cell_type": "markdown",
   "metadata": {},
   "source": [
    "# Constructors"
   ]
  },
  {
   "cell_type": "markdown",
   "metadata": {},
   "source": [
    "They are used to initialize the object and its attribute .\n",
    "\n",
    "They are called whenever the object is created .\n",
    "\n",
    "There are two types of constructors\n",
    "\n",
    "1> Parametrized\n",
    "\n",
    "2> Non-parametrized"
   ]
  },
  {
   "cell_type": "code",
   "execution_count": 70,
   "metadata": {},
   "outputs": [],
   "source": [
    "class Person:\n",
    "    def __init__(self,name,age,color):\n",
    "        self.name = name\n",
    "        self.age = age\n",
    "        self.color = color\n",
    "    def getit(self):\n",
    "        print(\"The name is : \",self.name)\n",
    "        print(\"The age is : \",self.age)\n",
    "        print(\"The color is : \",self.color)"
   ]
  },
  {
   "cell_type": "code",
   "execution_count": 71,
   "metadata": {},
   "outputs": [],
   "source": [
    "p1 = Person(\"Khushi\",20,\"fair\")\n",
    "p2 = Person(\"Ayushi\",19,\"fair\")\n",
    "p3 = Person(\"Garima\",20,\"fair\")"
   ]
  },
  {
   "cell_type": "code",
   "execution_count": 72,
   "metadata": {},
   "outputs": [
    {
     "name": "stdout",
     "output_type": "stream",
     "text": [
      "The name is :  Khushi\n",
      "The age is :  20\n",
      "The color is :  fair\n"
     ]
    }
   ],
   "source": [
    "p1.getit()"
   ]
  },
  {
   "cell_type": "code",
   "execution_count": 73,
   "metadata": {},
   "outputs": [
    {
     "name": "stdout",
     "output_type": "stream",
     "text": [
      "The name is :  Garima\n",
      "The age is :  20\n",
      "The color is :  fair\n"
     ]
    }
   ],
   "source": [
    "p3.getit()"
   ]
  },
  {
   "cell_type": "code",
   "execution_count": 74,
   "metadata": {},
   "outputs": [],
   "source": [
    "p1.course=\"python\""
   ]
  },
  {
   "cell_type": "code",
   "execution_count": 75,
   "metadata": {},
   "outputs": [
    {
     "data": {
      "text/plain": [
       "'python'"
      ]
     },
     "execution_count": 75,
     "metadata": {},
     "output_type": "execute_result"
    }
   ],
   "source": [
    "p1.course"
   ]
  },
  {
   "cell_type": "code",
   "execution_count": 76,
   "metadata": {},
   "outputs": [
    {
     "data": {
      "text/plain": [
       "{'name': 'Khushi', 'age': 20, 'color': 'fair', 'course': 'python'}"
      ]
     },
     "execution_count": 76,
     "metadata": {},
     "output_type": "execute_result"
    }
   ],
   "source": [
    "p1.__dict__"
   ]
  },
  {
   "cell_type": "code",
   "execution_count": 87,
   "metadata": {},
   "outputs": [],
   "source": [
    "from time import sleep\n",
    "class City:\n",
    "    def __init__(self,name,state):   #constructor\n",
    "        self.name = name\n",
    "        self.state = state\n",
    "    def getit(self):\n",
    "        print(\"The name of city is \",self.name)\n",
    "        print(\"The name of state is \",self.state)\n",
    "    def __del__(self):  #destructor\n",
    "        print(\"Deleting name of city\")\n",
    "        sleep(2)\n",
    "        del self.name\n",
    "        print(\"Deleting state of city\")\n",
    "        sleep(2)\n",
    "        del self.state\n",
    "        print(\"Deleting self\")\n",
    "        sleep(2)\n",
    "        del self"
   ]
  },
  {
   "cell_type": "code",
   "execution_count": 88,
   "metadata": {},
   "outputs": [],
   "source": [
    "obj1 = City(\"jaipur\",\"rajasthan\")"
   ]
  },
  {
   "cell_type": "code",
   "execution_count": 89,
   "metadata": {},
   "outputs": [
    {
     "name": "stdout",
     "output_type": "stream",
     "text": [
      "The name of city is  jaipur\n",
      "The name of state is  rajasthan\n"
     ]
    }
   ],
   "source": [
    "obj1.getit()"
   ]
  },
  {
   "cell_type": "code",
   "execution_count": 80,
   "metadata": {},
   "outputs": [],
   "source": [
    "del obj1.name"
   ]
  },
  {
   "cell_type": "code",
   "execution_count": 81,
   "metadata": {},
   "outputs": [
    {
     "data": {
      "text/plain": [
       "'rajasthan'"
      ]
     },
     "execution_count": 81,
     "metadata": {},
     "output_type": "execute_result"
    }
   ],
   "source": [
    "obj1.state"
   ]
  },
  {
   "cell_type": "code",
   "execution_count": 82,
   "metadata": {},
   "outputs": [],
   "source": [
    "del obj1.state"
   ]
  },
  {
   "cell_type": "code",
   "execution_count": 83,
   "metadata": {},
   "outputs": [],
   "source": [
    "obj1.name = \"jaipur\""
   ]
  },
  {
   "cell_type": "code",
   "execution_count": 84,
   "metadata": {},
   "outputs": [
    {
     "data": {
      "text/plain": [
       "'jaipur'"
      ]
     },
     "execution_count": 84,
     "metadata": {},
     "output_type": "execute_result"
    }
   ],
   "source": [
    "obj1.name"
   ]
  },
  {
   "cell_type": "code",
   "execution_count": 90,
   "metadata": {},
   "outputs": [
    {
     "name": "stdout",
     "output_type": "stream",
     "text": [
      "Deleting name of city\n",
      "Deleting state of city\n",
      "Deleting self\n"
     ]
    }
   ],
   "source": [
    "del obj1"
   ]
  },
  {
   "cell_type": "code",
   "execution_count": 91,
   "metadata": {},
   "outputs": [],
   "source": [
    "from time import sleep \n",
    "\n",
    "class Student:\n",
    "    def __init__(self,name,year,course,branch) :\n",
    "        self.name=name\n",
    "        self.year=year\n",
    "        self.course=course\n",
    "        self.branch=branch\n",
    "    def getit(self) :\n",
    "        print(\"the name of student is : \",self.name)\n",
    "        print(\"the year of student is : \",self.year)\n",
    "        print(\"the course of student is : \",self.course)\n",
    "        print(\"the branch of student is : \",self.branch)\n",
    "    def __del__(self) :\n",
    "        print(\"deleting the name of student\")\n",
    "        sleep(2)\n",
    "        del self.name\n",
    "        print(\"deleting the year of student\")\n",
    "        sleep(2)\n",
    "        del self.year\n",
    "        print(\"deleting the course of student\")\n",
    "        sleep(2)\n",
    "        del self.course\n",
    "        print(\"deleting the branch of student\")\n",
    "        sleep(2)\n",
    "        del self.branch\n",
    "        sleep(2)\n",
    "        del self"
   ]
  },
  {
   "cell_type": "code",
   "execution_count": 92,
   "metadata": {},
   "outputs": [],
   "source": [
    "ob = Student(\"pallavi\",2,\"python\",\"CSE\")"
   ]
  },
  {
   "cell_type": "code",
   "execution_count": 93,
   "metadata": {},
   "outputs": [
    {
     "name": "stdout",
     "output_type": "stream",
     "text": [
      "the name of student is :  pallavi\n",
      "the year of student is :  2\n",
      "the course of student is :  python\n",
      "the branch of student is :  CSE\n"
     ]
    }
   ],
   "source": [
    "ob.getit()"
   ]
  },
  {
   "cell_type": "code",
   "execution_count": 94,
   "metadata": {},
   "outputs": [
    {
     "name": "stdout",
     "output_type": "stream",
     "text": [
      "deleting the name of student\n",
      "deleting the year of student\n",
      "deleting the course of student\n",
      "deleting the branch of student\n"
     ]
    }
   ],
   "source": [
    "del ob"
   ]
  },
  {
   "cell_type": "code",
   "execution_count": null,
   "metadata": {},
   "outputs": [],
   "source": []
  }
 ],
 "metadata": {
  "kernelspec": {
   "display_name": "Python 3",
   "language": "python",
   "name": "python3"
  },
  "language_info": {
   "codemirror_mode": {
    "name": "ipython",
    "version": 3
   },
   "file_extension": ".py",
   "mimetype": "text/x-python",
   "name": "python",
   "nbconvert_exporter": "python",
   "pygments_lexer": "ipython3",
   "version": "3.7.3"
  }
 },
 "nbformat": 4,
 "nbformat_minor": 2
}
