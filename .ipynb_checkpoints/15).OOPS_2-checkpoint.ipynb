{
 "cells": [
  {
   "cell_type": "code",
   "execution_count": 5,
   "metadata": {},
   "outputs": [],
   "source": [
    "class Rectangle:\n",
    "    def __init__(self,height,width,color,pos=[0,0]):\n",
    "        self.height=height\n",
    "        self.width=width\n",
    "        self.color=color\n",
    "        self.pos=pos\n",
    "    def change(self):\n",
    "        self.height = int(input(\"Height : \"))\n",
    "        self.width = int(input(\"Width : \"))\n",
    "        self.color = input(\"Color : \")\n",
    "        self.pos = list(map(int,input().split()))"
   ]
  },
  {
   "cell_type": "code",
   "execution_count": 6,
   "metadata": {},
   "outputs": [],
   "source": [
    "r1=Rectangle(10,12,'red')"
   ]
  },
  {
   "cell_type": "code",
   "execution_count": 7,
   "metadata": {},
   "outputs": [
    {
     "data": {
      "text/plain": [
       "[0, 0]"
      ]
     },
     "execution_count": 7,
     "metadata": {},
     "output_type": "execute_result"
    }
   ],
   "source": [
    "r1.pos"
   ]
  },
  {
   "cell_type": "code",
   "execution_count": 8,
   "metadata": {},
   "outputs": [
    {
     "data": {
      "text/plain": [
       "10"
      ]
     },
     "execution_count": 8,
     "metadata": {},
     "output_type": "execute_result"
    }
   ],
   "source": [
    "r1.height"
   ]
  },
  {
   "cell_type": "markdown",
   "metadata": {},
   "source": [
    "# 1. getattr(obj,'attr')\n",
    "# 2. setattr(obj,'attr',value)\n",
    "# 3. hasattr(obj,'attr')\n",
    "# 4. delattr(obj,'attr')"
   ]
  },
  {
   "cell_type": "code",
   "execution_count": 9,
   "metadata": {},
   "outputs": [
    {
     "data": {
      "text/plain": [
       "10"
      ]
     },
     "execution_count": 9,
     "metadata": {},
     "output_type": "execute_result"
    }
   ],
   "source": [
    "getattr(r1,'height')"
   ]
  },
  {
   "cell_type": "code",
   "execution_count": 10,
   "metadata": {},
   "outputs": [
    {
     "ename": "AttributeError",
     "evalue": "'Rectangle' object has no attribute 'name'",
     "output_type": "error",
     "traceback": [
      "\u001b[1;31m---------------------------------------------------------------------------\u001b[0m",
      "\u001b[1;31mAttributeError\u001b[0m                            Traceback (most recent call last)",
      "\u001b[1;32m<ipython-input-10-61814d3144f8>\u001b[0m in \u001b[0;36m<module>\u001b[1;34m\u001b[0m\n\u001b[1;32m----> 1\u001b[1;33m \u001b[0mgetattr\u001b[0m\u001b[1;33m(\u001b[0m\u001b[0mr1\u001b[0m\u001b[1;33m,\u001b[0m\u001b[1;34m'name'\u001b[0m\u001b[1;33m)\u001b[0m\u001b[1;33m\u001b[0m\u001b[1;33m\u001b[0m\u001b[0m\n\u001b[0m",
      "\u001b[1;31mAttributeError\u001b[0m: 'Rectangle' object has no attribute 'name'"
     ]
    }
   ],
   "source": [
    "getattr(r1,'name') # as name is not defined"
   ]
  },
  {
   "cell_type": "code",
   "execution_count": 11,
   "metadata": {},
   "outputs": [],
   "source": [
    "setattr(r1,'name','rectagle1')"
   ]
  },
  {
   "cell_type": "code",
   "execution_count": 12,
   "metadata": {},
   "outputs": [
    {
     "data": {
      "text/plain": [
       "'rectagle1'"
      ]
     },
     "execution_count": 12,
     "metadata": {},
     "output_type": "execute_result"
    }
   ],
   "source": [
    "getattr(r1,'name')"
   ]
  },
  {
   "cell_type": "code",
   "execution_count": 14,
   "metadata": {},
   "outputs": [
    {
     "data": {
      "text/plain": [
       "True"
      ]
     },
     "execution_count": 14,
     "metadata": {},
     "output_type": "execute_result"
    }
   ],
   "source": [
    "hasattr(r1,'name')"
   ]
  },
  {
   "cell_type": "code",
   "execution_count": 16,
   "metadata": {},
   "outputs": [],
   "source": [
    "delattr(r1,'name')"
   ]
  },
  {
   "cell_type": "code",
   "execution_count": 17,
   "metadata": {},
   "outputs": [
    {
     "data": {
      "text/plain": [
       "False"
      ]
     },
     "execution_count": 17,
     "metadata": {},
     "output_type": "execute_result"
    }
   ],
   "source": [
    "hasattr(r1,'name')"
   ]
  },
  {
   "cell_type": "code",
   "execution_count": 24,
   "metadata": {},
   "outputs": [],
   "source": [
    "class Student:\n",
    "    count = 0\n",
    "    branch = \"cs\"\n",
    "    def __init__(self,name,course):\n",
    "        self.name = name\n",
    "        self.course = course\n",
    "        Student.count += 1\n",
    "    def show(self):\n",
    "        print(\"The name is \",self.name)\n",
    "        print(\"The course is \",self.course)\n",
    "        print(\"The branch is : \",self.branch)\n",
    "    def totalstu(self):\n",
    "        print(\"The total students are : \",Student.count)\n",
    "    def changebranch():\n",
    "        Student.branch = input(\"ENter the new brach : \") \n",
    "        "
   ]
  },
  {
   "cell_type": "code",
   "execution_count": 25,
   "metadata": {},
   "outputs": [],
   "source": [
    "s1 = Student(\"Sabya\",\"python\")\n",
    "s2 = Student(\"Riya\",'Dev')\n",
    "s3 = Student(\"Manan\",\"Machine Learning\")\n",
    "s1= Student(\"pallavi\",\"ai\")"
   ]
  },
  {
   "cell_type": "code",
   "execution_count": 26,
   "metadata": {},
   "outputs": [
    {
     "name": "stdout",
     "output_type": "stream",
     "text": [
      "The name is  pallavi\n",
      "The course is  ai\n",
      "The branch is :  cs\n"
     ]
    }
   ],
   "source": [
    "s1.show()"
   ]
  },
  {
   "cell_type": "code",
   "execution_count": 27,
   "metadata": {},
   "outputs": [
    {
     "name": "stdout",
     "output_type": "stream",
     "text": [
      "The name is  Riya\n",
      "The course is  Dev\n",
      "The branch is :  cs\n"
     ]
    }
   ],
   "source": [
    "s2.show()"
   ]
  },
  {
   "cell_type": "code",
   "execution_count": 29,
   "metadata": {},
   "outputs": [
    {
     "name": "stdout",
     "output_type": "stream",
     "text": [
      "The total students are :  4\n"
     ]
    }
   ],
   "source": [
    "s2.totalstu()"
   ]
  },
  {
   "cell_type": "code",
   "execution_count": 22,
   "metadata": {
    "scrolled": false
   },
   "outputs": [
    {
     "name": "stdout",
     "output_type": "stream",
     "text": [
      "The name is  Manan\n",
      "The course is  Machine Learning\n",
      "The branch is :  cs\n"
     ]
    }
   ],
   "source": [
    "s3.show()"
   ]
  },
  {
   "cell_type": "code",
   "execution_count": 38,
   "metadata": {},
   "outputs": [],
   "source": [
    "class One:\n",
    "    pub =\"public variable\"\n",
    "    _pro=\"protected variable\"\n",
    "    __priv=\"private variable\"\n",
    "    def __init__(self): # non parametrised constructor\n",
    "        print(\"That the object is constructed\")\n",
    "    def show():\n",
    "        print(One.pub)\n",
    "        print(One._pro)\n",
    "        print(One.__priv)\n",
    "    def change():\n",
    "        One.pub=input(\"new value of public variable : \")\n",
    "        One._pro=input(\"new value of protected variable  :\")\n",
    "        One.__priv=input(\"new value of private variable :\")\n",
    "        \n",
    "        "
   ]
  },
  {
   "cell_type": "code",
   "execution_count": 39,
   "metadata": {},
   "outputs": [
    {
     "name": "stdout",
     "output_type": "stream",
     "text": [
      "That the object is constructed\n"
     ]
    }
   ],
   "source": [
    "\n",
    "obj1 = One()\n"
   ]
  },
  {
   "cell_type": "code",
   "execution_count": 40,
   "metadata": {},
   "outputs": [
    {
     "name": "stdout",
     "output_type": "stream",
     "text": [
      "public variable\n",
      "protected variable\n",
      "private variable\n"
     ]
    }
   ],
   "source": [
    "One.show()"
   ]
  },
  {
   "cell_type": "code",
   "execution_count": 44,
   "metadata": {},
   "outputs": [
    {
     "data": {
      "text/plain": [
       "'public variable'"
      ]
     },
     "execution_count": 44,
     "metadata": {},
     "output_type": "execute_result"
    }
   ],
   "source": [
    "obj1.pub"
   ]
  },
  {
   "cell_type": "code",
   "execution_count": 45,
   "metadata": {},
   "outputs": [
    {
     "data": {
      "text/plain": [
       "'protected variable'"
      ]
     },
     "execution_count": 45,
     "metadata": {},
     "output_type": "execute_result"
    }
   ],
   "source": [
    "obj1._pro"
   ]
  },
  {
   "cell_type": "code",
   "execution_count": 46,
   "metadata": {},
   "outputs": [
    {
     "ename": "AttributeError",
     "evalue": "'One' object has no attribute '__priv'",
     "output_type": "error",
     "traceback": [
      "\u001b[1;31m---------------------------------------------------------------------------\u001b[0m",
      "\u001b[1;31mAttributeError\u001b[0m                            Traceback (most recent call last)",
      "\u001b[1;32m<ipython-input-46-929660165007>\u001b[0m in \u001b[0;36m<module>\u001b[1;34m\u001b[0m\n\u001b[1;32m----> 1\u001b[1;33m \u001b[0mobj1\u001b[0m\u001b[1;33m.\u001b[0m\u001b[0m__priv\u001b[0m\u001b[1;33m\u001b[0m\u001b[1;33m\u001b[0m\u001b[0m\n\u001b[0m",
      "\u001b[1;31mAttributeError\u001b[0m: 'One' object has no attribute '__priv'"
     ]
    }
   ],
   "source": [
    "obj1.__priv"
   ]
  },
  {
   "cell_type": "code",
   "execution_count": 47,
   "metadata": {},
   "outputs": [
    {
     "data": {
      "text/plain": [
       "mappingproxy({'__module__': '__main__',\n",
       "              'pub': 'public variable',\n",
       "              '_pro': 'protected variable',\n",
       "              '_One__priv': 'private variable',\n",
       "              '__init__': <function __main__.One.__init__(self)>,\n",
       "              'show': <function __main__.One.show()>,\n",
       "              'change': <function __main__.One.change()>,\n",
       "              '__dict__': <attribute '__dict__' of 'One' objects>,\n",
       "              '__weakref__': <attribute '__weakref__' of 'One' objects>,\n",
       "              '__doc__': None})"
      ]
     },
     "execution_count": 47,
     "metadata": {},
     "output_type": "execute_result"
    }
   ],
   "source": [
    "One.__dict__"
   ]
  },
  {
   "cell_type": "code",
   "execution_count": 48,
   "metadata": {},
   "outputs": [
    {
     "data": {
      "text/plain": [
       "'private variable'"
      ]
     },
     "execution_count": 48,
     "metadata": {},
     "output_type": "execute_result"
    }
   ],
   "source": [
    "obj1._One__priv"
   ]
  },
  {
   "cell_type": "code",
   "execution_count": 36,
   "metadata": {},
   "outputs": [],
   "source": [
    "class Marks:\n",
    "    \"\"\" this is student class \"\"\"\n",
    "    x = 0\n",
    "    _y = 0\n",
    "    __z = 0\n",
    "    def __init__(self,name,course):\n",
    "        self.name=name\n",
    "        self.course=course\n",
    "    def show(self) :\n",
    "        print(\"the name of student is \",self.name)\n",
    "        print(\"the course of student is \",self.course)\n",
    "        print(self.x)\n",
    "        print(self._y)\n",
    "        print(self.__z)\n",
    "    def change(self):\n",
    "        self.x=input(\"enter the marks : \")\n",
    "        self._y=input(\"enter another marks \")\n",
    "        self.__z=input(\"enter marks \")\n",
    "        \n",
    "    def __str__(self):\n",
    "        return \"{}\".format(self.name)"
   ]
  },
  {
   "cell_type": "code",
   "execution_count": 39,
   "metadata": {},
   "outputs": [],
   "source": [
    "ob = Marks(\"pallavi\",\"python\")"
   ]
  },
  {
   "cell_type": "code",
   "execution_count": 40,
   "metadata": {},
   "outputs": [
    {
     "name": "stdout",
     "output_type": "stream",
     "text": [
      "the name of student is  pallavi\n",
      "the course of student is  python\n",
      "0\n",
      "0\n",
      "0\n"
     ]
    }
   ],
   "source": [
    "ob.show()"
   ]
  },
  {
   "cell_type": "code",
   "execution_count": 41,
   "metadata": {},
   "outputs": [
    {
     "name": "stdout",
     "output_type": "stream",
     "text": [
      "enter the marks : 34\n",
      "enter another marks 56\n",
      "enter marks 78\n"
     ]
    }
   ],
   "source": [
    "ob.change()"
   ]
  },
  {
   "cell_type": "code",
   "execution_count": 42,
   "metadata": {},
   "outputs": [
    {
     "name": "stdout",
     "output_type": "stream",
     "text": [
      "the name of student is  pallavi\n",
      "the course of student is  python\n",
      "34\n",
      "56\n",
      "78\n"
     ]
    }
   ],
   "source": [
    "ob.show()"
   ]
  },
  {
   "cell_type": "code",
   "execution_count": 43,
   "metadata": {},
   "outputs": [
    {
     "data": {
      "text/plain": [
       "mappingproxy({'__module__': '__main__',\n",
       "              '__doc__': ' this is student class ',\n",
       "              'x': 0,\n",
       "              '_y': 0,\n",
       "              '_Marks__z': 0,\n",
       "              '__init__': <function __main__.Marks.__init__(self, name, course)>,\n",
       "              'show': <function __main__.Marks.show(self)>,\n",
       "              'change': <function __main__.Marks.change(self)>,\n",
       "              '__str__': <function __main__.Marks.__str__(self)>,\n",
       "              '__dict__': <attribute '__dict__' of 'Marks' objects>,\n",
       "              '__weakref__': <attribute '__weakref__' of 'Marks' objects>})"
      ]
     },
     "execution_count": 43,
     "metadata": {},
     "output_type": "execute_result"
    }
   ],
   "source": [
    "Marks.__dict__"
   ]
  },
  {
   "cell_type": "code",
   "execution_count": 44,
   "metadata": {},
   "outputs": [
    {
     "name": "stdout",
     "output_type": "stream",
     "text": [
      "pallavi\n"
     ]
    }
   ],
   "source": [
    "print(ob)"
   ]
  },
  {
   "cell_type": "code",
   "execution_count": 48,
   "metadata": {},
   "outputs": [],
   "source": [
    "ob1=Marks(\"aviral\",\"DeVOps\")"
   ]
  },
  {
   "cell_type": "code",
   "execution_count": 49,
   "metadata": {},
   "outputs": [
    {
     "name": "stdout",
     "output_type": "stream",
     "text": [
      "aviral\n"
     ]
    }
   ],
   "source": [
    "print(ob1)"
   ]
  },
  {
   "cell_type": "markdown",
   "metadata": {},
   "source": [
    "# Inheritance"
   ]
  },
  {
   "cell_type": "markdown",
   "metadata": {},
   "source": [
    "## 1 . Single\n",
    "## 2 . Multiple\n",
    "## 3 . Multilevel\n",
    "## 4 . Heriarchical\n",
    "## 5 . Hybrid"
   ]
  },
  {
   "cell_type": "markdown",
   "metadata": {},
   "source": [
    "## single"
   ]
  },
  {
   "cell_type": "code",
   "execution_count": 49,
   "metadata": {},
   "outputs": [],
   "source": [
    "class Parent:\n",
    "    def __init__(self,name):\n",
    "        self.name=name\n",
    "class child(Parent):\n",
    "    def __init__(self,name,cname) :\n",
    "        super().__init__(name)\n",
    "        self.cname=cname\n",
    "    def show(self) :\n",
    "        print(\"the name of parent is \",self.name)\n",
    "        print(\"the name of child is \",self.cname)"
   ]
  },
  {
   "cell_type": "code",
   "execution_count": 50,
   "metadata": {},
   "outputs": [],
   "source": [
    "c1=child(\"riya\",\"raghav\")"
   ]
  },
  {
   "cell_type": "code",
   "execution_count": 51,
   "metadata": {},
   "outputs": [
    {
     "name": "stdout",
     "output_type": "stream",
     "text": [
      "the name of parent is  riya\n",
      "the name of child is  raghav\n"
     ]
    }
   ],
   "source": [
    "c1.show()"
   ]
  },
  {
   "cell_type": "code",
   "execution_count": 53,
   "metadata": {},
   "outputs": [],
   "source": [
    "class Parent:\n",
    "    def __init__(self,name):\n",
    "        self.name = name\n",
    "    def show(self):\n",
    "        print(\"The name is : \",self.name)\n",
    "class Child(Parent):\n",
    "    def __init__(self,name):\n",
    "        super().__init__(name)\n",
    "        "
   ]
  },
  {
   "cell_type": "code",
   "execution_count": 54,
   "metadata": {},
   "outputs": [],
   "source": [
    "c = Child(\"Sachin\")"
   ]
  },
  {
   "cell_type": "code",
   "execution_count": 55,
   "metadata": {},
   "outputs": [
    {
     "name": "stdout",
     "output_type": "stream",
     "text": [
      "The name is :  Sachin\n"
     ]
    }
   ],
   "source": [
    "c.show()"
   ]
  },
  {
   "cell_type": "code",
   "execution_count": 56,
   "metadata": {},
   "outputs": [
    {
     "name": "stdout",
     "output_type": "stream",
     "text": [
      "The name is :  sachin\n"
     ]
    }
   ],
   "source": [
    "p1=Parent(\"sachin\")\n",
    "p1.show()"
   ]
  },
  {
   "cell_type": "code",
   "execution_count": 57,
   "metadata": {},
   "outputs": [],
   "source": [
    "class Rectangle:\n",
    "    def __init__(self,height,width,color):\n",
    "        self.height=height\n",
    "        self.width=width\n",
    "        self.color=color\n",
    "    def show(self):\n",
    "        print(\"height is \",self.height)\n",
    "        print(\"width is \",self.width)\n",
    "        print(\"color is \",self.color)\n",
    "    def __str__(self):\n",
    "        return f\"{self.color}\""
   ]
  },
  {
   "cell_type": "code",
   "execution_count": 60,
   "metadata": {},
   "outputs": [],
   "source": [
    "class Calculation(Rectangle):\n",
    "    def area(self):\n",
    "        print(\"the area is \",self.height*self.width)\n",
    "    def perimeter(self):\n",
    "        print(\"the perimeter is \",self.height*2+self.width*2)\n",
    "    def __init__(self,height,width,color):\n",
    "       super().__init__(height,width,color)"
   ]
  },
  {
   "cell_type": "code",
   "execution_count": 61,
   "metadata": {},
   "outputs": [],
   "source": [
    "c1 = Calculation(10,12,'red')\n",
    "c2= Calculation(10,90,'yellow')"
   ]
  },
  {
   "cell_type": "code",
   "execution_count": 62,
   "metadata": {},
   "outputs": [
    {
     "name": "stdout",
     "output_type": "stream",
     "text": [
      "height is  10\n",
      "width is  12\n",
      "color is  red\n"
     ]
    }
   ],
   "source": [
    "c1.show()"
   ]
  },
  {
   "cell_type": "code",
   "execution_count": 63,
   "metadata": {},
   "outputs": [
    {
     "name": "stdout",
     "output_type": "stream",
     "text": [
      "yellow\n"
     ]
    }
   ],
   "source": [
    "print(c2)"
   ]
  },
  {
   "cell_type": "code",
   "execution_count": 66,
   "metadata": {},
   "outputs": [],
   "source": [
    "class Quadrilatoral:\n",
    "    def __init__(self,a,b,c,d):\n",
    "        self.a = a\n",
    "        self.b = b\n",
    "        self.c = c\n",
    "        self.d = d\n",
    "    def show(self):\n",
    "        print(f\"The sides are {self.a},{self.b},{self.c},{self.d}\")\n",
    "    def perimeter(self):\n",
    "        print(\"The perimeter is : \",self.a+self.b+self.c+self.d)"
   ]
  },
  {
   "cell_type": "code",
   "execution_count": 67,
   "metadata": {},
   "outputs": [],
   "source": [
    "class Rectangle(Quadrilatoral):\n",
    "    def __init__(self,a,b):\n",
    "        super().__init__(a,b,a,b)"
   ]
  },
  {
   "cell_type": "code",
   "execution_count": 68,
   "metadata": {},
   "outputs": [],
   "source": [
    "r1 = Rectangle(2,3)"
   ]
  },
  {
   "cell_type": "code",
   "execution_count": 69,
   "metadata": {},
   "outputs": [
    {
     "name": "stdout",
     "output_type": "stream",
     "text": [
      "The perimeter is :  10\n"
     ]
    }
   ],
   "source": [
    "r1.perimeter()"
   ]
  },
  {
   "cell_type": "code",
   "execution_count": 70,
   "metadata": {},
   "outputs": [],
   "source": [
    "r1=Rectangle(4,5)"
   ]
  },
  {
   "cell_type": "code",
   "execution_count": 71,
   "metadata": {},
   "outputs": [
    {
     "name": "stdout",
     "output_type": "stream",
     "text": [
      "The sides are 4,5,4,5\n"
     ]
    }
   ],
   "source": [
    "r1.show()"
   ]
  },
  {
   "cell_type": "code",
   "execution_count": 12,
   "metadata": {},
   "outputs": [],
   "source": [
    "class Polygon:\n",
    "    def __init__(self,sides=0):\n",
    "        self.n=int(input(\"enter no of sides:  \"))\n",
    "        self.sides=[0  for var in range(self.n)]\n",
    "    def set(self):\n",
    "        self.sides=[input(\"side : \") for var in range(self.n)]\n",
    "    def show(self):\n",
    "        print(\"the sides are : \")\n",
    "        for var in range(self.n) :\n",
    "            print(self.sides)\n",
    "            break"
   ]
  },
  {
   "cell_type": "code",
   "execution_count": 3,
   "metadata": {},
   "outputs": [],
   "source": [
    "class Rectangle(Polygon):\n",
    "    def __init__(self,sides):\n",
    "        super().__init__(sides)\n",
    "    def show(self):\n",
    "        print(self.sides)\n",
    "    def perimeter(self):\n",
    "        s = 0\n",
    "        for i in self.sides:\n",
    "            s = s + int(i)\n",
    "        print(\"The perimeter is : \",s)"
   ]
  },
  {
   "cell_type": "code",
   "execution_count": 4,
   "metadata": {},
   "outputs": [
    {
     "name": "stdout",
     "output_type": "stream",
     "text": [
      "enter no of sides:  4\n"
     ]
    }
   ],
   "source": [
    "r1 =Rectangle(0)"
   ]
  },
  {
   "cell_type": "code",
   "execution_count": 5,
   "metadata": {},
   "outputs": [
    {
     "name": "stdout",
     "output_type": "stream",
     "text": [
      "side : 3\n",
      "side : 4\n",
      "side : 5\n",
      "side : 6\n"
     ]
    }
   ],
   "source": [
    "r1.set()"
   ]
  },
  {
   "cell_type": "code",
   "execution_count": 6,
   "metadata": {
    "scrolled": false
   },
   "outputs": [
    {
     "name": "stdout",
     "output_type": "stream",
     "text": [
      "enter no of sides:  4\n"
     ]
    }
   ],
   "source": [
    "ob = Polygon()"
   ]
  },
  {
   "cell_type": "code",
   "execution_count": 7,
   "metadata": {},
   "outputs": [
    {
     "name": "stdout",
     "output_type": "stream",
     "text": [
      "side : 4\n",
      "side : 5\n",
      "side : 6\n",
      "side : 7\n"
     ]
    }
   ],
   "source": [
    "ob.set()"
   ]
  },
  {
   "cell_type": "code",
   "execution_count": 8,
   "metadata": {},
   "outputs": [
    {
     "name": "stdout",
     "output_type": "stream",
     "text": [
      "the sides are : \n",
      "['4', '5', '6', '7']\n"
     ]
    }
   ],
   "source": [
    "ob.show()"
   ]
  },
  {
   "cell_type": "code",
   "execution_count": 9,
   "metadata": {},
   "outputs": [
    {
     "name": "stdout",
     "output_type": "stream",
     "text": [
      "The perimeter is :  18\n"
     ]
    }
   ],
   "source": [
    "r1.perimeter()"
   ]
  },
  {
   "cell_type": "code",
   "execution_count": 11,
   "metadata": {},
   "outputs": [
    {
     "name": "stdout",
     "output_type": "stream",
     "text": [
      "['3', '4', '5', '6']\n"
     ]
    }
   ],
   "source": [
    "r1.show()"
   ]
  },
  {
   "cell_type": "code",
   "execution_count": null,
   "metadata": {},
   "outputs": [],
   "source": []
  }
 ],
 "metadata": {
  "kernelspec": {
   "display_name": "Python 3",
   "language": "python",
   "name": "python3"
  }
 },
 "nbformat": 4,
 "nbformat_minor": 2
}
