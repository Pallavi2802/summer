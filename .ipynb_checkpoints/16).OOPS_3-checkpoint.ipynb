{
 "cells": [
  {
   "cell_type": "markdown",
   "metadata": {},
   "source": [
    "# MULTIPLE INHERITANCE"
   ]
  },
  {
   "cell_type": "code",
   "execution_count": 13,
   "metadata": {},
   "outputs": [],
   "source": [
    "class Parent1:\n",
    "    def __init__(self,name1):\n",
    "        self.name1 = name1\n",
    "    def show(self):\n",
    "        print(\"the name is \",self.name1)\n",
    "        \n",
    "        \n",
    "class Parent2:\n",
    "    def __init__(self,name2):\n",
    "        self.name2 =name2\n",
    "    def show(self):\n",
    "        print(\"the name is \",self.name2)\n",
    "        \n",
    "        \n",
    "        \n",
    "class Child(Parent1,Parent2):\n",
    "    def __init__(self,name1):\n",
    "        super().__init__(name1)"
   ]
  },
  {
   "cell_type": "code",
   "execution_count": 14,
   "metadata": {},
   "outputs": [],
   "source": [
    "c1 = Child(\"Parent1\")"
   ]
  },
  {
   "cell_type": "code",
   "execution_count": 15,
   "metadata": {},
   "outputs": [
    {
     "name": "stdout",
     "output_type": "stream",
     "text": [
      "the name is  Parent1\n"
     ]
    }
   ],
   "source": [
    "c1.show()"
   ]
  },
  {
   "cell_type": "code",
   "execution_count": 6,
   "metadata": {},
   "outputs": [],
   "source": [
    "class FirstName:\n",
    "    def __init__(self,fname):\n",
    "        self.fname = fname\n",
    "    \n",
    "class LastName:\n",
    "    def __init__(self,lname):\n",
    "        self.lname = lname\n",
    "        \n",
    "class Name(FirstName,LastName):\n",
    "    def __init__(self,fname,lname):\n",
    "        FirstName.__init__(self,fname)\n",
    "        LastName.__init__(self,lname)\n",
    "    def show(self):\n",
    "        print(\"The person firstname is {} and lastname is {}\".format(self.fname,self.lname))"
   ]
  },
  {
   "cell_type": "code",
   "execution_count": 7,
   "metadata": {},
   "outputs": [],
   "source": [
    "n1 = Name(\"Simran\",\"Grover\")"
   ]
  },
  {
   "cell_type": "code",
   "execution_count": 8,
   "metadata": {},
   "outputs": [
    {
     "name": "stdout",
     "output_type": "stream",
     "text": [
      "The person firstname is Simran and lastname is Grover\n"
     ]
    }
   ],
   "source": [
    "n1.show()"
   ]
  },
  {
   "cell_type": "code",
   "execution_count": 9,
   "metadata": {},
   "outputs": [],
   "source": [
    "class Parent1:\n",
    "    def __init__(self,name1):\n",
    "        self.name1 = name1\n",
    "    def show1(self):\n",
    "        print(\"The name1 is : \",self.name1)\n",
    "\n",
    "class Parent2:\n",
    "    def __init__(self,name2):\n",
    "        self.name2 = name2\n",
    "    def show2(self):\n",
    "        print(\"The name2 is : \",self.name2)\n",
    "        \n",
    "class Child(Parent2,Parent1):\n",
    "    def __init__(self,name1,name2):\n",
    "        Parent1.__init__(self,name1)\n",
    "        Parent2.__init__(self,name2)"
   ]
  },
  {
   "cell_type": "code",
   "execution_count": 10,
   "metadata": {},
   "outputs": [],
   "source": [
    "c1 = Child(\"Parent1\",\"Parent2\")"
   ]
  },
  {
   "cell_type": "code",
   "execution_count": 11,
   "metadata": {},
   "outputs": [
    {
     "name": "stdout",
     "output_type": "stream",
     "text": [
      "The name1 is :  Parent1\n"
     ]
    }
   ],
   "source": [
    "c1.show1()"
   ]
  },
  {
   "cell_type": "code",
   "execution_count": 12,
   "metadata": {},
   "outputs": [
    {
     "name": "stdout",
     "output_type": "stream",
     "text": [
      "The name2 is :  Parent2\n"
     ]
    }
   ],
   "source": [
    "c1.show2()"
   ]
  },
  {
   "cell_type": "code",
   "execution_count": 13,
   "metadata": {},
   "outputs": [],
   "source": [
    "class Car:\n",
    "    def __init__(self,model1,brand1,color1):\n",
    "        self.model1 = model1\n",
    "        self.brand1 = brand1\n",
    "        self.color1 = color1\n",
    "\n",
    "    def show1(self):\n",
    "        print(\"The properties of car are : \")\n",
    "        print(\"Model : \",self.model1)\n",
    "        print(\"Brand : \",self.brand1)\n",
    "        print(\"Color : \",self.color1)\n",
    "class Bike:\n",
    "    def __init__(self,model2,brand2,color2):\n",
    "        self.model2 = model2\n",
    "        self.brand2 = brand2\n",
    "        self.color2 = color2\n",
    "\n",
    "    def show1(self):\n",
    "        print(\"The properties of Bike are : \")\n",
    "        print(\"Model : \",self.model2)\n",
    "        print(\"Brand : \",self.brand2)\n",
    "        print(\"Color : \",self.color2)\n",
    "\n",
    "class Vehicle(Car,Bike):\n",
    "    def __init__(self,model1,brand1,color1,model2,brand2,color2):\n",
    "        Car.__init__(self,model1,brand1,color1)\n",
    "        Bike.__init__(self,model2,brand2,color2)\n",
    "    def show1(self):    #overriding\n",
    "        print(\"The properties of car are : \")\n",
    "        print(\"Model : \",self.model1)\n",
    "        print(\"Brand : \",self.brand1)\n",
    "        print(\"Color : \",self.color1)\n",
    "        print(\"The properties of Bike are : \")\n",
    "        print(\"Model : \",self.model2)\n",
    "        print(\"Brand : \",self.brand2)\n",
    "        print(\"Color : \",self.color2)"
   ]
  },
  {
   "cell_type": "code",
   "execution_count": 14,
   "metadata": {},
   "outputs": [],
   "source": [
    "v1 = Vehicle('abc','swift','black','abcd','bajaj','red')"
   ]
  },
  {
   "cell_type": "code",
   "execution_count": 15,
   "metadata": {},
   "outputs": [
    {
     "name": "stdout",
     "output_type": "stream",
     "text": [
      "The properties of car are : \n",
      "Model :  abc\n",
      "Brand :  swift\n",
      "Color :  black\n",
      "The properties of Bike are : \n",
      "Model :  abcd\n",
      "Brand :  bajaj\n",
      "Color :  red\n"
     ]
    }
   ],
   "source": [
    "v1.show1()"
   ]
  },
  {
   "cell_type": "code",
   "execution_count": 37,
   "metadata": {},
   "outputs": [],
   "source": [
    "class Car:\n",
    "    def __init__(self,model,brand,color):\n",
    "        self.model=model\n",
    "        self.brand=brand\n",
    "        self.color=color\n",
    "    def show(self):\n",
    "        print(\"the model of car is \",self.model)\n",
    "        print(\"the brand of car is \",self.brand)\n",
    "        print(\"the color of car is \",self.color)\n",
    "\n",
    "        \n",
    "        \n",
    "class Bike:\n",
    "    def __init__(self,model1,brand1,color1):\n",
    "        self.model1=model1\n",
    "        self.brand1=brand1\n",
    "        self.color1=color1\n",
    "    def show(self):\n",
    "        print(\"the model of bike is \",self.model1)\n",
    "        print(\"the brand of bike is \",self.brand1)\n",
    "        print(\"the color of bike is \",self.color1)\n",
    "\n",
    "\n",
    "class Vehicle(Car,Bike):\n",
    "    def __init__(self,model,brand,color,model1,brand1,color1):\n",
    "        Car.__init__(self,model,brand,color)\n",
    "        Bike.__init__(self,model1,brand1,color1)\n",
    "    def show(self):\n",
    "        Car.show(self)\n",
    "        Bike.show(self)\n",
    "        "
   ]
  },
  {
   "cell_type": "code",
   "execution_count": 38,
   "metadata": {},
   "outputs": [],
   "source": [
    "c1 = Vehicle('Abc','BMW','blue','passion','hero','red')"
   ]
  },
  {
   "cell_type": "code",
   "execution_count": 39,
   "metadata": {},
   "outputs": [
    {
     "name": "stdout",
     "output_type": "stream",
     "text": [
      "the model of car is  Abc\n",
      "the brand of car is  BMW\n",
      "the color of car is  blue\n",
      "the model of bike is  passion\n",
      "the brand of bike is  hero\n",
      "the color of bike is  red\n"
     ]
    }
   ],
   "source": [
    "c1.show()"
   ]
  },
  {
   "cell_type": "markdown",
   "metadata": {},
   "source": [
    "# MULTILEVEL INHERITANCE"
   ]
  },
  {
   "cell_type": "code",
   "execution_count": 16,
   "metadata": {},
   "outputs": [],
   "source": [
    "class Grandparent:\n",
    "    def __init__(self,gname):\n",
    "        self.gname=gname\n",
    "    def show(self):\n",
    "        print(\"the name of grand parent is\",self.name)\n",
    "    \n",
    "class Parent(Grandparent):\n",
    "    def __init__(self,gname,pname):\n",
    "        super().__init__(gname)\n",
    "        self.pname=pname\n",
    "    def show1(self):\n",
    "        print(\"the name of parent is \",self.pname)\n",
    "\n",
    "class Child(Parent):\n",
    "    def __init__(self,gname,pname,name):\n",
    "        super().__init__(gname,pname)\n",
    "        self.name = name\n",
    "    def showchild(self):\n",
    "        print(\"the name of child is \",self.name)\n",
    "\n",
    "    "
   ]
  },
  {
   "cell_type": "code",
   "execution_count": 17,
   "metadata": {},
   "outputs": [],
   "source": [
    "c1 = Child(\"raghav\",'rahul','riya')"
   ]
  },
  {
   "cell_type": "code",
   "execution_count": 18,
   "metadata": {},
   "outputs": [
    {
     "name": "stdout",
     "output_type": "stream",
     "text": [
      "the name of child is  riya\n"
     ]
    }
   ],
   "source": [
    "c1.showchild()"
   ]
  },
  {
   "cell_type": "code",
   "execution_count": 19,
   "metadata": {},
   "outputs": [
    {
     "name": "stdout",
     "output_type": "stream",
     "text": [
      "the name of grand parent is riya\n"
     ]
    }
   ],
   "source": [
    "c1.show()"
   ]
  },
  {
   "cell_type": "code",
   "execution_count": 48,
   "metadata": {},
   "outputs": [
    {
     "name": "stdout",
     "output_type": "stream",
     "text": [
      "the name of parent is  rahul\n"
     ]
    }
   ],
   "source": [
    "c1.show1()"
   ]
  },
  {
   "cell_type": "markdown",
   "metadata": {},
   "source": [
    "# HIERARCHICAL INHERITANCE"
   ]
  },
  {
   "cell_type": "code",
   "execution_count": 27,
   "metadata": {},
   "outputs": [],
   "source": [
    "class Parent:\n",
    "    def __init__(self,pname):\n",
    "        self.pname=pname\n",
    "\n",
    "class Child1(Parent):\n",
    "    def __init__(self,pname,cname1):\n",
    "        super().__init__(pname)\n",
    "        self.cname1 = cname1\n",
    "    def show1(self):\n",
    "        print(\"the name of child1 of parent {} is {}\".format(self.pname,self.cname1))\n",
    "\n",
    "class Child2(Parent):\n",
    "    def __init__(self,pname,cname2):\n",
    "        super().__init__(pname)\n",
    "        self.cname2 = cname2\n",
    "    def show1(self):\n",
    "        print(\"the name of child2 of parent {} is {}\".format(self.pname,self.cname2))"
   ]
  },
  {
   "cell_type": "code",
   "execution_count": 28,
   "metadata": {},
   "outputs": [],
   "source": [
    "c1=Child1(\"chanchal\",\"simran\")"
   ]
  },
  {
   "cell_type": "code",
   "execution_count": 29,
   "metadata": {},
   "outputs": [
    {
     "name": "stdout",
     "output_type": "stream",
     "text": [
      "the name of child1 of parent chanchal is simran\n"
     ]
    }
   ],
   "source": [
    "c1.show1()"
   ]
  },
  {
   "cell_type": "markdown",
   "metadata": {},
   "source": [
    "# HYBRID INHERITANCE"
   ]
  },
  {
   "cell_type": "code",
   "execution_count": 31,
   "metadata": {},
   "outputs": [],
   "source": [
    "class A:\n",
    "    def __init__(self,name):\n",
    "        self.name= name\n",
    "        \n",
    "class B(A):\n",
    "    def __init__(self,name,age):\n",
    "        super().__init__(name)\n",
    "        self.age=age\n",
    "        \n",
    "class C:\n",
    "    def __init__(self,course):\n",
    "        self.course=course\n",
    "        \n",
    "class D(B,C):\n",
    "    def __init__(self,name,age,course,rollno):\n",
    "        self.rollno = rollno\n",
    "        B.__init__(self,name,age)\n",
    "        C.__init__(self,course)\n",
    "    def getit(self):\n",
    "        print(\"the name of student is\",self.name)\n",
    "        print(\"the age of student is\",self.age)\n",
    "        print(\"the course of student is\",self.course)\n",
    "        print(\"the rollno of student is\",self.rollno)\n",
    "        \n",
    "    "
   ]
  },
  {
   "cell_type": "code",
   "execution_count": 33,
   "metadata": {},
   "outputs": [],
   "source": [
    "ob=D(\"pallavi\",20,\"python\",1001)"
   ]
  },
  {
   "cell_type": "code",
   "execution_count": 34,
   "metadata": {},
   "outputs": [
    {
     "name": "stdout",
     "output_type": "stream",
     "text": [
      "the name of student is pallavi\n",
      "the age of student is 20\n",
      "the course of student is python\n",
      "the rollno of student is 1001\n"
     ]
    }
   ],
   "source": [
    "ob.getit()"
   ]
  },
  {
   "cell_type": "markdown",
   "metadata": {},
   "source": [
    "# OPERATOR OVERLOADING"
   ]
  },
  {
   "cell_type": "code",
   "execution_count": 35,
   "metadata": {},
   "outputs": [],
   "source": [
    "class Overload:\n",
    "    def __init__(self,real,imag):\n",
    "        self.real=real\n",
    "        self.imag=imag\n",
    "    def __str__(self):                                       # will give output of print\n",
    "        return \"{}+{}j\".format(self.real,self.imag)\n",
    "    def __str__(self):\n",
    "        return \"{}+{}j\".format(self.real,self.imag)         # will give shell output\n",
    "    def __sub__(self,obj):\n",
    "        x = self.real - obj.real   # self=ob,obj=ob1\n",
    "        y = self.imag - obj.imag\n",
    "        return Overload(x,y)"
   ]
  },
  {
   "cell_type": "code",
   "execution_count": 36,
   "metadata": {},
   "outputs": [
    {
     "data": {
      "text/plain": [
       "<__main__.Overload at 0x6cb3b44400>"
      ]
     },
     "execution_count": 36,
     "metadata": {},
     "output_type": "execute_result"
    }
   ],
   "source": [
    "ob = Overload(4,6)\n",
    "ob1 = Overload(2,3)\n",
    "ob2 = ob - ob1\n",
    "ob2"
   ]
  },
  {
   "cell_type": "code",
   "execution_count": 37,
   "metadata": {},
   "outputs": [
    {
     "name": "stdout",
     "output_type": "stream",
     "text": [
      "2+3j\n"
     ]
    }
   ],
   "source": [
    "print(ob2)"
   ]
  },
  {
   "cell_type": "code",
   "execution_count": 38,
   "metadata": {},
   "outputs": [],
   "source": [
    "class Overload:\n",
    "    def __init__(self,a,b):\n",
    "        self.a = a\n",
    "        self.b = b \n",
    "    def show(self):\n",
    "        print(\"The number are : \",self.a,self.b)\n",
    "    def __lt__(self,obj):\n",
    "        x = self.a**3 + self.b**3\n",
    "        y = obj.a**3 + obj.b**3\n",
    "        return x<y"
   ]
  },
  {
   "cell_type": "code",
   "execution_count": 39,
   "metadata": {},
   "outputs": [
    {
     "name": "stdout",
     "output_type": "stream",
     "text": [
      "True\n"
     ]
    }
   ],
   "source": [
    "obj1 = Overload(3,4)\n",
    "obj2 = Overload(4,5)\n",
    "obj3 = obj1 < obj2\n",
    "print(obj3)"
   ]
  },
  {
   "cell_type": "code",
   "execution_count": 40,
   "metadata": {},
   "outputs": [],
   "source": [
    "class A(list):\n",
    "    def __init__(self,args):\n",
    "        super().__init__(args)\n",
    "        #self.args = args"
   ]
  },
  {
   "cell_type": "code",
   "execution_count": 41,
   "metadata": {},
   "outputs": [],
   "source": [
    "l = A([1,2,3,412])"
   ]
  },
  {
   "cell_type": "code",
   "execution_count": 42,
   "metadata": {},
   "outputs": [],
   "source": [
    "l.append(10)"
   ]
  },
  {
   "cell_type": "code",
   "execution_count": 43,
   "metadata": {},
   "outputs": [
    {
     "data": {
      "text/plain": [
       "[1, 2, 3, 412, 10]"
      ]
     },
     "execution_count": 43,
     "metadata": {},
     "output_type": "execute_result"
    }
   ],
   "source": [
    "l"
   ]
  },
  {
   "cell_type": "code",
   "execution_count": 50,
   "metadata": {},
   "outputs": [],
   "source": [
    "class One:\n",
    "    __slots__=['x','y','z']"
   ]
  },
  {
   "cell_type": "code",
   "execution_count": 51,
   "metadata": {},
   "outputs": [],
   "source": [
    "obj1=One()"
   ]
  },
  {
   "cell_type": "code",
   "execution_count": 52,
   "metadata": {},
   "outputs": [],
   "source": [
    "obj1.x=10"
   ]
  },
  {
   "cell_type": "code",
   "execution_count": 55,
   "metadata": {},
   "outputs": [],
   "source": [
    "obj1.y=15"
   ]
  },
  {
   "cell_type": "code",
   "execution_count": 56,
   "metadata": {},
   "outputs": [],
   "source": [
    "obj1.z=19"
   ]
  },
  {
   "cell_type": "code",
   "execution_count": 57,
   "metadata": {},
   "outputs": [
    {
     "ename": "AttributeError",
     "evalue": "'One' object has no attribute 'a'",
     "output_type": "error",
     "traceback": [
      "\u001b[1;31m---------------------------------------------------------------------------\u001b[0m",
      "\u001b[1;31mAttributeError\u001b[0m                            Traceback (most recent call last)",
      "\u001b[1;32m<ipython-input-57-9a37d9b8346e>\u001b[0m in \u001b[0;36m<module>\u001b[1;34m\u001b[0m\n\u001b[1;32m----> 1\u001b[1;33m \u001b[0mobj1\u001b[0m\u001b[1;33m.\u001b[0m\u001b[0ma\u001b[0m\u001b[1;33m=\u001b[0m\u001b[1;36m10\u001b[0m\u001b[1;33m\u001b[0m\u001b[1;33m\u001b[0m\u001b[0m\n\u001b[0m\u001b[0;32m      2\u001b[0m \u001b[1;33m\u001b[0m\u001b[0m\n",
      "\u001b[1;31mAttributeError\u001b[0m: 'One' object has no attribute 'a'"
     ]
    }
   ],
   "source": [
    "obj1.a=10\n",
    "    "
   ]
  },
  {
   "cell_type": "code",
   "execution_count": 58,
   "metadata": {},
   "outputs": [],
   "source": [
    "class Student:\n",
    "    __slots__ = ['name','course','rollno']\n",
    "    def __init__(self,name,course):\n",
    "        self.name = name\n",
    "        self.course = course\n",
    "        #self.age = age\n",
    "    def show(self):\n",
    "        print(\"The name is : \",self.name)\n",
    "        print(\"The course is : \",self.course)\n",
    "        #print(\"The age is : \",self.age)"
   ]
  },
  {
   "cell_type": "code",
   "execution_count": 59,
   "metadata": {},
   "outputs": [],
   "source": [
    "stu1 = Student(\"Garima\",\"Python\")"
   ]
  },
  {
   "cell_type": "code",
   "execution_count": 60,
   "metadata": {},
   "outputs": [
    {
     "name": "stdout",
     "output_type": "stream",
     "text": [
      "The name is :  Garima\n",
      "The course is :  Python\n"
     ]
    }
   ],
   "source": [
    "stu1.show()"
   ]
  },
  {
   "cell_type": "code",
   "execution_count": 61,
   "metadata": {},
   "outputs": [],
   "source": [
    "stu1.rollno = 1001"
   ]
  },
  {
   "cell_type": "code",
   "execution_count": null,
   "metadata": {},
   "outputs": [],
   "source": []
  }
 ],
 "metadata": {
  "kernelspec": {
   "display_name": "Python 3",
   "language": "python",
   "name": "python3"
  },
  "language_info": {
   "codemirror_mode": {
    "name": "ipython",
    "version": 3
   },
   "file_extension": ".py",
   "mimetype": "text/x-python",
   "name": "python",
   "nbconvert_exporter": "python",
   "pygments_lexer": "ipython3",
   "version": "3.7.3"
  }
 },
 "nbformat": 4,
 "nbformat_minor": 2
}
