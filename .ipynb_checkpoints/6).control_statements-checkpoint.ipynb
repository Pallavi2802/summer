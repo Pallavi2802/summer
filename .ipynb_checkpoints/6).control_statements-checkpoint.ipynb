{
 "cells": [
  {
   "cell_type": "code",
   "execution_count": 1,
   "metadata": {},
   "outputs": [],
   "source": [
    "# input month no and print month name-->if month invalid print invalid "
   ]
  },
  {
   "cell_type": "code",
   "execution_count": 8,
   "metadata": {},
   "outputs": [
    {
     "name": "stdout",
     "output_type": "stream",
     "text": [
      "enter a month no : 6\n",
      "June\n"
     ]
    }
   ],
   "source": [
    "month=int(input(\"enter a month no : \"))\n",
    "mon = {1:\"january\",2:\"febrarury\",3:\"march\",4:\"april\",5:\"May\",6:\"June\",7:\"July\",8:\"August\",9:\"September\",\n",
    "       10:\"october\",11:\"november\",12:\"December\"}\n",
    "if month <= 12 :  # or if mon.get(month,False) :\n",
    "    print(mon.get(month))\n",
    "else :\n",
    "    print(\"Invalid month no\")"
   ]
  },
  {
   "cell_type": "code",
   "execution_count": 13,
   "metadata": {},
   "outputs": [
    {
     "name": "stdout",
     "output_type": "stream",
     "text": [
      "enter month name feb\n",
      "28\n"
     ]
    }
   ],
   "source": [
    "month=input(\"enter month name \").strip().lower()\n",
    "mon={\"jan\":31,\"feb\":28,\"mar\":31,\"apr\":30,\"may\":31,\"jun\":30,\"jul\":31,\"aug\":31,\"sep\":30,\"oct\":31,\"nov\":30\n",
    "     ,\"dec\":31}\n",
    "print(mon.get(month,\"invalid\"))"
   ]
  },
  {
   "cell_type": "code",
   "execution_count": 4,
   "metadata": {},
   "outputs": [
    {
     "name": "stdout",
     "output_type": "stream",
     "text": [
      "enter month name may\n",
      "31\n"
     ]
    }
   ],
   "source": [
    "month=input(\"enter month name \").strip().lower()\n",
    "mon={\"jan\":31,\"feb\":28,\"mar\":31,\"apr\":30,\"may\":31,\"jun\":30,\"jul\":31,\"aug\":31,\"sep\":30,\"oct\":31,\"nov\":30\n",
    "     ,\"dec\":31}\n",
    "if month in mon :\n",
    "    print(mon[month])\n",
    "else :\n",
    "    print(\"invalid\")"
   ]
  },
  {
   "cell_type": "code",
   "execution_count": 12,
   "metadata": {},
   "outputs": [],
   "source": [
    "# Rock ,paper ,scissor GAME"
   ]
  },
  {
   "cell_type": "code",
   "execution_count": 11,
   "metadata": {},
   "outputs": [
    {
     "name": "stdout",
     "output_type": "stream",
     "text": [
      "Player 1 choice : ········\n",
      "player 2 choice : ········\n",
      "match tie\n"
     ]
    }
   ],
   "source": [
    "p1_win =[(\"rock\",\"scissor\"),(\"paper\",\"rock\"),(\"scissor\",\"paper\")]\n",
    "p2_win = [(\"rock\",\"paper\"),(\"paper\",\"scissor\"),(\"scissor\",\"rock\")]\n",
    "from getpass import getpass\n",
    "ch1 = getpass(\"Player 1 choice : \").strip().lower()\n",
    "ch2 = getpass(\"player 2 choice : \").strip().lower() \n",
    "if ch1 == ch2 :\n",
    "    print(\"match tie\")\n",
    "elif (ch1,ch2) in p1_win :\n",
    "    print(f\"player 1 choice {ch1}\")\n",
    "    print(f\"player 2 choice {ch2}\")\n",
    "    print(\"player 1 has won the game\")\n",
    "elif (ch1,ch2) in p2_win :\n",
    "    print(f\"player 1 choice {ch1}\")\n",
    "    print(f\"player 2 choice {ch2}\")\n",
    "    print(\"player 2 has won the game\")\n",
    "else :\n",
    "    print(\"invalid choices\")\n",
    "    \n",
    "    "
   ]
  },
  {
   "cell_type": "code",
   "execution_count": 8,
   "metadata": {},
   "outputs": [
    {
     "name": "stdout",
     "output_type": "stream",
     "text": [
      " 1  hello world \n",
      " 2  hello world \n",
      " 3  hello world \n",
      " 4  hello world \n",
      " 5  hello world \n",
      " 6  hello world \n",
      " 7  hello world \n",
      " 8  hello world \n",
      " 9  hello world \n",
      " 10  hello world \n"
     ]
    }
   ],
   "source": [
    "x = 1\n",
    "while x <= 10 : # called as expression as involve operands and comparison operators\n",
    "    print(f\" {x}  hello world \",sep=\"/n\")\n",
    "    x=x+1"
   ]
  },
  {
   "cell_type": "code",
   "execution_count": 17,
   "metadata": {},
   "outputs": [
    {
     "name": "stdout",
     "output_type": "stream",
     "text": [
      "10     \t100\n",
      "9      \t81\n",
      "8      \t64\n",
      "7      \t49\n",
      "6      \t36\n",
      "5      \t25\n",
      "4      \t16\n",
      "3      \t9\n",
      "2      \t4\n",
      "1      \t1\n"
     ]
    }
   ],
   "source": [
    "x=10\n",
    "while x > 0 :\n",
    "    print(f\"{x:<6} \",x*x,sep=\"\\t\") # {x:<6} pints in space of 6\n",
    "    x =x-1"
   ]
  },
  {
   "cell_type": "code",
   "execution_count": 25,
   "metadata": {},
   "outputs": [
    {
     "name": "stdout",
     "output_type": "stream",
     "text": [
      "enter no to print table : 5\n",
      "0     + 5     =     5\n",
      "5     + 5     =    10\n",
      "10    + 5     =    15\n",
      "15    + 5     =    20\n",
      "20    + 5     =    25\n",
      "25    + 5     =    30\n",
      "30    + 5     =    35\n",
      "35    + 5     =    40\n",
      "40    + 5     =    45\n",
      "45    + 5     =    50\n"
     ]
    }
   ],
   "source": [
    "# to print table of no\n",
    "no = int(input(\"enter no to print table : \"))\n",
    "num = 0\n",
    "num1 = 0\n",
    "while num <10 :\n",
    "    print(f\"{num1:<5} + {no:<5} = {num1 + no:>5}\")\n",
    "    num1 = num1 + no\n",
    "    num = num + 1\n",
    "    "
   ]
  },
  {
   "cell_type": "code",
   "execution_count": 7,
   "metadata": {},
   "outputs": [
    {
     "name": "stdout",
     "output_type": "stream",
     "text": [
      "enter no of terms to print : 6\n",
      "0, 1, 1, 2, 3, 5, "
     ]
    }
   ],
   "source": [
    "#fabonnici 0 1 1 2 3 5 8 .....\n",
    "no = int(input(\"enter no of terms to print : \"))\n",
    "s = 0\n",
    "c=1\n",
    "e = 1\n",
    "print(s,e,sep=\", \",end=\", \")\n",
    "while c <= no-2: # as two terms are printed already\n",
    "    print(s+e,end=\", \")\n",
    "    s,e=e,s+e\n",
    "    \n",
    "    c=c+1\n"
   ]
  },
  {
   "cell_type": "code",
   "execution_count": 3,
   "metadata": {},
   "outputs": [
    {
     "name": "stdout",
     "output_type": "stream",
     "text": [
      "6\n",
      "5\n"
     ]
    }
   ],
   "source": [
    "# swap two no with third variable\n",
    "x=5\n",
    "y=6\n",
    "tmp = x\n",
    "x=y\n",
    "y =tmp\n",
    "print(x)\n",
    "print(y)"
   ]
  },
  {
   "cell_type": "code",
   "execution_count": 5,
   "metadata": {},
   "outputs": [
    {
     "name": "stdout",
     "output_type": "stream",
     "text": [
      "enter a no a : 5\n",
      "enter a no b : 6\n",
      "no a is 6\n",
      "no b is 5\n"
     ]
    }
   ],
   "source": [
    "# swap two no without using third variable\n",
    "a = int(input(\"enter a no a : \"))\n",
    "b = int(input(\"enter a no b : \"))\n",
    "a=a+b\n",
    "b=a-b\n",
    "a=a-b\n",
    "print(f\"no a is {a}\")\n",
    "print(f\"no b is {b}\")"
   ]
  },
  {
   "cell_type": "code",
   "execution_count": 1,
   "metadata": {},
   "outputs": [
    {
     "name": "stdout",
     "output_type": "stream",
     "text": [
      "bye\n"
     ]
    }
   ],
   "source": [
    "while False :\n",
    "    print(\"hello\")\n",
    "else :\n",
    "    print(\"bye\")"
   ]
  },
  {
   "cell_type": "code",
   "execution_count": 2,
   "metadata": {},
   "outputs": [
    {
     "name": "stdout",
     "output_type": "stream",
     "text": [
      "1. hello world\n",
      "2. hello world\n",
      "3. hello world\n",
      "4. hello world\n",
      "bye world\n"
     ]
    }
   ],
   "source": [
    "c = 1\n",
    "while c < 5 :\n",
    "    print(f\"{c}. hello world\")\n",
    "    c += 1\n",
    "else :             # else only works only when condition is false\n",
    "    print(\"bye world\")"
   ]
  },
  {
   "cell_type": "code",
   "execution_count": 3,
   "metadata": {},
   "outputs": [
    {
     "name": "stdout",
     "output_type": "stream",
     "text": [
      "hello\n"
     ]
    }
   ],
   "source": [
    "while True :\n",
    "    print(\"hello\")\n",
    "    break"
   ]
  },
  {
   "cell_type": "code",
   "execution_count": 4,
   "metadata": {},
   "outputs": [
    {
     "name": "stdout",
     "output_type": "stream",
     "text": [
      "hello world 0\n",
      "hello world 2\n",
      "hello world 4\n",
      "hello world 6\n",
      "hello world 8\n",
      "hello world 10\n",
      "all good\n"
     ]
    }
   ],
   "source": [
    "c = 0\n",
    "while c <=10 :\n",
    "    if c % 2 :\n",
    "        break\n",
    "    print(f\"hello world {c}\")\n",
    "    c=c+2\n",
    "else :\n",
    "    print(\"all good\")\n",
    "        "
   ]
  },
  {
   "cell_type": "code",
   "execution_count": 5,
   "metadata": {},
   "outputs": [],
   "source": [
    "c = 0\n",
    "while c <=10 :\n",
    "    if c % 2 == 0 :\n",
    "        break\n",
    "    print(f\"hello world {c}\") \n",
    "    c=c+2\n",
    "else :\n",
    "    print(\"all good\")\n",
    " # none result as else only work when condition is false  here condition is true not false(c%2==0)"
   ]
  },
  {
   "cell_type": "code",
   "execution_count": 6,
   "metadata": {},
   "outputs": [
    {
     "name": "stdout",
     "output_type": "stream",
     "text": [
      "1. hello world\n",
      "2. hello world\n",
      "3. hello world\n",
      "4. hello world\n",
      "bye world\n"
     ]
    }
   ],
   "source": [
    "c = 1\n",
    "while c < 5 :\n",
    "    print(f\"{c}. hello world\")\n",
    "    c += 1\n",
    "    continue\n",
    "else :            \n",
    "    print(\"bye world\")"
   ]
  },
  {
   "cell_type": "code",
   "execution_count": 7,
   "metadata": {},
   "outputs": [],
   "source": [
    "# Guess game\n",
    "from random import randint"
   ]
  },
  {
   "cell_type": "code",
   "execution_count": 8,
   "metadata": {},
   "outputs": [
    {
     "data": {
      "text/plain": [
       "46"
      ]
     },
     "execution_count": 8,
     "metadata": {},
     "output_type": "execute_result"
    }
   ],
   "source": [
    "randint(1,50)"
   ]
  },
  {
   "cell_type": "code",
   "execution_count": 10,
   "metadata": {},
   "outputs": [
    {
     "name": "stdout",
     "output_type": "stream",
     "text": [
      "p\n",
      "y\n",
      "t\n",
      "h\n",
      "o\n",
      "n\n",
      "Bye\n"
     ]
    }
   ],
   "source": [
    "s=\"python\"\n",
    "for var in s :\n",
    "    print(var)\n",
    "else :\n",
    "    print(\"Bye\")"
   ]
  },
  {
   "cell_type": "code",
   "execution_count": 17,
   "metadata": {},
   "outputs": [
    {
     "name": "stdout",
     "output_type": "stream",
     "text": [
      "1\n",
      "2\n",
      "3\n",
      "helo\n",
      "hi\n",
      "bye\n",
      "all items are printed\n"
     ]
    }
   ],
   "source": [
    "for item in [1,2,3,\"helo\",\"hi\",\"bye\"] :\n",
    "    print(item)\n",
    "else :\n",
    "    print(\"all items are printed\")"
   ]
  },
  {
   "cell_type": "code",
   "execution_count": 12,
   "metadata": {},
   "outputs": [
    {
     "data": {
      "text/plain": [
       "[(0, 'p'), (1, 'y'), (2, 't'), (3, 'h'), (4, 'o'), (5, 'n')]"
      ]
     },
     "execution_count": 12,
     "metadata": {},
     "output_type": "execute_result"
    }
   ],
   "source": [
    "list(enumerate(\"python\"))"
   ]
  },
  {
   "cell_type": "code",
   "execution_count": 14,
   "metadata": {},
   "outputs": [
    {
     "name": "stdout",
     "output_type": "stream",
     "text": [
      "one = 1\n",
      "two = 2\n"
     ]
    }
   ],
   "source": [
    "d={\"one\":1,\"two\":2}\n",
    "for key in d :\n",
    "    print(key,\"=\",d[key]) # to print values d[key]"
   ]
  },
  {
   "cell_type": "code",
   "execution_count": 19,
   "metadata": {},
   "outputs": [
    {
     "name": "stdout",
     "output_type": "stream",
     "text": [
      "130\n",
      "2\n",
      "4\n",
      "6\n",
      "8\n",
      "132\n",
      "88\n"
     ]
    }
   ],
   "source": [
    "for item in {1,2,3,4,65,66,44} :\n",
    "    print(item*2)"
   ]
  },
  {
   "cell_type": "code",
   "execution_count": 14,
   "metadata": {},
   "outputs": [],
   "source": [
    "from random import randint \n",
    "\n",
    "l = [ randint(1,50) for var in range(10)]"
   ]
  },
  {
   "cell_type": "code",
   "execution_count": 15,
   "metadata": {},
   "outputs": [
    {
     "data": {
      "text/plain": [
       "[43, 1, 2, 32, 23, 23, 29, 23, 11, 29]"
      ]
     },
     "execution_count": 15,
     "metadata": {},
     "output_type": "execute_result"
    }
   ],
   "source": [
    "l"
   ]
  },
  {
   "cell_type": "code",
   "execution_count": 16,
   "metadata": {},
   "outputs": [],
   "source": [
    "s1=[]\n",
    "for item in l :\n",
    "    s1.append(item**2)"
   ]
  },
  {
   "cell_type": "code",
   "execution_count": 17,
   "metadata": {},
   "outputs": [
    {
     "data": {
      "text/plain": [
       "[1849, 1, 4, 1024, 529, 529, 841, 529, 121, 841]"
      ]
     },
     "execution_count": 17,
     "metadata": {},
     "output_type": "execute_result"
    }
   ],
   "source": [
    "s1"
   ]
  },
  {
   "cell_type": "code",
   "execution_count": 18,
   "metadata": {},
   "outputs": [
    {
     "name": "stdout",
     "output_type": "stream",
     "text": [
      "1 2 3 4 5 6 7 8 9\n"
     ]
    }
   ],
   "source": [
    "print(*range(1,10))  # start to end-1"
   ]
  },
  {
   "cell_type": "code",
   "execution_count": 19,
   "metadata": {},
   "outputs": [
    {
     "name": "stdout",
     "output_type": "stream",
     "text": [
      "-10 -9 -8 -7 -6\n"
     ]
    }
   ],
   "source": [
    "print(*range(-10,-5))"
   ]
  },
  {
   "cell_type": "code",
   "execution_count": 20,
   "metadata": {},
   "outputs": [
    {
     "name": "stdout",
     "output_type": "stream",
     "text": [
      "13 26 39 52 65 78 91 104 117 130\n"
     ]
    }
   ],
   "source": [
    "print(*range(13,131,13))"
   ]
  },
  {
   "cell_type": "code",
   "execution_count": 1,
   "metadata": {},
   "outputs": [
    {
     "name": "stdout",
     "output_type": "stream",
     "text": [
      "1 2\n",
      "x =  1\n",
      "y =  2\n"
     ]
    }
   ],
   "source": [
    "# map(func,sequence)\n",
    "x,y = map(int,input().split())\n",
    "print(\"x = \" , x)\n",
    "print(\"y = \", y)"
   ]
  },
  {
   "cell_type": "code",
   "execution_count": 2,
   "metadata": {},
   "outputs": [
    {
     "name": "stdout",
     "output_type": "stream",
     "text": [
      "remove 5\n"
     ]
    }
   ],
   "source": [
    "x = input().split()"
   ]
  },
  {
   "cell_type": "code",
   "execution_count": 3,
   "metadata": {},
   "outputs": [
    {
     "data": {
      "text/plain": [
       "['remove', '5']"
      ]
     },
     "execution_count": 3,
     "metadata": {},
     "output_type": "execute_result"
    }
   ],
   "source": [
    "x"
   ]
  },
  {
   "cell_type": "code",
   "execution_count": 4,
   "metadata": {},
   "outputs": [
    {
     "name": "stdout",
     "output_type": "stream",
     "text": [
      "remove 5\n",
      "5\n"
     ]
    }
   ],
   "source": [
    "x = input().split()\n",
    "if x[0] == \"remove\" :\n",
    "    print(x[1])\n",
    "else :\n",
    "    print(x)"
   ]
  },
  {
   "cell_type": "code",
   "execution_count": null,
   "metadata": {},
   "outputs": [],
   "source": []
  }
 ],
 "metadata": {
  "kernelspec": {
   "display_name": "Python 3",
   "language": "python",
   "name": "python3"
  }
 },
 "nbformat": 4,
 "nbformat_minor": 2
}
