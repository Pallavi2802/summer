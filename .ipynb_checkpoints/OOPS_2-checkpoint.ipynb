{
 "cells": [
  {
   "cell_type": "code",
   "execution_count": null,
   "metadata": {},
   "outputs": [],
   "source": [
    "class Rectangle:\n",
    "    def__init__(self,height,width,color,pos=[0,0]):\n",
    "        self.height=height\n",
    "        self.width=width\n",
    "        self.color=color\n",
    "        self.pos=pos\n",
    "    def change(self):\n",
    "        "
   ]
  },
  {
   "cell_type": "code",
   "execution_count": 10,
   "metadata": {},
   "outputs": [],
   "source": [
    "class One:\n",
    "    pub =\"public variable\"\n",
    "    _pro=\"protected variable\"\n",
    "    __priv=\"private variable\"\n",
    "    def __init__(self): # non parametrised constructor\n",
    "        print(\"That the object is constructed\")\n",
    "    def show():\n",
    "        print(One.pub)\n",
    "        print(One._pro)\n",
    "        print(One.__priv)\n",
    "    def change():\n",
    "        One.pub=input(\"new value of public variable : \")\n",
    "        One._pro=input(\"new value of protected variable  :\")\n",
    "        One.__priv=input(\"new value of private variable :\")\n",
    "        \n",
    "        "
   ]
  },
  {
   "cell_type": "code",
   "execution_count": 12,
   "metadata": {},
   "outputs": [
    {
     "name": "stdout",
     "output_type": "stream",
     "text": [
      "That the object is constructed\n"
     ]
    }
   ],
   "source": [
    "\n",
    "obj1 = One()\n"
   ]
  },
  {
   "cell_type": "code",
   "execution_count": 13,
   "metadata": {},
   "outputs": [
    {
     "name": "stdout",
     "output_type": "stream",
     "text": [
      "public variable\n",
      "protected variable\n",
      "private variable\n"
     ]
    }
   ],
   "source": [
    "One.show()"
   ]
  },
  {
   "cell_type": "code",
   "execution_count": 36,
   "metadata": {},
   "outputs": [],
   "source": [
    "class Marks:\n",
    "    \"\"\" this is student class \"\"\"\n",
    "    x = 0\n",
    "    _y = 0\n",
    "    __z = 0\n",
    "    def __init__(self,name,course):\n",
    "        self.name=name\n",
    "        self.course=course\n",
    "    def show(self) :\n",
    "        print(\"the name of student is \",self.name)\n",
    "        print(\"the course of student is \",self.course)\n",
    "        print(self.x)\n",
    "        print(self._y)\n",
    "        print(self.__z)\n",
    "    def change(self):\n",
    "        self.x=input(\"enter the marks : \")\n",
    "        self._y=input(\"enter another marks \")\n",
    "        self.__z=input(\"enter marks \")\n",
    "        \n",
    "    def __str__(self):\n",
    "        return \"{}\".format(self.name)"
   ]
  },
  {
   "cell_type": "code",
   "execution_count": 39,
   "metadata": {},
   "outputs": [],
   "source": [
    "ob = Marks(\"pallavi\",\"python\")"
   ]
  },
  {
   "cell_type": "code",
   "execution_count": 40,
   "metadata": {},
   "outputs": [
    {
     "name": "stdout",
     "output_type": "stream",
     "text": [
      "the name of student is  pallavi\n",
      "the course of student is  python\n",
      "0\n",
      "0\n",
      "0\n"
     ]
    }
   ],
   "source": [
    "ob.show()"
   ]
  },
  {
   "cell_type": "code",
   "execution_count": 41,
   "metadata": {},
   "outputs": [
    {
     "name": "stdout",
     "output_type": "stream",
     "text": [
      "enter the marks : 34\n",
      "enter another marks 56\n",
      "enter marks 78\n"
     ]
    }
   ],
   "source": [
    "ob.change()"
   ]
  },
  {
   "cell_type": "code",
   "execution_count": 42,
   "metadata": {},
   "outputs": [
    {
     "name": "stdout",
     "output_type": "stream",
     "text": [
      "the name of student is  pallavi\n",
      "the course of student is  python\n",
      "34\n",
      "56\n",
      "78\n"
     ]
    }
   ],
   "source": [
    "ob.show()"
   ]
  },
  {
   "cell_type": "code",
   "execution_count": 43,
   "metadata": {},
   "outputs": [
    {
     "data": {
      "text/plain": [
       "mappingproxy({'__module__': '__main__',\n",
       "              '__doc__': ' this is student class ',\n",
       "              'x': 0,\n",
       "              '_y': 0,\n",
       "              '_Marks__z': 0,\n",
       "              '__init__': <function __main__.Marks.__init__(self, name, course)>,\n",
       "              'show': <function __main__.Marks.show(self)>,\n",
       "              'change': <function __main__.Marks.change(self)>,\n",
       "              '__str__': <function __main__.Marks.__str__(self)>,\n",
       "              '__dict__': <attribute '__dict__' of 'Marks' objects>,\n",
       "              '__weakref__': <attribute '__weakref__' of 'Marks' objects>})"
      ]
     },
     "execution_count": 43,
     "metadata": {},
     "output_type": "execute_result"
    }
   ],
   "source": [
    "Marks.__dict__"
   ]
  },
  {
   "cell_type": "code",
   "execution_count": 44,
   "metadata": {},
   "outputs": [
    {
     "name": "stdout",
     "output_type": "stream",
     "text": [
      "pallavi\n"
     ]
    }
   ],
   "source": [
    "print(ob)"
   ]
  },
  {
   "cell_type": "code",
   "execution_count": 48,
   "metadata": {},
   "outputs": [],
   "source": [
    "ob1=Marks(\"aviral\",\"DeVOps\")"
   ]
  },
  {
   "cell_type": "code",
   "execution_count": 49,
   "metadata": {},
   "outputs": [
    {
     "name": "stdout",
     "output_type": "stream",
     "text": [
      "aviral\n"
     ]
    }
   ],
   "source": [
    "print(ob1)"
   ]
  },
  {
   "cell_type": "markdown",
   "metadata": {},
   "source": [
    "# Inheritance"
   ]
  },
  {
   "cell_type": "markdown",
   "metadata": {},
   "source": [
    "## 1 . Single\n",
    "## 2 . Multiple\n",
    "## 3 . Multilevel\n",
    "## 4 . Heriarchical\n",
    "## 5 . Hybrid"
   ]
  },
  {
   "cell_type": "markdown",
   "metadata": {},
   "source": [
    "## single"
   ]
  },
  {
   "cell_type": "code",
   "execution_count": 52,
   "metadata": {},
   "outputs": [],
   "source": [
    "class Parent:\n",
    "    def __init__(self,name):\n",
    "        self.name=name\n",
    "class child(Parent):\n",
    "    def __init__(self,name,cname) :\n",
    "        super().__init__(name)\n",
    "        self.cname=cname\n",
    "    def show(self) :\n",
    "        print(\"the name of parent is \",self.name)\n",
    "        print(\"the name of child is \",self.cname)"
   ]
  },
  {
   "cell_type": "code",
   "execution_count": 53,
   "metadata": {},
   "outputs": [],
   "source": [
    "c1=child(\"riya\",\"raghav\")"
   ]
  },
  {
   "cell_type": "code",
   "execution_count": 54,
   "metadata": {},
   "outputs": [
    {
     "name": "stdout",
     "output_type": "stream",
     "text": [
      "the name of parent is  riya\n",
      "the name of child is  raghav\n"
     ]
    }
   ],
   "source": [
    "c1.show()"
   ]
  },
  {
   "cell_type": "code",
   "execution_count": 55,
   "metadata": {},
   "outputs": [],
   "source": [
    "class Rectangle:\n",
    "    def __init__(self,height,width,color):\n",
    "        self.height=height\n",
    "        self.width=width\n",
    "        self.color=color\n",
    "    def show(self):\n",
    "        print(\"height is \",self.height)\n",
    "        print(\"width is \",self.width)\n",
    "        print(\"color is \",self.color)\n",
    "    def __str__(self):\n",
    "        return f\"{self.color}\""
   ]
  },
  {
   "cell_type": "code",
   "execution_count": 57,
   "metadata": {},
   "outputs": [],
   "source": [
    "class Calculation(Rectangle):\n",
    "    def area(self):\n",
    "        print(\"the area is \",self.height*self.width)\n",
    "    def perimeter(self):\n",
    "        print(\"the perimeter is \",self.height*2+self.width*2)\n",
    "    def __init__(self,height,width,color):\n",
    "        pass"
   ]
  },
  {
   "cell_type": "code",
   "execution_count": 80,
   "metadata": {},
   "outputs": [],
   "source": [
    "class Polygon:\n",
    "    def __init__(self,sides=0):\n",
    "        self.n=int(input(\"enter no of sides:  \"))\n",
    "        self.sides=[0  for var in range(self.n)]\n",
    "    def set(self):\n",
    "        self.sides=[input(\"side : \") for var in range(self.n)]\n",
    "    def show(self):\n",
    "        print(\"the sides are : \")\n",
    "        for var in range(self.n) :\n",
    "            print(self.sides)\n",
    "            break"
   ]
  },
  {
   "cell_type": "code",
   "execution_count": 81,
   "metadata": {},
   "outputs": [
    {
     "name": "stdout",
     "output_type": "stream",
     "text": [
      "enter no of sides:  4\n"
     ]
    }
   ],
   "source": [
    "ob = Polygon()"
   ]
  },
  {
   "cell_type": "code",
   "execution_count": 82,
   "metadata": {},
   "outputs": [
    {
     "name": "stdout",
     "output_type": "stream",
     "text": [
      "side : 3\n",
      "side : 5\n",
      "side : 6\n",
      "side : 8\n"
     ]
    }
   ],
   "source": [
    "ob.set()"
   ]
  },
  {
   "cell_type": "code",
   "execution_count": 83,
   "metadata": {},
   "outputs": [
    {
     "name": "stdout",
     "output_type": "stream",
     "text": [
      "['3', '5', '6', '8']\n"
     ]
    }
   ],
   "source": [
    "ob.show()"
   ]
  },
  {
   "cell_type": "code",
   "execution_count": null,
   "metadata": {},
   "outputs": [],
   "source": [
    "class Rectangle(Polygon):\n",
    "    def __init__(self,sides):\n",
    "        super().__init__(sides)\n",
    "    def show(self):\n",
    "        print(self.sides)\n",
    "    def perimeter(self):\n",
    "        s=0\n",
    "        for i in self.sides()\n",
    "           s= s + i\n",
    "        "
   ]
  }
 ],
 "metadata": {
  "kernelspec": {
   "display_name": "Python 3",
   "language": "python",
   "name": "python3"
  },
  "language_info": {
   "codemirror_mode": {
    "name": "ipython",
    "version": 3
   },
   "file_extension": ".py",
   "mimetype": "text/x-python",
   "name": "python",
   "nbconvert_exporter": "python",
   "pygments_lexer": "ipython3",
   "version": "3.7.3"
  }
 },
 "nbformat": 4,
 "nbformat_minor": 2
}
