{
 "cells": [
  {
   "cell_type": "code",
   "execution_count": 1,
   "metadata": {},
   "outputs": [
    {
     "name": "stdout",
     "output_type": "stream",
     "text": [
      "Enter a number : 6\n",
      "*  ****\n",
      "*  *\n",
      "*  *\n",
      "*******\n",
      "   *  *\n",
      "   *  *\n",
      "****  *\n"
     ]
    }
   ],
   "source": [
    "# Swastik sign \n",
    "\n",
    "num = int(input(\"Enter a number : \"))\n",
    "if num % 2 == 0 : \n",
    "    num += 1\n",
    "\n",
    "for row in range(1,num+1) : \n",
    "    for col in range(1,num+1) : \n",
    "        if row == 1 : \n",
    "            if col == 1 : \n",
    "                print(\"*\",end='')\n",
    "            elif col <= num // 2  :\n",
    "                print(\" \",end='')\n",
    "            else : \n",
    "                print(\"*\",end='')\n",
    "        elif row <= num // 2 : \n",
    "            if col == 1 or col == num//2 + 1 : \n",
    "                print(\"*\",end='')\n",
    "            elif col <= num // 2 : \n",
    "                print(\" \",end='')\n",
    "        elif row == num//2 + 1 : \n",
    "            print(\"*\",end='')\n",
    "        elif row <= num - 1  : \n",
    "            if col <= num // 2 : \n",
    "                print(\" \",end='')\n",
    "            elif col == num // 2 + 1 : \n",
    "                print(\"*\",end='')\n",
    "            elif col < num : \n",
    "                print(\" \",end='')\n",
    "            else : \n",
    "                print('*',end='')\n",
    "        else : \n",
    "            if col <= num // 2 + 1 : \n",
    "                print(\"*\",end='')\n",
    "            elif col < num : \n",
    "                print(\" \",end='')\n",
    "\n",
    "            else:\n",
    "                print(\"*\",end='')\n",
    "    print()"
   ]
  },
  {
   "cell_type": "code",
   "execution_count": 7,
   "metadata": {},
   "outputs": [],
   "source": [
    "t=(42) # integer"
   ]
  },
  {
   "cell_type": "code",
   "execution_count": 8,
   "metadata": {},
   "outputs": [
    {
     "name": "stdout",
     "output_type": "stream",
     "text": [
      "<class 'int'>\n"
     ]
    }
   ],
   "source": [
    "print(type(t))"
   ]
  },
  {
   "cell_type": "code",
   "execution_count": 9,
   "metadata": {},
   "outputs": [],
   "source": [
    "t=(42,) # tuple"
   ]
  },
  {
   "cell_type": "code",
   "execution_count": 10,
   "metadata": {},
   "outputs": [
    {
     "name": "stdout",
     "output_type": "stream",
     "text": [
      "<class 'tuple'>\n"
     ]
    }
   ],
   "source": [
    "print(type(t))"
   ]
  },
  {
   "cell_type": "code",
   "execution_count": 11,
   "metadata": {},
   "outputs": [
    {
     "data": {
      "text/plain": [
       "(42,)"
      ]
     },
     "execution_count": 11,
     "metadata": {},
     "output_type": "execute_result"
    }
   ],
   "source": [
    "t"
   ]
  },
  {
   "cell_type": "code",
   "execution_count": 12,
   "metadata": {},
   "outputs": [],
   "source": [
    "import copy"
   ]
  },
  {
   "cell_type": "code",
   "execution_count": 28,
   "metadata": {},
   "outputs": [],
   "source": [
    "l = [ 1,2,3,['hello','hi'] ]"
   ]
  },
  {
   "cell_type": "code",
   "execution_count": 29,
   "metadata": {},
   "outputs": [
    {
     "data": {
      "text/plain": [
       "799191314248"
      ]
     },
     "execution_count": 29,
     "metadata": {},
     "output_type": "execute_result"
    }
   ],
   "source": [
    "id(l)"
   ]
  },
  {
   "cell_type": "code",
   "execution_count": 30,
   "metadata": {},
   "outputs": [],
   "source": [
    "l1 = l"
   ]
  },
  {
   "cell_type": "code",
   "execution_count": 31,
   "metadata": {},
   "outputs": [
    {
     "data": {
      "text/plain": [
       "799191314248"
      ]
     },
     "execution_count": 31,
     "metadata": {},
     "output_type": "execute_result"
    }
   ],
   "source": [
    "id(l1)"
   ]
  },
  {
   "cell_type": "code",
   "execution_count": 32,
   "metadata": {},
   "outputs": [],
   "source": [
    "l.append(5)"
   ]
  },
  {
   "cell_type": "code",
   "execution_count": 33,
   "metadata": {},
   "outputs": [
    {
     "data": {
      "text/plain": [
       "[1, 2, 3, ['hello', 'hi'], 5]"
      ]
     },
     "execution_count": 33,
     "metadata": {},
     "output_type": "execute_result"
    }
   ],
   "source": [
    "l"
   ]
  },
  {
   "cell_type": "code",
   "execution_count": 34,
   "metadata": {},
   "outputs": [
    {
     "data": {
      "text/plain": [
       "[1, 2, 3, ['hello', 'hi'], 5]"
      ]
     },
     "execution_count": 34,
     "metadata": {},
     "output_type": "execute_result"
    }
   ],
   "source": [
    "l1"
   ]
  },
  {
   "cell_type": "code",
   "execution_count": 36,
   "metadata": {},
   "outputs": [
    {
     "data": {
      "text/plain": [
       "799191687432"
      ]
     },
     "execution_count": 36,
     "metadata": {},
     "output_type": "execute_result"
    }
   ],
   "source": [
    "l1 = copy.copy(l1) # shallow copy\n",
    "id(l1)"
   ]
  },
  {
   "cell_type": "code",
   "execution_count": 25,
   "metadata": {},
   "outputs": [
    {
     "name": "stdout",
     "output_type": "stream",
     "text": [
      "[1, 2, 3, 4, 5, 6, 7, 8, 9, 10, 11, 12, 13, 14, 15, 16, 17, 18, 19, 20, 21, 22, 23, 24, 25, 26, 27, 28, 29, 30, 31, 32, 33, 34, 35, 36, 37, 38, 39, 40, 41, 42, 43, 44, 45, 46, 47, 48, 49, 50, 51]\n"
     ]
    }
   ],
   "source": [
    " # shuffle deck of cards # you can specify acc to u which no is which card\n",
    "from random import randint\n",
    "d=[var for var in range(1,52)]\n",
    "print(d)"
   ]
  },
  {
   "cell_type": "code",
   "execution_count": 26,
   "metadata": {},
   "outputs": [
    {
     "name": "stdout",
     "output_type": "stream",
     "text": [
      "[4, 1, 45, 21, 6, 26, 25, 28, 2, 30, 11, 34, 44, 24, 23, 10, 47, 35, 12, 37, 13, 39, 22, 17, 29, 42, 3, 18, 15, 43, 51, 31, 8, 41, 19, 50, 16, 33, 38, 9, 40, 48, 20, 36, 32, 14, 5, 27, 46, 49, 7]\n"
     ]
    }
   ],
   "source": [
    "from random import shuffle\n",
    "shuffle(d)\n",
    "print(d)"
   ]
  },
  {
   "cell_type": "code",
   "execution_count": 27,
   "metadata": {},
   "outputs": [
    {
     "name": "stdout",
     "output_type": "stream",
     "text": [
      "enter a no 7\n",
      "enter a no 9\n",
      "1\n"
     ]
    }
   ],
   "source": [
    "# GCD --> HCF\n",
    "a=int(input(\"enter a no \"))\n",
    "b=int(input(\"enter a no \"))\n",
    "\n",
    "if a >b :\n",
    "    a,b=b,a\n",
    "\n",
    "def gcd(a,b) :\n",
    "    if a :\n",
    "        return gcd(b%a,a)\n",
    "    else :\n",
    "        return b\n",
    "r=gcd(a,b)\n",
    "print(r)"
   ]
  },
  {
   "cell_type": "code",
   "execution_count": null,
   "metadata": {},
   "outputs": [],
   "source": []
  }
 ],
 "metadata": {
  "kernelspec": {
   "display_name": "Python 3",
   "language": "python",
   "name": "python3"
  },
  "language_info": {
   "codemirror_mode": {
    "name": "ipython",
    "version": 3
   },
   "file_extension": ".py",
   "mimetype": "text/x-python",
   "name": "python",
   "nbconvert_exporter": "python",
   "pygments_lexer": "ipython3",
   "version": "3.7.3"
  }
 },
 "nbformat": 4,
 "nbformat_minor": 2
}
