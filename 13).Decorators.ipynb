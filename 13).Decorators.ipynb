{
 "cells": [
  {
   "cell_type": "code",
   "execution_count": 1,
   "metadata": {},
   "outputs": [],
   "source": [
    "def hi() :\n",
    "    def hello() :\n",
    "        print(\"hello world\")\n",
    "    return hello()"
   ]
  },
  {
   "cell_type": "code",
   "execution_count": 2,
   "metadata": {},
   "outputs": [
    {
     "name": "stdout",
     "output_type": "stream",
     "text": [
      "hello world\n"
     ]
    }
   ],
   "source": [
    "hi()"
   ]
  },
  {
   "cell_type": "code",
   "execution_count": 5,
   "metadata": {},
   "outputs": [],
   "source": [
    "def add(x,y):\n",
    "    def add1():\n",
    "        print(\"the addition of two no is \",x+y)\n",
    "    return add1()"
   ]
  },
  {
   "cell_type": "code",
   "execution_count": 6,
   "metadata": {},
   "outputs": [
    {
     "name": "stdout",
     "output_type": "stream",
     "text": [
      "enter any no 3\n",
      "enter another no 4\n",
      "the addition of two no is  7\n"
     ]
    }
   ],
   "source": [
    "x=int(input(\"enter any no \"))\n",
    "y=int(input(\"enter another no \"))\n",
    "add(x,y)"
   ]
  },
  {
   "cell_type": "code",
   "execution_count": 7,
   "metadata": {},
   "outputs": [],
   "source": [
    "def printmsg(msg) :\n",
    "    def msg1() :\n",
    "        print(msg)\n",
    "    return msg1"
   ]
  },
  {
   "cell_type": "code",
   "execution_count": 8,
   "metadata": {},
   "outputs": [
    {
     "name": "stdout",
     "output_type": "stream",
     "text": [
      "enter any message : hry\n",
      "hry\n"
     ]
    }
   ],
   "source": [
    "m1=printmsg(input(\"enter any message : \"))\n",
    "m1()"
   ]
  },
  {
   "cell_type": "code",
   "execution_count": 1,
   "metadata": {},
   "outputs": [],
   "source": [
    "def mul(x):\n",
    "    def mul1(y) :\n",
    "        print(\"the multipliacation is {} \".format(x*y))\n",
    "    return mul1"
   ]
  },
  {
   "cell_type": "code",
   "execution_count": 2,
   "metadata": {},
   "outputs": [
    {
     "name": "stdout",
     "output_type": "stream",
     "text": [
      "Enter any number : 4\n",
      "Enter any second number : 3\n",
      "the multipliacation is 12 \n"
     ]
    }
   ],
   "source": [
    "x = int(input(\"Enter any number : \"))\n",
    "y = int(input(\"Enter any second number : \"))\n",
    "a = mul(x)\n",
    "a(y)"
   ]
  },
  {
   "cell_type": "code",
   "execution_count": 3,
   "metadata": {},
   "outputs": [],
   "source": [
    "del mul # deleting main def doesn't not deletes the inner function defination"
   ]
  },
  {
   "cell_type": "code",
   "execution_count": 6,
   "metadata": {},
   "outputs": [
    {
     "name": "stdout",
     "output_type": "stream",
     "text": [
      "the multipliacation is 24 \n"
     ]
    }
   ],
   "source": [
    "a(6)"
   ]
  },
  {
   "cell_type": "code",
   "execution_count": 7,
   "metadata": {},
   "outputs": [
    {
     "ename": "NameError",
     "evalue": "name 'mul' is not defined",
     "output_type": "error",
     "traceback": [
      "\u001b[1;31m---------------------------------------------------------------------------\u001b[0m",
      "\u001b[1;31mNameError\u001b[0m                                 Traceback (most recent call last)",
      "\u001b[1;32m<ipython-input-7-f937e6347aaa>\u001b[0m in \u001b[0;36m<module>\u001b[1;34m\u001b[0m\n\u001b[1;32m----> 1\u001b[1;33m \u001b[0mmul\u001b[0m\u001b[1;33m(\u001b[0m\u001b[1;36m5\u001b[0m\u001b[1;33m)\u001b[0m\u001b[1;33m\u001b[0m\u001b[1;33m\u001b[0m\u001b[0m\n\u001b[0m",
      "\u001b[1;31mNameError\u001b[0m: name 'mul' is not defined"
     ]
    }
   ],
   "source": [
    "mul(5)"
   ]
  },
  {
   "cell_type": "code",
   "execution_count": 8,
   "metadata": {},
   "outputs": [],
   "source": [
    "def fact() :\n",
    "    def fact1(x) :\n",
    "        s=1\n",
    "        for var in range(1,x+1) :\n",
    "            s = var * s\n",
    "        else :\n",
    "            print(\"the factorial of no is \",s)\n",
    "    return fact1"
   ]
  },
  {
   "cell_type": "code",
   "execution_count": 9,
   "metadata": {},
   "outputs": [
    {
     "name": "stdout",
     "output_type": "stream",
     "text": [
      "enter any no : 9\n",
      "the factorial of no is  362880\n"
     ]
    }
   ],
   "source": [
    "a=int(input(\"enter any no : \"))\n",
    "m=fact()\n",
    "m(a)"
   ]
  },
  {
   "cell_type": "markdown",
   "metadata": {},
   "source": [
    "# Passing function as an argument"
   ]
  },
  {
   "cell_type": "code",
   "execution_count": 10,
   "metadata": {},
   "outputs": [],
   "source": [
    "def inc(x) :\n",
    "    return x+1\n",
    "def dec(x):\n",
    "    return x-1\n",
    "def operate(func,var): # func is used to denote any function and var to any value(argument)\n",
    "    result = func(var)\n",
    "    print(result)\n",
    "    "
   ]
  },
  {
   "cell_type": "code",
   "execution_count": 11,
   "metadata": {},
   "outputs": [
    {
     "name": "stdout",
     "output_type": "stream",
     "text": [
      "8\n"
     ]
    }
   ],
   "source": [
    "operate(dec,9)"
   ]
  },
  {
   "cell_type": "code",
   "execution_count": 32,
   "metadata": {},
   "outputs": [],
   "source": [
    "def square(x):\n",
    "    return x**2\n",
    "def cube(y) :\n",
    "    return x**3\n",
    "def operate(func,var) :\n",
    "    result=func(var)\n",
    "    print(result)"
   ]
  },
  {
   "cell_type": "code",
   "execution_count": 33,
   "metadata": {},
   "outputs": [
    {
     "name": "stdout",
     "output_type": "stream",
     "text": [
      "16\n"
     ]
    }
   ],
   "source": [
    "operate(square,4)"
   ]
  },
  {
   "cell_type": "code",
   "execution_count": 12,
   "metadata": {},
   "outputs": [],
   "source": [
    "def square(l):\n",
    "    sq = []\n",
    "    for var in l:\n",
    "        sq.append(var**2)\n",
    "    return sq\n",
    "def cube(l):\n",
    "    c = []\n",
    "    for var in l:\n",
    "        c.append(var**3)\n",
    "    return c\n",
    "\n",
    "\n",
    "def operate(func,l,x):\n",
    "    result = func(l)\n",
    "    print(result)\n",
    "    l1 = [i+x for i in result ]\n",
    "    print(l1)"
   ]
  },
  {
   "cell_type": "code",
   "execution_count": 16,
   "metadata": {},
   "outputs": [
    {
     "name": "stdout",
     "output_type": "stream",
     "text": [
      "3 4 5 6 7\n",
      "[9, 16, 25, 36, 49]\n",
      "[13, 20, 29, 40, 53]\n"
     ]
    }
   ],
   "source": [
    "l = list(map(int,input().split()))\n",
    "operate(square,l,4)"
   ]
  },
  {
   "cell_type": "markdown",
   "metadata": {},
   "source": [
    "# Decorators"
   ]
  },
  {
   "cell_type": "code",
   "execution_count": 20,
   "metadata": {},
   "outputs": [
    {
     "name": "stdout",
     "output_type": "stream",
     "text": [
      "enter message hey this is pallavi\n",
      "**************************************************\n",
      "--------------------------------------------------\n",
      "hey this is pallavi\n",
      "**************************************************\n",
      "--------------------------------------------------\n"
     ]
    }
   ],
   "source": [
    "def decorate(func) :\n",
    "    def printmsg(msg) :\n",
    "        print(\"*\"*50)\n",
    "        print(\"-\"*50)\n",
    "        result=func(msg)\n",
    "        print(result)\n",
    "        print(\"*\"*50)\n",
    "        print(\"-\"*50)\n",
    "    return printmsg\n",
    "\n",
    "\n",
    "@decorate\n",
    "def msg1(msg):\n",
    "    return msg\n",
    "\n",
    "msg=input(\"enter message \")\n",
    "msg1(msg)"
   ]
  },
  {
   "cell_type": "code",
   "execution_count": 19,
   "metadata": {},
   "outputs": [
    {
     "name": "stdout",
     "output_type": "stream",
     "text": [
      "**************************************************\n",
      "The addition is :  7\n",
      "**************************************************\n",
      "**************************************************\n",
      "The subtraction is :  -1\n",
      "**************************************************\n"
     ]
    }
   ],
   "source": [
    "def decorator(func):\n",
    "    def add1(x,y):\n",
    "        print(\"*\"*50)\n",
    "        func(x,y)\n",
    "        print(\"*\"*50)\n",
    "    return add1\n",
    "@decorator\n",
    "def add(x,y):\n",
    "    print(\"The addition is : \",x+y)\n",
    "    \n",
    "@decorator\n",
    "def sub(x,y):\n",
    "    print(\"The subtraction is : \",x-y)\n",
    "\n",
    "add(3,4)\n",
    "sub(3,4)"
   ]
  },
  {
   "cell_type": "code",
   "execution_count": 40,
   "metadata": {},
   "outputs": [
    {
     "name": "stdout",
     "output_type": "stream",
     "text": [
      "**************************************************\n",
      "the cube of no is :  27\n",
      "**************************************************\n",
      "**************************************************\n",
      "the square of no is  36\n",
      "**************************************************\n"
     ]
    }
   ],
   "source": [
    "def deco(func):\n",
    "    def d(x) :\n",
    "        print(\"*\"*50)\n",
    "        func(x)\n",
    "        print(\"*\"*50)\n",
    "    return d\n",
    "\n",
    "@deco\n",
    "def cube(x) :\n",
    "    print(\"the cube of no is : \",x**3)\n",
    "    \n",
    "    \n",
    "@deco\n",
    "def square(y) :\n",
    "    print(\"the square of no is \",y**2)\n",
    "    \n",
    "    \n",
    "    \n",
    "    \n",
    "cube(3)\n",
    "square(6)"
   ]
  },
  {
   "cell_type": "code",
   "execution_count": 2,
   "metadata": {},
   "outputs": [],
   "source": [
    "import time"
   ]
  },
  {
   "cell_type": "code",
   "execution_count": 3,
   "metadata": {},
   "outputs": [
    {
     "data": {
      "text/plain": [
       "1559147960.9774287"
      ]
     },
     "execution_count": 3,
     "metadata": {},
     "output_type": "execute_result"
    }
   ],
   "source": [
    "time.time() # gives second"
   ]
  },
  {
   "cell_type": "code",
   "execution_count": 4,
   "metadata": {},
   "outputs": [
    {
     "name": "stdout",
     "output_type": "stream",
     "text": [
      "**************************************************\n",
      "**************************************************\n",
      "the start time is : 1559147962.0253751\n",
      "the cube of no is :  842421005898496680384000000000000000000000000000000000000000\n",
      "**************************************************\n",
      "**************************************************\n",
      "the end time is  1559147962.0253751\n",
      "the time taken  0.0\n"
     ]
    }
   ],
   "source": [
    "def intime(func):\n",
    "    def time1(*args,**kwargs):\n",
    "        print(\"*\"*50)\n",
    "        print(\"*\"*50)\n",
    "        start=time.time()\n",
    "        print(\"the start time is :\",start)\n",
    "        result=func(*args,**kwargs)\n",
    "        print(\"*\"*50)\n",
    "        print(\"*\"*50)\n",
    "        end=time.time()\n",
    "        print(\"the end time is \",end)\n",
    "        print(\"the time taken \",end-start)\n",
    "    return time1\n",
    "\n",
    "@intime\n",
    "def cube(x):\n",
    "    print(\"the cube of no is : \",x**3)\n",
    "    \n",
    "    \n",
    "cube(94444440000000000000)"
   ]
  },
  {
   "cell_type": "code",
   "execution_count": 5,
   "metadata": {},
   "outputs": [
    {
     "name": "stdout",
     "output_type": "stream",
     "text": [
      "--------------------------------------------------\n",
      "--------------------------------------------------\n",
      "**************************************************\n",
      "**************************************************\n",
      "the start time is : 1559147967.5964074\n",
      "the cube of no is  125\n",
      "**************************************************\n",
      "**************************************************\n",
      "the end time is  1559147967.5964074\n",
      "the time taken  0.0\n",
      "--------------------------------------------------\n",
      "--------------------------------------------------\n"
     ]
    }
   ],
   "source": [
    "def intime(func):\n",
    "    def time1(*args,**kwargs):\n",
    "        print(\"*\"*50)\n",
    "        print(\"*\"*50)\n",
    "        start=time.time()\n",
    "        print(\"the start time is :\",start)\n",
    "        result=func(*args,**kwargs)\n",
    "        print(\"*\"*50)\n",
    "        print(\"*\"*50)\n",
    "        end=time.time()\n",
    "        print(\"the end time is \",end)\n",
    "        print(\"the time taken \",end-start)\n",
    "    return time1\n",
    "\n",
    "\n",
    "\n",
    "\n",
    "def timein(func):\n",
    "    def time2(*args,**kwargs):\n",
    "        print(\"-\"*50)\n",
    "        print(\"-\"*50)\n",
    "        start=time.time()\n",
    "       # print(\"the start time is :\",start)\n",
    "        result=func(*args,**kwargs)\n",
    "        print(\"-\"*50)\n",
    "        print(\"-\"*50)\n",
    "        end=time.time()\n",
    "        #print(\"the end time is \",end)\n",
    "        #print(\"the time taken \",end-start)\n",
    "    return time2\n",
    "\n",
    "@timein  # 1st it will get executed\n",
    "@intime   # 2nd it will get executed\n",
    "def cube(x):\n",
    "    print(\"the cube of no is \",x**3)\n",
    "\n",
    "\n",
    "cube(5)"
   ]
  },
  {
   "cell_type": "code",
   "execution_count": 28,
   "metadata": {},
   "outputs": [],
   "source": [
    "def intime(func):\n",
    "    def time1(*args,**kwargs):\n",
    "        print(\"*\"*50)\n",
    "        print(\"*\"*50)\n",
    "        start=time.time()\n",
    "        print(\"the start time is :\",start)\n",
    "        result=func(*args,**kwargs)\n",
    "        print(\"*\"*50)\n",
    "        print(\"*\"*50)\n",
    "        end=time.time()\n",
    "        print(\"the end time is \",end)\n",
    "        print(\"the time taken \",end-start)\n",
    "    return time1\n",
    "\n",
    "def timein(func):\n",
    "    def time2(*args,**kwargs):\n",
    "        print(\"-\"*50)\n",
    "        print(\"-\"*50)\n",
    "        start=time.time()\n",
    "       # print(\"the start time is :\",start)\n",
    "        result=func(*args,**kwargs)\n",
    "        print(\"-\"*50)\n",
    "        print(\"-\"*50)\n",
    "        end=time.time()\n",
    "        #print(\"the end time is \",end)\n",
    "        #print(\"the time taken \",end-start)\n",
    "    return time2\n",
    "\n",
    "@timein\n",
    "@intime\n",
    "def fact(l1,*args) :\n",
    "    l=[]\n",
    "    for var in l1:\n",
    "        s=1\n",
    "        while var > 0 :\n",
    "            s = var * s\n",
    "            var = var - 1\n",
    "        else :\n",
    "            l.append(s)\n",
    "    else :\n",
    "        print(l)\n"
   ]
  },
  {
   "cell_type": "code",
   "execution_count": 29,
   "metadata": {},
   "outputs": [
    {
     "name": "stdout",
     "output_type": "stream",
     "text": [
      "enter the list1 2 3 4 \n",
      "--------------------------------------------------\n",
      "--------------------------------------------------\n",
      "**************************************************\n",
      "**************************************************\n",
      "the start time is : 1559147316.9320948\n",
      "[1, 2, 6, 24]\n",
      "**************************************************\n",
      "**************************************************\n",
      "the end time is  1559147316.9340963\n",
      "the time taken  0.002001523971557617\n",
      "--------------------------------------------------\n",
      "--------------------------------------------------\n"
     ]
    }
   ],
   "source": [
    "n=list(map(int,input(\"enter the list\").split()))\n",
    "fact(n)\n",
    "\n"
   ]
  },
  {
   "cell_type": "code",
   "execution_count": null,
   "metadata": {},
   "outputs": [],
   "source": []
  }
 ],
 "metadata": {
  "kernelspec": {
   "display_name": "Python 3",
   "language": "python",
   "name": "python3"
  },
  "language_info": {
   "codemirror_mode": {
    "name": "ipython",
    "version": 3
   },
   "file_extension": ".py",
   "mimetype": "text/x-python",
   "name": "python",
   "nbconvert_exporter": "python",
   "pygments_lexer": "ipython3",
   "version": "3.7.3"
  }
 },
 "nbformat": 4,
 "nbformat_minor": 2
}
