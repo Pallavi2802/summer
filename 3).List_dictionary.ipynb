{
 "cells": [
  {
   "cell_type": "markdown",
   "metadata": {},
   "source": [
    "# functions of list\n",
    "## to add item\n",
    "     list.append(object) -->add item at last\n",
    "     list.insert(index,object) --> add item at index location\n",
    "     list.extend(iterables) --> iterate through the sequence and add item at the end \n",
    "## to remove item\n",
    "    list.pop() -->remove last item\n",
    "    list.pop(index) -->remove element from index\n",
    "    list.remove(object) -->remove 1st occurence of object from list\n",
    "## basic operation on list\n",
    "     list.count(object) -->count no of repetition of object\n",
    "     list.index(object) -->returns index of 1st occurence of object\n",
    "     list.reverse()-->reverse\n",
    "     list.clear()--> clears the list\n",
    "     list.sort() --> sorts the list in ascending order\n",
    "     #for sort list must be homogeneous\n"
   ]
  },
  {
   "cell_type": "code",
   "execution_count": 3,
   "metadata": {},
   "outputs": [],
   "source": [
    " stu=[[\"st1\",65,78,34],[\"st2\",89,90,89],[\"st3\",90,94,96]] # like 2-D array"
   ]
  },
  {
   "cell_type": "code",
   "execution_count": 7,
   "metadata": {},
   "outputs": [
    {
     "name": "stdout",
     "output_type": "stream",
     "text": [
      "['st1', 65, 78, 34]\n",
      "['st2', 89, 90, 89]\n",
      "['st3', 90, 94, 96]\n"
     ]
    }
   ],
   "source": [
    "# for use to work with iterables or sequences\n",
    "\n",
    "for item in stu : # colon is indentation opeartor\n",
    "     print(item)"
   ]
  },
  {
   "cell_type": "code",
   "execution_count": 1,
   "metadata": {},
   "outputs": [
    {
     "name": "stdout",
     "output_type": "stream",
     "text": [
      "Java,\tC,\tC++,\tRuby,\tPerl,\t"
     ]
    }
   ],
   "source": [
    "normal=['Java','C','C++','Ruby','Perl']\n",
    "\n",
    "for item in normal :\n",
    "      # all 3 statement part of for loop\n",
    "    print(item,end=',\\t') \n",
    "   "
   ]
  },
  {
   "cell_type": "code",
   "execution_count": 16,
   "metadata": {},
   "outputs": [
    {
     "name": "stdout",
     "output_type": "stream",
     "text": [
      "------------------------P-------------------------\n",
      "------------------------y-------------------------\n",
      "------------------------t-------------------------\n",
      "------------------------h-------------------------\n",
      "------------------------o-------------------------\n",
      "------------------------n-------------------------\n"
     ]
    }
   ],
   "source": [
    "# string is sequence or not\n",
    "for item in \"Python\" :\n",
    "    print(item.center(50,\"-\"))"
   ]
  },
  {
   "cell_type": "code",
   "execution_count": 3,
   "metadata": {},
   "outputs": [],
   "source": [
    "data=['java','C','C++']"
   ]
  },
  {
   "cell_type": "code",
   "execution_count": 20,
   "metadata": {},
   "outputs": [],
   "source": [
    "data.append(\"ruby\") # it does not return anything ,string returns (as creates new self) "
   ]
  },
  {
   "cell_type": "code",
   "execution_count": 19,
   "metadata": {},
   "outputs": [
    {
     "data": {
      "text/plain": [
       "['java', 'C', 'C++', 'ruby']"
      ]
     },
     "execution_count": 19,
     "metadata": {},
     "output_type": "execute_result"
    }
   ],
   "source": [
    "data\n"
   ]
  },
  {
   "cell_type": "code",
   "execution_count": 6,
   "metadata": {},
   "outputs": [
    {
     "name": "stdout",
     "output_type": "stream",
     "text": [
      "None\n"
     ]
    }
   ],
   "source": [
    "x=data.append(\"python\") \n",
    "print(x)"
   ]
  },
  {
   "cell_type": "code",
   "execution_count": 7,
   "metadata": {},
   "outputs": [
    {
     "data": {
      "text/plain": [
       "['java', 'C', 'C++', 'python']"
      ]
     },
     "execution_count": 7,
     "metadata": {},
     "output_type": "execute_result"
    }
   ],
   "source": [
    "\n",
    "data"
   ]
  },
  {
   "cell_type": "code",
   "execution_count": 23,
   "metadata": {},
   "outputs": [
    {
     "data": {
      "text/plain": [
       "'HELLO'"
      ]
     },
     "execution_count": 23,
     "metadata": {},
     "output_type": "execute_result"
    }
   ],
   "source": [
    "\"hello\".upper() # returns value creates a new self"
   ]
  },
  {
   "cell_type": "code",
   "execution_count": 24,
   "metadata": {},
   "outputs": [
    {
     "name": "stdout",
     "output_type": "stream",
     "text": [
      "helloo\n",
      "None\n",
      "None\n",
      "None\n"
     ]
    }
   ],
   "source": [
    "print(print(print(print(\"helloo\")))) # print does not return ,input return string"
   ]
  },
  {
   "cell_type": "code",
   "execution_count": 9,
   "metadata": {},
   "outputs": [
    {
     "name": "stdout",
     "output_type": "stream",
     "text": [
      "None\n"
     ]
    }
   ],
   "source": [
    "l=[1,2,3]     \n",
    "l=l.append(4) # will override,none is datatype ,append returns none\n",
    "print(l)"
   ]
  },
  {
   "cell_type": "code",
   "execution_count": 11,
   "metadata": {},
   "outputs": [],
   "source": [
    "l"
   ]
  },
  {
   "cell_type": "code",
   "execution_count": 26,
   "metadata": {},
   "outputs": [
    {
     "name": "stdout",
     "output_type": "stream",
     "text": [
      "[1, 2, 3, 4]\n",
      "None\n"
     ]
    }
   ],
   "source": [
    "l=[1,2,3]     \n",
    "l1=l.append(4) # will override,none is datatype ,append returns none\n",
    "print(l) \n",
    "print(l1) # none"
   ]
  },
  {
   "cell_type": "code",
   "execution_count": 27,
   "metadata": {},
   "outputs": [],
   "source": [
    "data=[\"java\",\"C\",\"C++\",\"Ruby\"]\n",
    "data.append(\"Shell\")"
   ]
  },
  {
   "cell_type": "code",
   "execution_count": 28,
   "metadata": {},
   "outputs": [
    {
     "data": {
      "text/plain": [
       "['java', 'C', 'C++', 'Ruby', 'Shell']"
      ]
     },
     "execution_count": 28,
     "metadata": {},
     "output_type": "execute_result"
    }
   ],
   "source": [
    "data"
   ]
  },
  {
   "cell_type": "code",
   "execution_count": 36,
   "metadata": {},
   "outputs": [],
   "source": [
    "data.append([\"bye\",\"morning\"]) # will treat it as single item"
   ]
  },
  {
   "cell_type": "code",
   "execution_count": 43,
   "metadata": {},
   "outputs": [
    {
     "name": "stdout",
     "output_type": "stream",
     "text": [
      "['java', 'C', 'python', 'python', 'C++', 'Ruby', 'Shell', ['bye', 'morning']]\n"
     ]
    },
    {
     "data": {
      "text/plain": [
       "['bye', 'morning']"
      ]
     },
     "execution_count": 43,
     "metadata": {},
     "output_type": "execute_result"
    }
   ],
   "source": [
    "print(data)\n",
    "\n"
   ]
  },
  {
   "cell_type": "code",
   "execution_count": 46,
   "metadata": {},
   "outputs": [
    {
     "data": {
      "text/plain": [
       "'python'"
      ]
     },
     "execution_count": 46,
     "metadata": {},
     "output_type": "execute_result"
    }
   ],
   "source": [
    "data.insert(2,'python') # at 2 position will insert python\n"
   ]
  },
  {
   "cell_type": "code",
   "execution_count": 47,
   "metadata": {},
   "outputs": [
    {
     "data": {
      "text/plain": [
       "['java', 'C', 'python', 'python', 'python', 'C++', 'Ruby', 'Shell']"
      ]
     },
     "execution_count": 47,
     "metadata": {},
     "output_type": "execute_result"
    }
   ],
   "source": [
    "data"
   ]
  },
  {
   "cell_type": "code",
   "execution_count": 38,
   "metadata": {},
   "outputs": [
    {
     "name": "stdout",
     "output_type": "stream",
     "text": [
      "['java', 'C', 'python', 'C++', 'Ruby', 'Shell', ['bye', 'morning'], ['bye', 'morning'], ['bye', 'morning'], 'good to go']\n"
     ]
    }
   ],
   "source": [
    "data.insert(11,\"good to go\")\n",
    "print(data) # as index not available so will insert at last"
   ]
  },
  {
   "cell_type": "code",
   "execution_count": 49,
   "metadata": {},
   "outputs": [],
   "source": [
    "d=[5,6,34,5,634]"
   ]
  },
  {
   "cell_type": "code",
   "execution_count": 50,
   "metadata": {},
   "outputs": [
    {
     "name": "stdout",
     "output_type": "stream",
     "text": [
      "[5, 6, 34, 5, 634, 100]\n"
     ]
    }
   ],
   "source": [
    "d.insert(100,100)\n",
    "print(d)"
   ]
  },
  {
   "cell_type": "code",
   "execution_count": 52,
   "metadata": {},
   "outputs": [
    {
     "name": "stdout",
     "output_type": "stream",
     "text": [
      "[5, 6, 34, 5, 10, 634, 100]\n"
     ]
    }
   ],
   "source": [
    "d.insert(-2,10)\n",
    "print(d)"
   ]
  },
  {
   "cell_type": "code",
   "execution_count": 53,
   "metadata": {},
   "outputs": [
    {
     "name": "stdout",
     "output_type": "stream",
     "text": [
      "['yahoo', 5, 6, 34, 5, 10, 634, 100]\n"
     ]
    }
   ],
   "source": [
    "d.insert(-100,'yahoo')\n",
    "print(d)"
   ]
  },
  {
   "cell_type": "code",
   "execution_count": 54,
   "metadata": {},
   "outputs": [
    {
     "name": "stdout",
     "output_type": "stream",
     "text": [
      "['p', 'y', 't', 'h', 'o', 'n']\n"
     ]
    }
   ],
   "source": [
    "d=[] # extend is used to add multiple item at last\n",
    "d.extend('python') # treted as iterables\n",
    "print(d)"
   ]
  },
  {
   "cell_type": "code",
   "execution_count": 56,
   "metadata": {},
   "outputs": [
    {
     "ename": "TypeError",
     "evalue": "'int' object is not iterable",
     "output_type": "error",
     "traceback": [
      "\u001b[1;31m---------------------------------------------------------------------------\u001b[0m",
      "\u001b[1;31mTypeError\u001b[0m                                 Traceback (most recent call last)",
      "\u001b[1;32m<ipython-input-56-59439f2e026f>\u001b[0m in \u001b[0;36m<module>\u001b[1;34m\u001b[0m\n\u001b[0;32m      1\u001b[0m \u001b[0md\u001b[0m\u001b[1;33m=\u001b[0m\u001b[1;33m[\u001b[0m\u001b[1;33m]\u001b[0m\u001b[1;33m\u001b[0m\u001b[1;33m\u001b[0m\u001b[0m\n\u001b[1;32m----> 2\u001b[1;33m \u001b[0md\u001b[0m\u001b[1;33m.\u001b[0m\u001b[0mextend\u001b[0m\u001b[1;33m(\u001b[0m\u001b[1;36m123\u001b[0m\u001b[1;33m)\u001b[0m \u001b[1;31m# treted as iterables\u001b[0m\u001b[1;33m\u001b[0m\u001b[1;33m\u001b[0m\u001b[0m\n\u001b[0m\u001b[0;32m      3\u001b[0m \u001b[0mprint\u001b[0m\u001b[1;33m(\u001b[0m\u001b[0md\u001b[0m\u001b[1;33m)\u001b[0m\u001b[1;33m\u001b[0m\u001b[1;33m\u001b[0m\u001b[0m\n",
      "\u001b[1;31mTypeError\u001b[0m: 'int' object is not iterable"
     ]
    }
   ],
   "source": [
    "d=[]\n",
    "d.extend(123) # treted as iterables,int is not iterable\n",
    "print(d)"
   ]
  },
  {
   "cell_type": "code",
   "execution_count": 16,
   "metadata": {},
   "outputs": [
    {
     "name": "stdout",
     "output_type": "stream",
     "text": [
      "['hello', 'hi']\n",
      "['hi', 'hello']\n"
     ]
    }
   ],
   "source": [
    "d=[]\n",
    "d.extend([\"hello\",\"hi\"])\n",
    "print(d)\n",
    "d.reverse()\n",
    "print(d)"
   ]
  },
  {
   "cell_type": "code",
   "execution_count": 59,
   "metadata": {},
   "outputs": [],
   "source": [
    "# list.pop() -->reverse append\n",
    "# list.pop(index)--> reverse insert"
   ]
  },
  {
   "cell_type": "code",
   "execution_count": 17,
   "metadata": {},
   "outputs": [
    {
     "name": "stdout",
     "output_type": "stream",
     "text": [
      "x  =3\n",
      "y  =9\n",
      "result  =12\n",
      "\n",
      "x=3.000000\n",
      "y=9.000000\n",
      "result=12.000000\n",
      "\n"
     ]
    }
   ],
   "source": [
    "# old fashion formatting\n",
    "x=3\n",
    "y=9\n",
    "r=x+y\n",
    "print(\"x  =%d\"%(x))\n",
    "print(\"y  =%d\"%(y))\n",
    "print(\"result  =%d\"%(r))\n",
    "# second method\n",
    "s=\"\"\"\n",
    "x=%f\n",
    "y=%f\n",
    "result=%f\n",
    "\"\"\"%(x,y,r)\n",
    "print(s)"
   ]
  },
  {
   "cell_type": "code",
   "execution_count": 66,
   "metadata": {},
   "outputs": [
    {
     "name": "stdout",
     "output_type": "stream",
     "text": [
      "no 5\n",
      "no 5\n",
      "\n",
      "add is=10.00\n",
      "sub is=0.00\n",
      "multiplication is=25.00\n",
      "division is=1.00\n",
      "\n"
     ]
    }
   ],
   "source": [
    "x=int(input(\"no \"))\n",
    "y=int(input(\"no \"))\n",
    "r=x+y\n",
    "c=x-y\n",
    "v=x*y\n",
    "w=x/y\n",
    "s=\"\"\"\n",
    "add is=%.2f\n",
    "sub is=%.2f\n",
    "multiplication is=%.2f\n",
    "division is=%.2f\n",
    "\"\"\"%(r,c,v,w)\n",
    "print(s)"
   ]
  },
  {
   "cell_type": "code",
   "execution_count": 67,
   "metadata": {},
   "outputs": [
    {
     "name": "stdout",
     "output_type": "stream",
     "text": [
      "no 5\n",
      "no 5\n",
      "\n",
      "add is=10.00\n",
      "sub is=0.00\n",
      "multiplication is=25.00\n",
      "division is=1.00\n",
      "\n"
     ]
    }
   ],
   "source": [
    "# old formatting method\n",
    "x=int(input(\"no \")) \n",
    "y=int(input(\"no \"))\n",
    "\n",
    "s=\"\"\"\n",
    "add is=%.2f\n",
    "sub is=%.2f\n",
    "multiplication is=%.2f\n",
    "division is=%.2f\n",
    "\"\"\"%(x+y,x-y,x*y,x/y)\n",
    "print(s)"
   ]
  },
  {
   "cell_type": "code",
   "execution_count": 1,
   "metadata": {},
   "outputs": [
    {
     "name": "stdout",
     "output_type": "stream",
     "text": [
      "Overwriting calc.py\n"
     ]
    }
   ],
   "source": [
    "%%writefile calc.py\n",
    "x=int(input(\"no \"))\n",
    "y=int(input(\"no \"))\n",
    "\n",
    "s=\"\"\"\n",
    "add is=%.2f\n",
    "sub is=%.2f\n",
    "multiplication is=%.2f\n",
    "division is=%.2f\n",
    "\"\"\"%(x+y,x-y,x*y,x/y)\n",
    "print(s)"
   ]
  },
  {
   "cell_type": "code",
   "execution_count": 69,
   "metadata": {},
   "outputs": [
    {
     "name": "stdout",
     "output_type": "stream",
     "text": [
      " Volume in drive C has no label.\n",
      " Volume Serial Number is FAC3-CB88\n",
      "\n",
      " Directory of C:\\Users\\pallavi-pc\\Desktop\\summerinternbatch\\batch_8am\n",
      "\n",
      "05/16/2019  09:23 AM    <DIR>          .\n",
      "05/16/2019  09:23 AM    <DIR>          ..\n",
      "05/16/2019  08:13 AM    <DIR>          .ipynb_checkpoints\n",
      "05/15/2019  02:23 PM            27,216 2).String_list.ipynb\n",
      "05/16/2019  09:22 AM            12,725 3.List_dictionary.ipynb\n",
      "05/16/2019  09:23 AM               152 calc.py\n",
      "05/14/2019  10:06 AM            26,060 Datatype.ipynb\n",
      "05/16/2019  12:03 AM            39,480 sirdata.ipynb\n",
      "               5 File(s)        105,633 bytes\n",
      "               3 Dir(s)  14,720,614,400 bytes free\n"
     ]
    }
   ],
   "source": [
    "ls"
   ]
  },
  {
   "cell_type": "code",
   "execution_count": null,
   "metadata": {},
   "outputs": [],
   "source": [
    "! python calc.py # to run a file kept somewhere else"
   ]
  },
  {
   "cell_type": "code",
   "execution_count": 1,
   "metadata": {},
   "outputs": [
    {
     "name": "stdout",
     "output_type": "stream",
     "text": [
      "\n",
      "x=3.00\n",
      "y=9.00\n",
      "r=12.00\n",
      "\n"
     ]
    }
   ],
   "source": [
    "x=3\n",
    "y=9\n",
    "r=x+y\n",
    "# string formatting\n",
    "result=\"\"\"\n",
    "x={:.2f}\n",
    "y={:.2f}\n",
    "r={:.2f}\n",
    "\"\"\".format(x,y,r)\n",
    "print(result)\n"
   ]
  },
  {
   "cell_type": "code",
   "execution_count": 2,
   "metadata": {},
   "outputs": [],
   "source": [
    "s=\"welcome user {}\" # curly bracket is called buffer"
   ]
  },
  {
   "cell_type": "code",
   "execution_count": 3,
   "metadata": {},
   "outputs": [
    {
     "name": "stdout",
     "output_type": "stream",
     "text": [
      "enter user name : pallavi\n",
      "welcome user pallavi\n"
     ]
    }
   ],
   "source": [
    "name=input(\"enter user name : \")\n",
    "print(s.format(name))"
   ]
  },
  {
   "cell_type": "code",
   "execution_count": 4,
   "metadata": {},
   "outputs": [
    {
     "data": {
      "text/plain": [
       "'welcome user {}'"
      ]
     },
     "execution_count": 4,
     "metadata": {},
     "output_type": "execute_result"
    }
   ],
   "source": [
    "s"
   ]
  },
  {
   "cell_type": "code",
   "execution_count": 5,
   "metadata": {},
   "outputs": [],
   "source": [
    "s = \"hello {one} ,you are good than {two}. {one}\""
   ]
  },
  {
   "cell_type": "code",
   "execution_count": 6,
   "metadata": {},
   "outputs": [
    {
     "name": "stdout",
     "output_type": "stream",
     "text": [
      "hello 1 ,you are good than 2. 1\n"
     ]
    }
   ],
   "source": [
    "print(s.format(one=1,two=2))"
   ]
  },
  {
   "cell_type": "code",
   "execution_count": 8,
   "metadata": {},
   "outputs": [],
   "source": [
    "s= \"{0} is a good. {0} has {1} legs. {0} goes to school\" # indexing ,only pass 2 arguments"
   ]
  },
  {
   "cell_type": "code",
   "execution_count": 9,
   "metadata": {},
   "outputs": [
    {
     "data": {
      "text/plain": [
       "'ram is a good. ram has 4 legs. ram goes to school'"
      ]
     },
     "execution_count": 9,
     "metadata": {},
     "output_type": "execute_result"
    }
   ],
   "source": [
    "s.format('ram',4)"
   ]
  },
  {
   "cell_type": "code",
   "execution_count": 15,
   "metadata": {},
   "outputs": [],
   "source": [
    "s= \"{name} is a good. {name} has {legs} legs. {name} goes to school\""
   ]
  },
  {
   "cell_type": "code",
   "execution_count": 16,
   "metadata": {},
   "outputs": [
    {
     "data": {
      "text/plain": [
       "'ram is a good. ram has 2 legs. ram goes to school'"
      ]
     },
     "execution_count": 16,
     "metadata": {},
     "output_type": "execute_result"
    }
   ],
   "source": [
    "s.format(legs=2,name='ram')"
   ]
  },
  {
   "cell_type": "code",
   "execution_count": 17,
   "metadata": {},
   "outputs": [
    {
     "name": "stdout",
     "output_type": "stream",
     "text": [
      "yahoo is a good. yahoo has 2 legs. yahoo goes to school\n"
     ]
    }
   ],
   "source": [
    "name=\"yahoo\"\n",
    "legs=2\n",
    "s= f\"{name} is a good. {name} has {legs} legs. {name} goes to school\"\n",
    "print(s)"
   ]
  },
  {
   "cell_type": "code",
   "execution_count": 18,
   "metadata": {},
   "outputs": [
    {
     "name": "stdout",
     "output_type": "stream",
     "text": [
      "enter name :pallavi\n",
      "enter age10\n"
     ]
    }
   ],
   "source": [
    "s=f\"\"\"\n",
    "name={input(\"enter name :\")}\n",
    "age={input(\"enter age\")}\n",
    "\"\"\""
   ]
  },
  {
   "cell_type": "code",
   "execution_count": 19,
   "metadata": {},
   "outputs": [
    {
     "name": "stdout",
     "output_type": "stream",
     "text": [
      "\n",
      "name=pallavi\n",
      "age=10\n",
      "\n"
     ]
    }
   ],
   "source": [
    "print(s)"
   ]
  },
  {
   "cell_type": "code",
   "execution_count": 20,
   "metadata": {},
   "outputs": [
    {
     "name": "stdout",
     "output_type": "stream",
     "text": [
      "Enter x :6\n",
      "Enter y :3\n",
      "\n",
      "x = 6\n",
      "y = 3\n",
      "x+y = 9\n",
      "x-y = 3\n",
      "x*y = 18\n",
      "x/y = 2.0\n",
      "\n"
     ]
    }
   ],
   "source": [
    "x=eval(input(\"Enter x :\"))\n",
    "y = eval(input(\"Enter y :\"))\n",
    "s=f\"\"\"\n",
    "x = {x}\n",
    "y = {y}\n",
    "x+y = {x+y}\n",
    "x-y = {x-y}\n",
    "x*y = {x*y}\n",
    "x/y = {x/y}\n",
    "\"\"\"\n",
    "print(s)"
   ]
  },
  {
   "cell_type": "code",
   "execution_count": 21,
   "metadata": {},
   "outputs": [],
   "source": [
    "data=[\"java\",\"c\",\"c++\",\"something\"]"
   ]
  },
  {
   "cell_type": "code",
   "execution_count": 22,
   "metadata": {},
   "outputs": [
    {
     "name": "stdout",
     "output_type": "stream",
     "text": [
      "something is removed\n"
     ]
    }
   ],
   "source": [
    "item = data.pop()\n",
    "print(f\"{item} is removed\")"
   ]
  },
  {
   "cell_type": "code",
   "execution_count": 23,
   "metadata": {},
   "outputs": [
    {
     "data": {
      "text/plain": [
       "False"
      ]
     },
     "execution_count": 23,
     "metadata": {},
     "output_type": "execute_result"
    }
   ],
   "source": [
    "\"sachin \" in data # membership opeartor"
   ]
  },
  {
   "cell_type": "code",
   "execution_count": 24,
   "metadata": {},
   "outputs": [
    {
     "data": {
      "text/plain": [
       "True"
      ]
     },
     "execution_count": 24,
     "metadata": {},
     "output_type": "execute_result"
    }
   ],
   "source": [
    "\"java\" in data"
   ]
  },
  {
   "cell_type": "code",
   "execution_count": 25,
   "metadata": {},
   "outputs": [
    {
     "name": "stdout",
     "output_type": "stream",
     "text": [
      "It's true\n"
     ]
    }
   ],
   "source": [
    "if True :\n",
    "    print(\"It's true\")\n",
    "else :\n",
    "    print(\"It's false\")"
   ]
  },
  {
   "cell_type": "code",
   "execution_count": 12,
   "metadata": {},
   "outputs": [
    {
     "name": "stdout",
     "output_type": "stream",
     "text": [
      "enter item to be deleted :ruby\n",
      "No such item ruby available\n"
     ]
    }
   ],
   "source": [
    "item = input(\"enter item to be deleted :\").strip().lower()\n",
    "if item in data :\n",
    "    data.remove(item)\n",
    "    print(f\"{item} is deleted from {data}.\")\n",
    "else :\n",
    "    print(f\"No such item {item} available\")\n",
    "    "
   ]
  },
  {
   "cell_type": "code",
   "execution_count": 13,
   "metadata": {},
   "outputs": [],
   "source": [
    "data=[\"java\",'C',\"C++\"]\n",
    "data.insert(-1,\"ruby\")  # remmember this"
   ]
  },
  {
   "cell_type": "code",
   "execution_count": 14,
   "metadata": {},
   "outputs": [
    {
     "data": {
      "text/plain": [
       "['java', 'C', 'ruby', 'C++']"
      ]
     },
     "execution_count": 14,
     "metadata": {},
     "output_type": "execute_result"
    }
   ],
   "source": [
    "data"
   ]
  },
  {
   "cell_type": "code",
   "execution_count": 15,
   "metadata": {},
   "outputs": [
    {
     "data": {
      "text/plain": [
       "3"
      ]
     },
     "execution_count": 15,
     "metadata": {},
     "output_type": "execute_result"
    }
   ],
   "source": [
    "data.index(\"C++\")"
   ]
  },
  {
   "cell_type": "code",
   "execution_count": 18,
   "metadata": {},
   "outputs": [
    {
     "data": {
      "text/plain": [
       "'hellohellohellohello'"
      ]
     },
     "execution_count": 18,
     "metadata": {},
     "output_type": "execute_result"
    }
   ],
   "source": [
    "\"hello\"*4"
   ]
  },
  {
   "cell_type": "code",
   "execution_count": 19,
   "metadata": {},
   "outputs": [
    {
     "data": {
      "text/plain": [
       "[5, 1, 5, 1, 5, 1, 5, 1, 5, 1]"
      ]
     },
     "execution_count": 19,
     "metadata": {},
     "output_type": "execute_result"
    }
   ],
   "source": [
    "[5,1]*5"
   ]
  },
  {
   "cell_type": "code",
   "execution_count": 22,
   "metadata": {},
   "outputs": [],
   "source": [
    "data=[\"java\",\"C\",\"C++\",\"Ruby\",\"Perl\",\"C\"]"
   ]
  },
  {
   "cell_type": "code",
   "execution_count": 23,
   "metadata": {},
   "outputs": [
    {
     "data": {
      "text/plain": [
       "1"
      ]
     },
     "execution_count": 23,
     "metadata": {},
     "output_type": "execute_result"
    }
   ],
   "source": [
    "data.count(\"java\")"
   ]
  },
  {
   "cell_type": "code",
   "execution_count": 24,
   "metadata": {},
   "outputs": [
    {
     "data": {
      "text/plain": [
       "2"
      ]
     },
     "execution_count": 24,
     "metadata": {},
     "output_type": "execute_result"
    }
   ],
   "source": [
    "data.count(\"C\")"
   ]
  },
  {
   "cell_type": "code",
   "execution_count": 25,
   "metadata": {},
   "outputs": [],
   "source": [
    "data.reverse()"
   ]
  },
  {
   "cell_type": "code",
   "execution_count": 26,
   "metadata": {},
   "outputs": [
    {
     "data": {
      "text/plain": [
       "['C', 'Perl', 'Ruby', 'C++', 'C', 'java']"
      ]
     },
     "execution_count": 26,
     "metadata": {},
     "output_type": "execute_result"
    }
   ],
   "source": [
    "data"
   ]
  },
  {
   "cell_type": "code",
   "execution_count": 27,
   "metadata": {},
   "outputs": [],
   "source": [
    "data.sort()"
   ]
  },
  {
   "cell_type": "code",
   "execution_count": 28,
   "metadata": {},
   "outputs": [
    {
     "data": {
      "text/plain": [
       "['C', 'C', 'C++', 'Perl', 'Ruby', 'java']"
      ]
     },
     "execution_count": 28,
     "metadata": {},
     "output_type": "execute_result"
    }
   ],
   "source": [
    "data"
   ]
  },
  {
   "cell_type": "code",
   "execution_count": 29,
   "metadata": {},
   "outputs": [],
   "source": [
    "from random import randint"
   ]
  },
  {
   "cell_type": "code",
   "execution_count": 30,
   "metadata": {},
   "outputs": [
    {
     "data": {
      "text/plain": [
       "11"
      ]
     },
     "execution_count": 30,
     "metadata": {},
     "output_type": "execute_result"
    }
   ],
   "source": [
    "randint(10,20) #for generating random no b/w 10 to 20"
   ]
  },
  {
   "cell_type": "code",
   "execution_count": 31,
   "metadata": {},
   "outputs": [],
   "source": [
    "data=[randint(1,20),randint(1,20)]"
   ]
  },
  {
   "cell_type": "code",
   "execution_count": 32,
   "metadata": {},
   "outputs": [
    {
     "data": {
      "text/plain": [
       "[19, 8]"
      ]
     },
     "execution_count": 32,
     "metadata": {},
     "output_type": "execute_result"
    }
   ],
   "source": [
    "data"
   ]
  },
  {
   "cell_type": "code",
   "execution_count": 33,
   "metadata": {},
   "outputs": [],
   "source": [
    "data=[randint(1,20) for var in range(10)] #list compression"
   ]
  },
  {
   "cell_type": "code",
   "execution_count": 34,
   "metadata": {},
   "outputs": [
    {
     "data": {
      "text/plain": [
       "[16, 20, 2, 18, 20, 20, 14, 7, 14, 19]"
      ]
     },
     "execution_count": 34,
     "metadata": {},
     "output_type": "execute_result"
    }
   ],
   "source": [
    "data"
   ]
  },
  {
   "cell_type": "code",
   "execution_count": 36,
   "metadata": {},
   "outputs": [],
   "source": [
    "data.sort(reverse=True) #descending order"
   ]
  },
  {
   "cell_type": "code",
   "execution_count": 37,
   "metadata": {},
   "outputs": [
    {
     "data": {
      "text/plain": [
       "[20, 20, 20, 19, 18, 16, 14, 14, 7, 2]"
      ]
     },
     "execution_count": 37,
     "metadata": {},
     "output_type": "execute_result"
    }
   ],
   "source": [
    "data"
   ]
  },
  {
   "cell_type": "code",
   "execution_count": 40,
   "metadata": {},
   "outputs": [],
   "source": [
    "d1={\"key\":\"value\",\"key1\":\"value1\"} #mutable,unordered"
   ]
  },
  {
   "cell_type": "code",
   "execution_count": 41,
   "metadata": {},
   "outputs": [
    {
     "data": {
      "text/plain": [
       "{'key': 'value', 'key1': 'value1'}"
      ]
     },
     "execution_count": 41,
     "metadata": {},
     "output_type": "execute_result"
    }
   ],
   "source": [
    "d1"
   ]
  },
  {
   "cell_type": "code",
   "execution_count": 42,
   "metadata": {},
   "outputs": [
    {
     "data": {
      "text/plain": [
       "'value'"
      ]
     },
     "execution_count": 42,
     "metadata": {},
     "output_type": "execute_result"
    }
   ],
   "source": [
    "d1[\"key\"]"
   ]
  },
  {
   "cell_type": "code",
   "execution_count": null,
   "metadata": {},
   "outputs": [],
   "source": []
  }
 ],
 "metadata": {
  "kernelspec": {
   "display_name": "Python 3",
   "language": "python",
   "name": "python3"
  },
  "language_info": {
   "codemirror_mode": {
    "name": "ipython",
    "version": 3
   },
   "file_extension": ".py",
   "mimetype": "text/x-python",
   "name": "python",
   "nbconvert_exporter": "python",
   "pygments_lexer": "ipython3",
   "version": "3.7.3"
  }
 },
 "nbformat": 4,
 "nbformat_minor": 2
}
