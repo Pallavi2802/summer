{
 "cells": [
  {
   "cell_type": "code",
   "execution_count": 3,
   "metadata": {},
   "outputs": [
    {
     "name": "stdout",
     "output_type": "stream",
     "text": [
      "enter no of lines : 6\n",
      "*\n",
      "**\n",
      "***\n",
      "****\n",
      "*****\n",
      "******\n"
     ]
    }
   ],
   "source": [
    "c = 1\n",
    "n=int(input(\"enter no of lines : \"))\n",
    "while c <= n :\n",
    "    print(\"*\"*c,sep=\" \")\n",
    "    c=c+1"
   ]
  },
  {
   "cell_type": "code",
   "execution_count": 4,
   "metadata": {},
   "outputs": [
    {
     "name": "stdout",
     "output_type": "stream",
     "text": [
      "enter no of lines : 5\n",
      "*****\n",
      "****\n",
      "***\n",
      "**\n",
      "*\n"
     ]
    }
   ],
   "source": [
    "n=int(input(\"enter no of lines : \"))\n",
    "while n > 0 :\n",
    "    print(\"*\"*n,sep=\" \")\n",
    "    n=n - 1"
   ]
  },
  {
   "cell_type": "code",
   "execution_count": 8,
   "metadata": {},
   "outputs": [
    {
     "name": "stdout",
     "output_type": "stream",
     "text": [
      "enter no of lines :6\n",
      "      *\n",
      "     **\n",
      "    ***\n",
      "   ****\n",
      "  *****\n",
      " ******\n"
     ]
    }
   ],
   "source": [
    "c = 1\n",
    "n=int(input(\"enter no of lines :\"))\n",
    "while c <= n :\n",
    "    print(\" \"*(n-c),\"*\"*c)\n",
    "    c= c + 1"
   ]
  },
  {
   "cell_type": "code",
   "execution_count": 13,
   "metadata": {},
   "outputs": [
    {
     "name": "stdout",
     "output_type": "stream",
     "text": [
      "enter no of lines :7\n",
      "  ******\n",
      "   *****\n",
      "    ****\n",
      "     ***\n",
      "      **\n",
      "       *\n",
      "        \n"
     ]
    }
   ],
   "source": [
    "c = 1\n",
    "n=int(input(\"enter no of lines :\"))\n",
    "while c <= n :\n",
    "    print(\" \"*(c),\"*\"*(n-c))\n",
    "    c= c + 1"
   ]
  },
  {
   "cell_type": "code",
   "execution_count": 7,
   "metadata": {},
   "outputs": [
    {
     "name": "stdout",
     "output_type": "stream",
     "text": [
      "enter no of lines : 5\n",
      "      *      \n",
      "     ***     \n",
      "    *****    \n",
      "   *******   \n",
      "  *********  \n",
      " *********** \n"
     ]
    }
   ],
   "source": [
    "c = 0\n",
    "n=int(input(\"enter no of lines : \"))\n",
    "while c <= n :\n",
    "    print(\" \"*(n-c),\"*\"*(c*2+1),\" \"*(n-c))\n",
    "    c = c + 1"
   ]
  },
  {
   "cell_type": "code",
   "execution_count": 5,
   "metadata": {},
   "outputs": [
    {
     "name": "stdout",
     "output_type": "stream",
     "text": [
      "enter no of rows : 5\n",
      "      *\n",
      "     ***\n",
      "    *****\n",
      "   *******\n",
      "  *********\n"
     ]
    }
   ],
   "source": [
    "rows=int(input(\"enter no of rows : \"))\n",
    "for row in range(rows) :\n",
    "    for col in range(rows-row+1) :\n",
    "        print(\" \",end=\"\")\n",
    "    for col in range(row+1) :\n",
    "        print(\"*\",end=\"\")\n",
    "    for col in range(row) :\n",
    "        print(\"*\",end=\"\")   \n",
    "    print()\n",
    "        "
   ]
  },
  {
   "cell_type": "code",
   "execution_count": 13,
   "metadata": {},
   "outputs": [
    {
     "name": "stdout",
     "output_type": "stream",
     "text": [
      "h e l\n"
     ]
    }
   ],
   "source": [
    "a,b,c=\"hel\"\n",
    "print(a,b,c)"
   ]
  },
  {
   "cell_type": "code",
   "execution_count": 14,
   "metadata": {},
   "outputs": [
    {
     "name": "stdout",
     "output_type": "stream",
     "text": [
      "1 2 3\n",
      "h e l\n",
      "one two three\n",
      "all good\n"
     ]
    }
   ],
   "source": [
    "x = [(1,2,3),\"hel\",{\"one\":1,\"two\":2,\"three\":3}]\n",
    "for var1,var2,var3 in x :\n",
    "    print(var1,var2,var3)\n",
    "else :\n",
    "    print(\"all good\") # always execute other than break condiyion is given"
   ]
  },
  {
   "cell_type": "markdown",
   "metadata": {},
   "source": [
    "# what is  a function?\n",
    "## set of instruction\n",
    "## 2 types :\n",
    "### built-in \n",
    "### user define\n"
   ]
  },
  {
   "cell_type": "code",
   "execution_count": 15,
   "metadata": {},
   "outputs": [],
   "source": [
    "import builtins"
   ]
  },
  {
   "cell_type": "code",
   "execution_count": 16,
   "metadata": {},
   "outputs": [
    {
     "name": "stdout",
     "output_type": "stream",
     "text": [
      "['ArithmeticError', 'AssertionError', 'AttributeError', 'BaseException', 'BlockingIOError', 'BrokenPipeError', 'BufferError', 'BytesWarning', 'ChildProcessError', 'ConnectionAbortedError', 'ConnectionError', 'ConnectionRefusedError', 'ConnectionResetError', 'DeprecationWarning', 'EOFError', 'Ellipsis', 'EnvironmentError', 'Exception', 'False', 'FileExistsError', 'FileNotFoundError', 'FloatingPointError', 'FutureWarning', 'GeneratorExit', 'IOError', 'ImportError', 'ImportWarning', 'IndentationError', 'IndexError', 'InterruptedError', 'IsADirectoryError', 'KeyError', 'KeyboardInterrupt', 'LookupError', 'MemoryError', 'ModuleNotFoundError', 'NameError', 'None', 'NotADirectoryError', 'NotImplemented', 'NotImplementedError', 'OSError', 'OverflowError', 'PendingDeprecationWarning', 'PermissionError', 'ProcessLookupError', 'RecursionError', 'ReferenceError', 'ResourceWarning', 'RuntimeError', 'RuntimeWarning', 'StopAsyncIteration', 'StopIteration', 'SyntaxError', 'SyntaxWarning', 'SystemError', 'SystemExit', 'TabError', 'TimeoutError', 'True', 'TypeError', 'UnboundLocalError', 'UnicodeDecodeError', 'UnicodeEncodeError', 'UnicodeError', 'UnicodeTranslateError', 'UnicodeWarning', 'UserWarning', 'ValueError', 'Warning', 'WindowsError', 'ZeroDivisionError', '__IPYTHON__', '__build_class__', '__debug__', '__doc__', '__import__', '__loader__', '__name__', '__package__', '__spec__', 'abs', 'all', 'any', 'ascii', 'bin', 'bool', 'breakpoint', 'bytearray', 'bytes', 'callable', 'chr', 'classmethod', 'compile', 'complex', 'copyright', 'credits', 'delattr', 'dict', 'dir', 'display', 'divmod', 'enumerate', 'eval', 'exec', 'filter', 'float', 'format', 'frozenset', 'get_ipython', 'getattr', 'globals', 'hasattr', 'hash', 'help', 'hex', 'id', 'input', 'int', 'isinstance', 'issubclass', 'iter', 'len', 'license', 'list', 'locals', 'map', 'max', 'memoryview', 'min', 'next', 'object', 'oct', 'open', 'ord', 'pow', 'print', 'property', 'range', 'repr', 'reversed', 'round', 'set', 'setattr', 'slice', 'sorted', 'staticmethod', 'str', 'sum', 'super', 'tuple', 'type', 'vars', 'zip']\n"
     ]
    }
   ],
   "source": [
    "print(dir(builtins))"
   ]
  },
  {
   "cell_type": "code",
   "execution_count": 8,
   "metadata": {},
   "outputs": [
    {
     "name": "stdout",
     "output_type": "stream",
     "text": [
      "1 . abs\n",
      "2 . all\n",
      "3 . any\n",
      "4 . ascii\n",
      "5 . bin\n",
      "6 . bool\n",
      "7 . breakpoint\n",
      "8 . bytearray\n",
      "9 . bytes\n",
      "10 . callable\n",
      "11 . chr\n",
      "12 . classmethod\n",
      "13 . compile\n",
      "14 . complex\n",
      "15 . copyright\n",
      "16 . credits\n",
      "17 . delattr\n",
      "18 . dict\n",
      "19 . dir\n",
      "20 . display\n",
      "21 . divmod\n",
      "22 . enumerate\n",
      "23 . eval\n",
      "24 . exec\n",
      "25 . filter\n",
      "26 . float\n",
      "27 . format\n",
      "28 . frozenset\n",
      "29 . get_ipython\n",
      "30 . getattr\n",
      "31 . globals\n",
      "32 . hasattr\n",
      "33 . hash\n",
      "34 . help\n",
      "35 . hex\n",
      "36 . id\n",
      "37 . input\n",
      "38 . int\n",
      "39 . isinstance\n",
      "40 . issubclass\n",
      "41 . iter\n",
      "42 . len\n",
      "43 . license\n",
      "44 . list\n",
      "45 . locals\n",
      "46 . map\n",
      "47 . max\n",
      "48 . memoryview\n",
      "49 . min\n",
      "50 . next\n",
      "51 . object\n",
      "52 . oct\n",
      "53 . open\n",
      "54 . ord\n",
      "55 . pow\n",
      "56 . print\n",
      "57 . property\n",
      "58 . range\n",
      "59 . repr\n",
      "60 . reversed\n",
      "61 . round\n",
      "62 . set\n",
      "63 . setattr\n",
      "64 . slice\n",
      "65 . sorted\n",
      "66 . staticmethod\n",
      "67 . str\n",
      "68 . sum\n",
      "69 . super\n",
      "70 . tuple\n",
      "71 . type\n",
      "72 . vars\n",
      "73 . zip\n"
     ]
    }
   ],
   "source": [
    "all_builtin = ['abs', 'all', 'any', 'ascii', 'bin', 'bool', 'breakpoint', 'bytearray', 'bytes', 'callable', 'chr', 'classmethod', 'compile', 'complex', 'copyright', 'credits', 'delattr', 'dict', 'dir', 'display', 'divmod', 'enumerate', 'eval', 'exec', 'filter', 'float', 'format', 'frozenset', 'get_ipython', 'getattr', 'globals', 'hasattr', 'hash', 'help', 'hex', 'id', 'input', 'int', 'isinstance', 'issubclass', 'iter', 'len', 'license', 'list', 'locals', 'map', 'max', 'memoryview', 'min', 'next', 'object', 'oct', 'open', 'ord', 'pow', 'print', 'property', 'range', 'repr', 'reversed', 'round', 'set', 'setattr', 'slice', 'sorted', 'staticmethod', 'str', 'sum', 'super', 'tuple', 'type', 'vars', 'zip']\n",
    "for count,func in enumerate(all_builtin) :\n",
    "    print(count+1,\".\",func)"
   ]
  },
  {
   "cell_type": "markdown",
   "metadata": {},
   "source": [
    "# UDF : user defined functions\n",
    "# UDTF : user defined transformation function\n",
    "# UDAF : user defined Aggreation function\n"
   ]
  },
  {
   "cell_type": "code",
   "execution_count": 17,
   "metadata": {},
   "outputs": [],
   "source": [
    "# Namespace    -->\n",
    "# Arguments    --> Formal Argument ,Actual\n",
    "# Defination   --> Structure of function\n",
    "# Body         --> Set of Statements(logical statements to manipulate data)\n",
    "# Return value --> Whatever we want to store in global\n",
    "# calling      --> calling a function"
   ]
  },
  {
   "cell_type": "code",
   "execution_count": 19,
   "metadata": {},
   "outputs": [
    {
     "ename": "SyntaxError",
     "evalue": "invalid syntax (<ipython-input-19-6a2261243553>, line 2)",
     "output_type": "error",
     "traceback": [
      "\u001b[1;36m  File \u001b[1;32m\"<ipython-input-19-6a2261243553>\"\u001b[1;36m, line \u001b[1;32m2\u001b[0m\n\u001b[1;33m    def function_name(arg1,arg2,arg3...) : # defination(formal arguments)\u001b[0m\n\u001b[1;37m                                      ^\u001b[0m\n\u001b[1;31mSyntaxError\u001b[0m\u001b[1;31m:\u001b[0m invalid syntax\n"
     ]
    }
   ],
   "source": [
    "syntax\n",
    "def function_name(arg1,arg2,arg3...) : # defination(formal arguments)\n",
    "    statement 1 \n",
    "    statement 2              # body\n",
    "    statement 3\n",
    "    .....\n",
    "    \n",
    "    return value       # return value\n",
    "\n",
    "function_name(a1,a2,a3)#(actual arguments)"
   ]
  },
  {
   "cell_type": "markdown",
   "metadata": {},
   "source": [
    "## UDF without argument without return type"
   ]
  },
  {
   "cell_type": "code",
   "execution_count": 20,
   "metadata": {},
   "outputs": [],
   "source": [
    "def hello() :\n",
    "    print(\"hello world\")"
   ]
  },
  {
   "cell_type": "markdown",
   "metadata": {},
   "source": [
    "## advantages of using function :-\n",
    "### function is used for code reuseability\n",
    "### modular programming\n",
    "### memory optimization\n",
    "### easy to use\n",
    "### code readability\n"
   ]
  },
  {
   "cell_type": "code",
   "execution_count": 21,
   "metadata": {},
   "outputs": [
    {
     "name": "stdout",
     "output_type": "stream",
     "text": [
      "hello world\n"
     ]
    }
   ],
   "source": [
    "hello()"
   ]
  },
  {
   "cell_type": "code",
   "execution_count": 22,
   "metadata": {},
   "outputs": [],
   "source": [
    "def hello() :\n",
    "    name=input(\"enter name : \")  # local variable\n",
    "    print(\"hello world ! welcome user \",name)"
   ]
  },
  {
   "cell_type": "code",
   "execution_count": 23,
   "metadata": {},
   "outputs": [
    {
     "name": "stdout",
     "output_type": "stream",
     "text": [
      "enter name : pallavi\n",
      "hello world ! welcome user  pallavi\n"
     ]
    }
   ],
   "source": [
    "hello()"
   ]
  },
  {
   "cell_type": "code",
   "execution_count": 24,
   "metadata": {},
   "outputs": [
    {
     "name": "stdout",
     "output_type": "stream",
     "text": [
      "enter name : pallavi\n",
      "hello world ! welcome user  pallavi\n",
      "None\n"
     ]
    }
   ],
   "source": [
    "data=hello()\n",
    "print(data)"
   ]
  },
  {
   "cell_type": "markdown",
   "metadata": {},
   "source": [
    "# 2.with argument with return type"
   ]
  },
  {
   "cell_type": "code",
   "execution_count": 25,
   "metadata": {},
   "outputs": [
    {
     "name": "stdout",
     "output_type": "stream",
     "text": [
      "hello world !!!  pallavi\n"
     ]
    }
   ],
   "source": [
    "def hello(name) :                      # formal argument name local variable\n",
    "     print(\"hello world !!! \",name)\n",
    "x=\"pallavi\"                            # global variable\n",
    "hello(x)                               # call by value # actual argument"
   ]
  },
  {
   "cell_type": "markdown",
   "metadata": {},
   "source": [
    "# 3.without argument with return type"
   ]
  },
  {
   "cell_type": "code",
   "execution_count": 26,
   "metadata": {},
   "outputs": [],
   "source": [
    "def hello() :\n",
    "    x=int(input(\"enter no\"))\n",
    "    y=int(input(\"enter no\"))\n",
    "    return x**2+y**2"
   ]
  },
  {
   "cell_type": "code",
   "execution_count": 27,
   "metadata": {},
   "outputs": [
    {
     "name": "stdout",
     "output_type": "stream",
     "text": [
      "enter no5\n",
      "enter no6\n"
     ]
    }
   ],
   "source": [
    "result = hello()"
   ]
  },
  {
   "cell_type": "code",
   "execution_count": 28,
   "metadata": {},
   "outputs": [
    {
     "data": {
      "text/plain": [
       "61"
      ]
     },
     "execution_count": 28,
     "metadata": {},
     "output_type": "execute_result"
    }
   ],
   "source": [
    "result"
   ]
  },
  {
   "cell_type": "markdown",
   "metadata": {},
   "source": [
    "# 4.with argument with return type"
   ]
  },
  {
   "cell_type": "code",
   "execution_count": 31,
   "metadata": {},
   "outputs": [],
   "source": [
    "def hello(name) :\n",
    "    return name.strip().upper()[::-1]"
   ]
  },
  {
   "cell_type": "code",
   "execution_count": 32,
   "metadata": {},
   "outputs": [
    {
     "name": "stdout",
     "output_type": "stream",
     "text": [
      "LAWARGA  IVALLAP\n"
     ]
    }
   ],
   "source": [
    "r=hello(\"           pallavi  agrawal      \")\n",
    "print(r)"
   ]
  },
  {
   "cell_type": "code",
   "execution_count": 9,
   "metadata": {},
   "outputs": [],
   "source": [
    "def power(num,p) :\n",
    "    return num**p"
   ]
  },
  {
   "cell_type": "code",
   "execution_count": 10,
   "metadata": {},
   "outputs": [
    {
     "data": {
      "text/plain": [
       "81"
      ]
     },
     "execution_count": 10,
     "metadata": {},
     "output_type": "execute_result"
    }
   ],
   "source": [
    "r=power(3,4)\n",
    "r"
   ]
  },
  {
   "cell_type": "code",
   "execution_count": 24,
   "metadata": {},
   "outputs": [
    {
     "name": "stdout",
     "output_type": "stream",
     "text": [
      "Overwriting login.py\n"
     ]
    }
   ],
   "source": [
    "%%writefile login.py\n",
    "from getpass import getpass\n",
    "login={\"pallavi\":\"pallavi2802\",\"karan\":\"1999\"}\n",
    "name = input(\"enter the user name : \")\n",
    "paswd = getpass(\"enter your password : \")\n",
    "if name in login.keys() :\n",
    "    if paswd == login.get(name) :\n",
    "        print(\"you have successfully loged in\")\n",
    "    else :\n",
    "        print(\"your password is incorrect\")\n",
    "else:\n",
    "    print(\"your username is incorrect\")\n",
    "    \n",
    "\n",
    "\n",
    "\n"
   ]
  },
  {
   "cell_type": "code",
   "execution_count": 2,
   "metadata": {},
   "outputs": [
    {
     "name": "stdout",
     "output_type": "stream",
     "text": [
      "username  : wx\n",
      "password to be set :ooooo\n",
      "welcome to online sevices \n"
     ]
    },
    {
     "data": {
      "text/plain": [
       "{'pallavi': 'pallavi2802', 'karan': '1999', 'wx': 'ooooo'}"
      ]
     },
     "execution_count": 2,
     "metadata": {},
     "output_type": "execute_result"
    }
   ],
   "source": [
    "#%%writefile signup.py\n",
    "login={\"pallavi\":\"pallavi2802\",\"karan\":\"1999\"}\n",
    "key_value = [( input(\"username  : \"), input(\"password to be set :\"))]\n",
    "login.update(key_value)\n",
    "print(\"welcome to online sevices \")\n",
    "login"
   ]
  },
  {
   "cell_type": "code",
   "execution_count": null,
   "metadata": {},
   "outputs": [],
   "source": []
  }
 ],
 "metadata": {
  "kernelspec": {
   "display_name": "Python 3",
   "language": "python",
   "name": "python3"
  },
  "language_info": {
   "codemirror_mode": {
    "name": "ipython",
    "version": 3
   },
   "file_extension": ".py",
   "mimetype": "text/x-python",
   "name": "python",
   "nbconvert_exporter": "python",
   "pygments_lexer": "ipython3",
   "version": "3.7.3"
  }
 },
 "nbformat": 4,
 "nbformat_minor": 2
}
