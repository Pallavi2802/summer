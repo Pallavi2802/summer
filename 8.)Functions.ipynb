{
 "cells": [
  {
   "cell_type": "code",
   "execution_count": 1,
   "metadata": {},
   "outputs": [
    {
     "data": {
      "text/plain": [
       "'A'"
      ]
     },
     "execution_count": 1,
     "metadata": {},
     "output_type": "execute_result"
    }
   ],
   "source": [
    "\n",
    "chr(65)"
   ]
  },
  {
   "cell_type": "markdown",
   "metadata": {},
   "source": [
    "# type of arguments\n",
    "### positional arguments\n",
    "### default arguments\n",
    "### multiple length arguments"
   ]
  },
  {
   "cell_type": "code",
   "execution_count": 3,
   "metadata": {},
   "outputs": [],
   "source": [
    "def hello(name,age) : #position\n",
    "    if age>18 :\n",
    "        print(f\"{name} can vote\")\n",
    "    else :\n",
    "        print(f\"{name} can not vote\")"
   ]
  },
  {
   "cell_type": "code",
   "execution_count": 4,
   "metadata": {},
   "outputs": [
    {
     "name": "stdout",
     "output_type": "stream",
     "text": [
      "pallavi can vote\n"
     ]
    }
   ],
   "source": [
    "hello(\"pallavi\",20) #immutable -->call by value"
   ]
  },
  {
   "cell_type": "code",
   "execution_count": 5,
   "metadata": {},
   "outputs": [],
   "source": [
    "def add(x,y=0) :# y=0 -->default argument, x ---> positinal argument\n",
    "    print(f\"x = \",x)\n",
    "    print(f\"y = \",y)\n",
    "    return x+y"
   ]
  },
  {
   "cell_type": "code",
   "execution_count": 6,
   "metadata": {},
   "outputs": [
    {
     "name": "stdout",
     "output_type": "stream",
     "text": [
      "x =  5\n",
      "y =  0\n"
     ]
    },
    {
     "data": {
      "text/plain": [
       "5"
      ]
     },
     "execution_count": 6,
     "metadata": {},
     "output_type": "execute_result"
    }
   ],
   "source": [
    "add(5)"
   ]
  },
  {
   "cell_type": "code",
   "execution_count": 7,
   "metadata": {},
   "outputs": [
    {
     "name": "stdout",
     "output_type": "stream",
     "text": [
      "x =  2\n",
      "y =  5\n"
     ]
    },
    {
     "data": {
      "text/plain": [
       "7"
      ]
     },
     "execution_count": 7,
     "metadata": {},
     "output_type": "execute_result"
    }
   ],
   "source": [
    "add(y=5,x=2) # keyword arguments"
   ]
  },
  {
   "cell_type": "code",
   "execution_count": 8,
   "metadata": {},
   "outputs": [
    {
     "name": "stdout",
     "output_type": "stream",
     "text": [
      "x =  5\n",
      "y =  4\n"
     ]
    },
    {
     "data": {
      "text/plain": [
       "9"
      ]
     },
     "execution_count": 8,
     "metadata": {},
     "output_type": "execute_result"
    }
   ],
   "source": [
    "add(5,4)"
   ]
  },
  {
   "cell_type": "code",
   "execution_count": 3,
   "metadata": {},
   "outputs": [
    {
     "name": "stdout",
     "output_type": "stream",
     "text": [
      "z is greatest\n",
      "x is greatest\n"
     ]
    }
   ],
   "source": [
    "def great(x,y,z=0) :\n",
    "    if x >= z and x<=y :\n",
    "        print(\"x is greatest\")\n",
    "    elif y>= z :\n",
    "        print(\"y is greatest\")\n",
    "    else :\n",
    "        print(\"z is greatest\")\n",
    " \n",
    "\n",
    "\n",
    "\n",
    "\n",
    "\n",
    "great(7,6,9)\n",
    "great(y=10,x=5)"
   ]
  },
  {
   "cell_type": "code",
   "execution_count": 1,
   "metadata": {},
   "outputs": [
    {
     "ename": "SyntaxError",
     "evalue": "positional argument follows keyword argument (<ipython-input-1-e1d29c743466>, line 1)",
     "output_type": "error",
     "traceback": [
      "\u001b[1;36m  File \u001b[1;32m\"<ipython-input-1-e1d29c743466>\"\u001b[1;36m, line \u001b[1;32m1\u001b[0m\n\u001b[1;33m    great(y=20,x=10,30)\u001b[0m\n\u001b[1;37m                   ^\u001b[0m\n\u001b[1;31mSyntaxError\u001b[0m\u001b[1;31m:\u001b[0m positional argument follows keyword argument\n"
     ]
    }
   ],
   "source": [
    "great(y=20,x=10,30)\n",
    "\n"
   ]
  },
  {
   "cell_type": "markdown",
   "metadata": {},
   "source": [
    "# multiple length arguments"
   ]
  },
  {
   "cell_type": "code",
   "execution_count": 12,
   "metadata": {},
   "outputs": [],
   "source": [
    "def data(*args) :\n",
    "    print(args)\n",
    "    print(type(args))"
   ]
  },
  {
   "cell_type": "code",
   "execution_count": 13,
   "metadata": {},
   "outputs": [
    {
     "name": "stdout",
     "output_type": "stream",
     "text": [
      "(1, 2)\n",
      "<class 'tuple'>\n"
     ]
    }
   ],
   "source": [
    "data(1,2)"
   ]
  },
  {
   "cell_type": "code",
   "execution_count": 22,
   "metadata": {},
   "outputs": [
    {
     "data": {
      "text/plain": [
       "15"
      ]
     },
     "execution_count": 22,
     "metadata": {},
     "output_type": "execute_result"
    }
   ],
   "source": [
    "def mysum(*args) :\n",
    "    s=0\n",
    "    for var in args :\n",
    "        s+=var\n",
    "    return s\n",
    "mysum(1,2,3,4,5)"
   ]
  },
  {
   "cell_type": "code",
   "execution_count": 15,
   "metadata": {},
   "outputs": [
    {
     "name": "stdout",
     "output_type": "stream",
     "text": [
      "['__add__', '__class__', '__contains__', '__delattr__', '__dir__', '__doc__', '__eq__', '__format__', '__ge__', '__getattribute__', '__getitem__', '__getnewargs__', '__gt__', '__hash__', '__init__', '__init_subclass__', '__iter__', '__le__', '__len__', '__lt__', '__mul__', '__ne__', '__new__', '__reduce__', '__reduce_ex__', '__repr__', '__rmul__', '__setattr__', '__sizeof__', '__str__', '__subclasshook__', 'count', 'index']\n"
     ]
    }
   ],
   "source": [
    "print(dir(tuple))"
   ]
  },
  {
   "cell_type": "code",
   "execution_count": 30,
   "metadata": {},
   "outputs": [
    {
     "data": {
      "text/plain": [
       "[1, 4, 9]"
      ]
     },
     "execution_count": 30,
     "metadata": {},
     "output_type": "execute_result"
    }
   ],
   "source": [
    "def square(*args) :\n",
    "    s=[]\n",
    "    for var in args :\n",
    "        s.append(var**2)\n",
    "    return s\n",
    "square(1,2,3)"
   ]
  },
  {
   "cell_type": "markdown",
   "metadata": {},
   "source": [
    "# variable length keyword argument"
   ]
  },
  {
   "cell_type": "code",
   "execution_count": 4,
   "metadata": {},
   "outputs": [
    {
     "data": {
      "text/plain": [
       "{'apple': 10, 'orange': 15, 'grapes': 8, 'banana': 6}"
      ]
     },
     "execution_count": 4,
     "metadata": {},
     "output_type": "execute_result"
    }
   ],
   "source": [
    "d={\"apple\":10,\"orange\":15,\"grapes\":8,\"banana\":6}\n",
    "d1={**d}\n",
    "d1"
   ]
  },
  {
   "cell_type": "code",
   "execution_count": 33,
   "metadata": {},
   "outputs": [
    {
     "name": "stdout",
     "output_type": "stream",
     "text": [
      "{'apple': 10, 'orange': 15, 'grapes': 8, 'banana': 6}\n",
      "{'apple': 100, 'orange': 225, 'grapes': 64, 'banana': 36}\n"
     ]
    }
   ],
   "source": [
    "def update_d(**kwargs) :\n",
    "    for key,value in kwargs.items() :\n",
    "        #print(key,\"=\",value)\n",
    "        kwargs[key]=value**2\n",
    "    return kwargs\n",
    "print(d)   \n",
    "d1 = update_d(**d)\n",
    "print(d1)"
   ]
  },
  {
   "cell_type": "markdown",
   "metadata": {},
   "source": [
    "# global variable and local variable"
   ]
  },
  {
   "cell_type": "code",
   "execution_count": 34,
   "metadata": {},
   "outputs": [
    {
     "data": {
      "text/plain": [
       "{'__name__': '__main__',\n",
       " '__doc__': 'Automatically created module for IPython interactive environment',\n",
       " '__package__': None,\n",
       " '__loader__': None,\n",
       " '__spec__': None,\n",
       " '__builtin__': <module 'builtins' (built-in)>,\n",
       " '__builtins__': <module 'builtins' (built-in)>,\n",
       " '_ih': ['',\n",
       "  '\\nchr(65)',\n",
       "  'def hello(name,age) :\\n    if age>18 :\\n        print(f\"{name} can vote)\\n    else :\\n        print(f\"{name} can not vote)',\n",
       "  'def hello(name,age) :\\n    if age>18 :\\n        print(f\"{name} can vote\")\\n    else :\\n        print(f\"{name} can not vote\")',\n",
       "  'hello(\"pallavi\",20)',\n",
       "  'def add(x,y=0) :# y=0 -->default argument, x ---> positinal argument\\n    print(f\"x = \",x)\\n    print(f\"y = \",y)\\n    return x+y',\n",
       "  'add(5)',\n",
       "  'add(y=5,x=2)',\n",
       "  'add(5,4)',\n",
       "  'def great(x,y,z=0)\\n    if x >= z and x<=y :\\n        print(\"x is greatest\")\\n    elif y>= z :\\n        print(\"y is greatest\")\\n    else :\\n        print(\"z is greatest\")\\n        ',\n",
       "  'def great(x,y,z=0) :\\n    if x >= z and x<=y :\\n        print(\"x is greatest\")\\n    elif y>= z :\\n        print(\"y is greatest\")\\n    else :\\n        print(\"z is greatest\")\\n        ',\n",
       "  'great(7,6,9)',\n",
       "  'def data(*args) :\\n    print(args)\\n    print(type(args))',\n",
       "  'data(1,2)',\n",
       "  'def mysum(*args)\\n   pass\\nmysum(1,2,3,4,5)',\n",
       "  'print(dir(tuple))',\n",
       "  'def mysum(*args) :\\n    print(__add__)\\nmysum(1,2,3,4,5)',\n",
       "  'def mysum(*args) :\\n    s=0\\n    for var in args:\\n        s+=item\\n    return s\\nmysum(1,2,3,4,5)',\n",
       "  'def mysum(*args) :\\n    s=0\\n    for var in args :\\n        s+=item\\n    return s\\nmysum(1,2,3,4,5)',\n",
       "  'def mysum(*args) :\\n    s=0\\n    for var in args :\\n        s+=item\\n    return s\\nmysum(1,2,3,4,5,)',\n",
       "  'def mysum(*args) :\\n    s=0\\n    for var in args :\\n        s+=var\\n    return s\\nmysum(1,2,3,4,5,)',\n",
       "  'def square(*args) :\\n    for var in args :\\n        s = var*var\\n    return [s]\\nsquare(1,2,3)',\n",
       "  'def mysum(*args) :\\n    s=0\\n    for var in args :\\n        s+=var\\n    return s\\nmysum(1,2,3,4,5)',\n",
       "  'def square(*args) :\\n    for var in args :\\n        s = var*var\\n    return s.append(s)\\nsquare(1,2,3)',\n",
       "  'def square(*args) :\\n    for var in args :\\n        s = var*var\\n    return [s.append(s)]\\nsquare(1,2,3)',\n",
       "  'def square(*args) :\\n    for var in args :\\n        s = var*var\\n        s.append(s)\\n    return s\\nsquare(1,2,3)',\n",
       "  'def square(*args) :\\n    for var in args :\\n        s = var*var\\n        s.append(s)\\n    return [s]\\nsquare(1,2,3)',\n",
       "  'def square(*args) :\\n    for var in args :\\n        s=[]\\n        s.append(var**2)\\n    return s\\nsquare(1,2,3)',\n",
       "  'def square(*args) :\\n    for var in args :\\n        s=[]\\n        s.append(var**2)\\nreturn s\\nsquare(1,2,3)',\n",
       "  'def square(*args) :\\n    s=[]\\n    for var in args :\\n        s.append(var**2)\\nreturn s\\nsquare(1,2,3)',\n",
       "  'def square(*args) :\\n    s=[]\\n    for var in args :\\n        s.append(var**2)\\n    return s\\nsquare(1,2,3)',\n",
       "  'd={\"apple\":10,\"orange\":15,\"grapes\":8,\"banana\":6}',\n",
       "  'def update_d(**kwargs) :\\n    for key_value in kwargs :\\n        key_value=key_value**2\\nd1 = update_d(d)\\nprint(d1)',\n",
       "  'def update_d(**kwargs) :\\n    for key,value in kwargs.items() :\\n        #print(key,\"=\",value)\\n        kwargs[key]=value**2\\n    return kwargs\\nprint(d)   \\nd1 = update_d(**d)\\nprint(d1)',\n",
       "  'globals()'],\n",
       " '_oh': {1: 'A',\n",
       "  6: 5,\n",
       "  7: 7,\n",
       "  8: 9,\n",
       "  20: 15,\n",
       "  21: [9],\n",
       "  22: 15,\n",
       "  27: [9],\n",
       "  30: [1, 4, 9]},\n",
       " '_dh': ['C:\\\\Users\\\\pallavi-pc\\\\Desktop\\\\summerinternbatch\\\\batch_8am'],\n",
       " 'In': ['',\n",
       "  '\\nchr(65)',\n",
       "  'def hello(name,age) :\\n    if age>18 :\\n        print(f\"{name} can vote)\\n    else :\\n        print(f\"{name} can not vote)',\n",
       "  'def hello(name,age) :\\n    if age>18 :\\n        print(f\"{name} can vote\")\\n    else :\\n        print(f\"{name} can not vote\")',\n",
       "  'hello(\"pallavi\",20)',\n",
       "  'def add(x,y=0) :# y=0 -->default argument, x ---> positinal argument\\n    print(f\"x = \",x)\\n    print(f\"y = \",y)\\n    return x+y',\n",
       "  'add(5)',\n",
       "  'add(y=5,x=2)',\n",
       "  'add(5,4)',\n",
       "  'def great(x,y,z=0)\\n    if x >= z and x<=y :\\n        print(\"x is greatest\")\\n    elif y>= z :\\n        print(\"y is greatest\")\\n    else :\\n        print(\"z is greatest\")\\n        ',\n",
       "  'def great(x,y,z=0) :\\n    if x >= z and x<=y :\\n        print(\"x is greatest\")\\n    elif y>= z :\\n        print(\"y is greatest\")\\n    else :\\n        print(\"z is greatest\")\\n        ',\n",
       "  'great(7,6,9)',\n",
       "  'def data(*args) :\\n    print(args)\\n    print(type(args))',\n",
       "  'data(1,2)',\n",
       "  'def mysum(*args)\\n   pass\\nmysum(1,2,3,4,5)',\n",
       "  'print(dir(tuple))',\n",
       "  'def mysum(*args) :\\n    print(__add__)\\nmysum(1,2,3,4,5)',\n",
       "  'def mysum(*args) :\\n    s=0\\n    for var in args:\\n        s+=item\\n    return s\\nmysum(1,2,3,4,5)',\n",
       "  'def mysum(*args) :\\n    s=0\\n    for var in args :\\n        s+=item\\n    return s\\nmysum(1,2,3,4,5)',\n",
       "  'def mysum(*args) :\\n    s=0\\n    for var in args :\\n        s+=item\\n    return s\\nmysum(1,2,3,4,5,)',\n",
       "  'def mysum(*args) :\\n    s=0\\n    for var in args :\\n        s+=var\\n    return s\\nmysum(1,2,3,4,5,)',\n",
       "  'def square(*args) :\\n    for var in args :\\n        s = var*var\\n    return [s]\\nsquare(1,2,3)',\n",
       "  'def mysum(*args) :\\n    s=0\\n    for var in args :\\n        s+=var\\n    return s\\nmysum(1,2,3,4,5)',\n",
       "  'def square(*args) :\\n    for var in args :\\n        s = var*var\\n    return s.append(s)\\nsquare(1,2,3)',\n",
       "  'def square(*args) :\\n    for var in args :\\n        s = var*var\\n    return [s.append(s)]\\nsquare(1,2,3)',\n",
       "  'def square(*args) :\\n    for var in args :\\n        s = var*var\\n        s.append(s)\\n    return s\\nsquare(1,2,3)',\n",
       "  'def square(*args) :\\n    for var in args :\\n        s = var*var\\n        s.append(s)\\n    return [s]\\nsquare(1,2,3)',\n",
       "  'def square(*args) :\\n    for var in args :\\n        s=[]\\n        s.append(var**2)\\n    return s\\nsquare(1,2,3)',\n",
       "  'def square(*args) :\\n    for var in args :\\n        s=[]\\n        s.append(var**2)\\nreturn s\\nsquare(1,2,3)',\n",
       "  'def square(*args) :\\n    s=[]\\n    for var in args :\\n        s.append(var**2)\\nreturn s\\nsquare(1,2,3)',\n",
       "  'def square(*args) :\\n    s=[]\\n    for var in args :\\n        s.append(var**2)\\n    return s\\nsquare(1,2,3)',\n",
       "  'd={\"apple\":10,\"orange\":15,\"grapes\":8,\"banana\":6}',\n",
       "  'def update_d(**kwargs) :\\n    for key_value in kwargs :\\n        key_value=key_value**2\\nd1 = update_d(d)\\nprint(d1)',\n",
       "  'def update_d(**kwargs) :\\n    for key,value in kwargs.items() :\\n        #print(key,\"=\",value)\\n        kwargs[key]=value**2\\n    return kwargs\\nprint(d)   \\nd1 = update_d(**d)\\nprint(d1)',\n",
       "  'globals()'],\n",
       " 'Out': {1: 'A',\n",
       "  6: 5,\n",
       "  7: 7,\n",
       "  8: 9,\n",
       "  20: 15,\n",
       "  21: [9],\n",
       "  22: 15,\n",
       "  27: [9],\n",
       "  30: [1, 4, 9]},\n",
       " 'get_ipython': <bound method InteractiveShell.get_ipython of <ipykernel.zmqshell.ZMQInteractiveShell object at 0x000000B40DE275F8>>,\n",
       " 'exit': <IPython.core.autocall.ZMQExitAutocall at 0xb40e1a8da0>,\n",
       " 'quit': <IPython.core.autocall.ZMQExitAutocall at 0xb40e1a8da0>,\n",
       " '_': [1, 4, 9],\n",
       " '__': [9],\n",
       " '___': 15,\n",
       " '_i': 'def update_d(**kwargs) :\\n    for key,value in kwargs.items() :\\n        #print(key,\"=\",value)\\n        kwargs[key]=value**2\\n    return kwargs\\nprint(d)   \\nd1 = update_d(**d)\\nprint(d1)',\n",
       " '_ii': 'def update_d(**kwargs) :\\n    for key_value in kwargs :\\n        key_value=key_value**2\\nd1 = update_d(d)\\nprint(d1)',\n",
       " '_iii': 'd={\"apple\":10,\"orange\":15,\"grapes\":8,\"banana\":6}',\n",
       " '_i1': '\\nchr(65)',\n",
       " '_1': 'A',\n",
       " '_i2': 'def hello(name,age) :\\n    if age>18 :\\n        print(f\"{name} can vote)\\n    else :\\n        print(f\"{name} can not vote)',\n",
       " '_i3': 'def hello(name,age) :\\n    if age>18 :\\n        print(f\"{name} can vote\")\\n    else :\\n        print(f\"{name} can not vote\")',\n",
       " 'hello': <function __main__.hello(name, age)>,\n",
       " '_i4': 'hello(\"pallavi\",20)',\n",
       " '_i5': 'def add(x,y=0) :# y=0 -->default argument, x ---> positinal argument\\n    print(f\"x = \",x)\\n    print(f\"y = \",y)\\n    return x+y',\n",
       " 'add': <function __main__.add(x, y=0)>,\n",
       " '_i6': 'add(5)',\n",
       " '_6': 5,\n",
       " '_i7': 'add(y=5,x=2)',\n",
       " '_7': 7,\n",
       " '_i8': 'add(5,4)',\n",
       " '_8': 9,\n",
       " '_i9': 'def great(x,y,z=0)\\n    if x >= z and x<=y :\\n        print(\"x is greatest\")\\n    elif y>= z :\\n        print(\"y is greatest\")\\n    else :\\n        print(\"z is greatest\")\\n        ',\n",
       " '_i10': 'def great(x,y,z=0) :\\n    if x >= z and x<=y :\\n        print(\"x is greatest\")\\n    elif y>= z :\\n        print(\"y is greatest\")\\n    else :\\n        print(\"z is greatest\")\\n        ',\n",
       " 'great': <function __main__.great(x, y, z=0)>,\n",
       " '_i11': 'great(7,6,9)',\n",
       " '_i12': 'def data(*args) :\\n    print(args)\\n    print(type(args))',\n",
       " 'data': <function __main__.data(*args)>,\n",
       " '_i13': 'data(1,2)',\n",
       " '_i14': 'def mysum(*args)\\n   pass\\nmysum(1,2,3,4,5)',\n",
       " '_i15': 'print(dir(tuple))',\n",
       " '_i16': 'def mysum(*args) :\\n    print(__add__)\\nmysum(1,2,3,4,5)',\n",
       " 'mysum': <function __main__.mysum(*args)>,\n",
       " '_i17': 'def mysum(*args) :\\n    s=0\\n    for var in args:\\n        s+=item\\n    return s\\nmysum(1,2,3,4,5)',\n",
       " '_i18': 'def mysum(*args) :\\n    s=0\\n    for var in args :\\n        s+=item\\n    return s\\nmysum(1,2,3,4,5)',\n",
       " '_i19': 'def mysum(*args) :\\n    s=0\\n    for var in args :\\n        s+=item\\n    return s\\nmysum(1,2,3,4,5,)',\n",
       " '_i20': 'def mysum(*args) :\\n    s=0\\n    for var in args :\\n        s+=var\\n    return s\\nmysum(1,2,3,4,5,)',\n",
       " '_20': 15,\n",
       " '_i21': 'def square(*args) :\\n    for var in args :\\n        s = var*var\\n    return [s]\\nsquare(1,2,3)',\n",
       " 'square': <function __main__.square(*args)>,\n",
       " '_21': [9],\n",
       " '_i22': 'def mysum(*args) :\\n    s=0\\n    for var in args :\\n        s+=var\\n    return s\\nmysum(1,2,3,4,5)',\n",
       " '_22': 15,\n",
       " '_i23': 'def square(*args) :\\n    for var in args :\\n        s = var*var\\n    return s.append(s)\\nsquare(1,2,3)',\n",
       " '_i24': 'def square(*args) :\\n    for var in args :\\n        s = var*var\\n    return [s.append(s)]\\nsquare(1,2,3)',\n",
       " '_i25': 'def square(*args) :\\n    for var in args :\\n        s = var*var\\n        s.append(s)\\n    return s\\nsquare(1,2,3)',\n",
       " '_i26': 'def square(*args) :\\n    for var in args :\\n        s = var*var\\n        s.append(s)\\n    return [s]\\nsquare(1,2,3)',\n",
       " '_i27': 'def square(*args) :\\n    for var in args :\\n        s=[]\\n        s.append(var**2)\\n    return s\\nsquare(1,2,3)',\n",
       " '_27': [9],\n",
       " '_i28': 'def square(*args) :\\n    for var in args :\\n        s=[]\\n        s.append(var**2)\\nreturn s\\nsquare(1,2,3)',\n",
       " '_i29': 'def square(*args) :\\n    s=[]\\n    for var in args :\\n        s.append(var**2)\\nreturn s\\nsquare(1,2,3)',\n",
       " '_i30': 'def square(*args) :\\n    s=[]\\n    for var in args :\\n        s.append(var**2)\\n    return s\\nsquare(1,2,3)',\n",
       " '_30': [1, 4, 9],\n",
       " '_i31': 'd={\"apple\":10,\"orange\":15,\"grapes\":8,\"banana\":6}',\n",
       " 'd': {'apple': 10, 'orange': 15, 'grapes': 8, 'banana': 6},\n",
       " '_i32': 'def update_d(**kwargs) :\\n    for key_value in kwargs :\\n        key_value=key_value**2\\nd1 = update_d(d)\\nprint(d1)',\n",
       " 'update_d': <function __main__.update_d(**kwargs)>,\n",
       " '_i33': 'def update_d(**kwargs) :\\n    for key,value in kwargs.items() :\\n        #print(key,\"=\",value)\\n        kwargs[key]=value**2\\n    return kwargs\\nprint(d)   \\nd1 = update_d(**d)\\nprint(d1)',\n",
       " 'd1': {'apple': 100, 'orange': 225, 'grapes': 64, 'banana': 36},\n",
       " '_i34': 'globals()'}"
      ]
     },
     "execution_count": 34,
     "metadata": {},
     "output_type": "execute_result"
    }
   ],
   "source": [
    "globals()"
   ]
  },
  {
   "cell_type": "code",
   "execution_count": 35,
   "metadata": {},
   "outputs": [
    {
     "data": {
      "text/plain": [
       "{'__name__': '__main__',\n",
       " '__doc__': 'Automatically created module for IPython interactive environment',\n",
       " '__package__': None,\n",
       " '__loader__': None,\n",
       " '__spec__': None,\n",
       " '__builtin__': <module 'builtins' (built-in)>,\n",
       " '__builtins__': <module 'builtins' (built-in)>,\n",
       " '_ih': ['',\n",
       "  '\\nchr(65)',\n",
       "  'def hello(name,age) :\\n    if age>18 :\\n        print(f\"{name} can vote)\\n    else :\\n        print(f\"{name} can not vote)',\n",
       "  'def hello(name,age) :\\n    if age>18 :\\n        print(f\"{name} can vote\")\\n    else :\\n        print(f\"{name} can not vote\")',\n",
       "  'hello(\"pallavi\",20)',\n",
       "  'def add(x,y=0) :# y=0 -->default argument, x ---> positinal argument\\n    print(f\"x = \",x)\\n    print(f\"y = \",y)\\n    return x+y',\n",
       "  'add(5)',\n",
       "  'add(y=5,x=2)',\n",
       "  'add(5,4)',\n",
       "  'def great(x,y,z=0)\\n    if x >= z and x<=y :\\n        print(\"x is greatest\")\\n    elif y>= z :\\n        print(\"y is greatest\")\\n    else :\\n        print(\"z is greatest\")\\n        ',\n",
       "  'def great(x,y,z=0) :\\n    if x >= z and x<=y :\\n        print(\"x is greatest\")\\n    elif y>= z :\\n        print(\"y is greatest\")\\n    else :\\n        print(\"z is greatest\")\\n        ',\n",
       "  'great(7,6,9)',\n",
       "  'def data(*args) :\\n    print(args)\\n    print(type(args))',\n",
       "  'data(1,2)',\n",
       "  'def mysum(*args)\\n   pass\\nmysum(1,2,3,4,5)',\n",
       "  'print(dir(tuple))',\n",
       "  'def mysum(*args) :\\n    print(__add__)\\nmysum(1,2,3,4,5)',\n",
       "  'def mysum(*args) :\\n    s=0\\n    for var in args:\\n        s+=item\\n    return s\\nmysum(1,2,3,4,5)',\n",
       "  'def mysum(*args) :\\n    s=0\\n    for var in args :\\n        s+=item\\n    return s\\nmysum(1,2,3,4,5)',\n",
       "  'def mysum(*args) :\\n    s=0\\n    for var in args :\\n        s+=item\\n    return s\\nmysum(1,2,3,4,5,)',\n",
       "  'def mysum(*args) :\\n    s=0\\n    for var in args :\\n        s+=var\\n    return s\\nmysum(1,2,3,4,5,)',\n",
       "  'def square(*args) :\\n    for var in args :\\n        s = var*var\\n    return [s]\\nsquare(1,2,3)',\n",
       "  'def mysum(*args) :\\n    s=0\\n    for var in args :\\n        s+=var\\n    return s\\nmysum(1,2,3,4,5)',\n",
       "  'def square(*args) :\\n    for var in args :\\n        s = var*var\\n    return s.append(s)\\nsquare(1,2,3)',\n",
       "  'def square(*args) :\\n    for var in args :\\n        s = var*var\\n    return [s.append(s)]\\nsquare(1,2,3)',\n",
       "  'def square(*args) :\\n    for var in args :\\n        s = var*var\\n        s.append(s)\\n    return s\\nsquare(1,2,3)',\n",
       "  'def square(*args) :\\n    for var in args :\\n        s = var*var\\n        s.append(s)\\n    return [s]\\nsquare(1,2,3)',\n",
       "  'def square(*args) :\\n    for var in args :\\n        s=[]\\n        s.append(var**2)\\n    return s\\nsquare(1,2,3)',\n",
       "  'def square(*args) :\\n    for var in args :\\n        s=[]\\n        s.append(var**2)\\nreturn s\\nsquare(1,2,3)',\n",
       "  'def square(*args) :\\n    s=[]\\n    for var in args :\\n        s.append(var**2)\\nreturn s\\nsquare(1,2,3)',\n",
       "  'def square(*args) :\\n    s=[]\\n    for var in args :\\n        s.append(var**2)\\n    return s\\nsquare(1,2,3)',\n",
       "  'd={\"apple\":10,\"orange\":15,\"grapes\":8,\"banana\":6}',\n",
       "  'def update_d(**kwargs) :\\n    for key_value in kwargs :\\n        key_value=key_value**2\\nd1 = update_d(d)\\nprint(d1)',\n",
       "  'def update_d(**kwargs) :\\n    for key,value in kwargs.items() :\\n        #print(key,\"=\",value)\\n        kwargs[key]=value**2\\n    return kwargs\\nprint(d)   \\nd1 = update_d(**d)\\nprint(d1)',\n",
       "  'globals()',\n",
       "  'locals()'],\n",
       " '_oh': {1: 'A',\n",
       "  6: 5,\n",
       "  7: 7,\n",
       "  8: 9,\n",
       "  20: 15,\n",
       "  21: [9],\n",
       "  22: 15,\n",
       "  27: [9],\n",
       "  30: [1, 4, 9],\n",
       "  34: {...}},\n",
       " '_dh': ['C:\\\\Users\\\\pallavi-pc\\\\Desktop\\\\summerinternbatch\\\\batch_8am'],\n",
       " 'In': ['',\n",
       "  '\\nchr(65)',\n",
       "  'def hello(name,age) :\\n    if age>18 :\\n        print(f\"{name} can vote)\\n    else :\\n        print(f\"{name} can not vote)',\n",
       "  'def hello(name,age) :\\n    if age>18 :\\n        print(f\"{name} can vote\")\\n    else :\\n        print(f\"{name} can not vote\")',\n",
       "  'hello(\"pallavi\",20)',\n",
       "  'def add(x,y=0) :# y=0 -->default argument, x ---> positinal argument\\n    print(f\"x = \",x)\\n    print(f\"y = \",y)\\n    return x+y',\n",
       "  'add(5)',\n",
       "  'add(y=5,x=2)',\n",
       "  'add(5,4)',\n",
       "  'def great(x,y,z=0)\\n    if x >= z and x<=y :\\n        print(\"x is greatest\")\\n    elif y>= z :\\n        print(\"y is greatest\")\\n    else :\\n        print(\"z is greatest\")\\n        ',\n",
       "  'def great(x,y,z=0) :\\n    if x >= z and x<=y :\\n        print(\"x is greatest\")\\n    elif y>= z :\\n        print(\"y is greatest\")\\n    else :\\n        print(\"z is greatest\")\\n        ',\n",
       "  'great(7,6,9)',\n",
       "  'def data(*args) :\\n    print(args)\\n    print(type(args))',\n",
       "  'data(1,2)',\n",
       "  'def mysum(*args)\\n   pass\\nmysum(1,2,3,4,5)',\n",
       "  'print(dir(tuple))',\n",
       "  'def mysum(*args) :\\n    print(__add__)\\nmysum(1,2,3,4,5)',\n",
       "  'def mysum(*args) :\\n    s=0\\n    for var in args:\\n        s+=item\\n    return s\\nmysum(1,2,3,4,5)',\n",
       "  'def mysum(*args) :\\n    s=0\\n    for var in args :\\n        s+=item\\n    return s\\nmysum(1,2,3,4,5)',\n",
       "  'def mysum(*args) :\\n    s=0\\n    for var in args :\\n        s+=item\\n    return s\\nmysum(1,2,3,4,5,)',\n",
       "  'def mysum(*args) :\\n    s=0\\n    for var in args :\\n        s+=var\\n    return s\\nmysum(1,2,3,4,5,)',\n",
       "  'def square(*args) :\\n    for var in args :\\n        s = var*var\\n    return [s]\\nsquare(1,2,3)',\n",
       "  'def mysum(*args) :\\n    s=0\\n    for var in args :\\n        s+=var\\n    return s\\nmysum(1,2,3,4,5)',\n",
       "  'def square(*args) :\\n    for var in args :\\n        s = var*var\\n    return s.append(s)\\nsquare(1,2,3)',\n",
       "  'def square(*args) :\\n    for var in args :\\n        s = var*var\\n    return [s.append(s)]\\nsquare(1,2,3)',\n",
       "  'def square(*args) :\\n    for var in args :\\n        s = var*var\\n        s.append(s)\\n    return s\\nsquare(1,2,3)',\n",
       "  'def square(*args) :\\n    for var in args :\\n        s = var*var\\n        s.append(s)\\n    return [s]\\nsquare(1,2,3)',\n",
       "  'def square(*args) :\\n    for var in args :\\n        s=[]\\n        s.append(var**2)\\n    return s\\nsquare(1,2,3)',\n",
       "  'def square(*args) :\\n    for var in args :\\n        s=[]\\n        s.append(var**2)\\nreturn s\\nsquare(1,2,3)',\n",
       "  'def square(*args) :\\n    s=[]\\n    for var in args :\\n        s.append(var**2)\\nreturn s\\nsquare(1,2,3)',\n",
       "  'def square(*args) :\\n    s=[]\\n    for var in args :\\n        s.append(var**2)\\n    return s\\nsquare(1,2,3)',\n",
       "  'd={\"apple\":10,\"orange\":15,\"grapes\":8,\"banana\":6}',\n",
       "  'def update_d(**kwargs) :\\n    for key_value in kwargs :\\n        key_value=key_value**2\\nd1 = update_d(d)\\nprint(d1)',\n",
       "  'def update_d(**kwargs) :\\n    for key,value in kwargs.items() :\\n        #print(key,\"=\",value)\\n        kwargs[key]=value**2\\n    return kwargs\\nprint(d)   \\nd1 = update_d(**d)\\nprint(d1)',\n",
       "  'globals()',\n",
       "  'locals()'],\n",
       " 'Out': {1: 'A',\n",
       "  6: 5,\n",
       "  7: 7,\n",
       "  8: 9,\n",
       "  20: 15,\n",
       "  21: [9],\n",
       "  22: 15,\n",
       "  27: [9],\n",
       "  30: [1, 4, 9],\n",
       "  34: {...}},\n",
       " 'get_ipython': <bound method InteractiveShell.get_ipython of <ipykernel.zmqshell.ZMQInteractiveShell object at 0x000000B40DE275F8>>,\n",
       " 'exit': <IPython.core.autocall.ZMQExitAutocall at 0xb40e1a8da0>,\n",
       " 'quit': <IPython.core.autocall.ZMQExitAutocall at 0xb40e1a8da0>,\n",
       " '_': {...},\n",
       " '__': [1, 4, 9],\n",
       " '___': [9],\n",
       " '_i': 'globals()',\n",
       " '_ii': 'def update_d(**kwargs) :\\n    for key,value in kwargs.items() :\\n        #print(key,\"=\",value)\\n        kwargs[key]=value**2\\n    return kwargs\\nprint(d)   \\nd1 = update_d(**d)\\nprint(d1)',\n",
       " '_iii': 'def update_d(**kwargs) :\\n    for key_value in kwargs :\\n        key_value=key_value**2\\nd1 = update_d(d)\\nprint(d1)',\n",
       " '_i1': '\\nchr(65)',\n",
       " '_1': 'A',\n",
       " '_i2': 'def hello(name,age) :\\n    if age>18 :\\n        print(f\"{name} can vote)\\n    else :\\n        print(f\"{name} can not vote)',\n",
       " '_i3': 'def hello(name,age) :\\n    if age>18 :\\n        print(f\"{name} can vote\")\\n    else :\\n        print(f\"{name} can not vote\")',\n",
       " 'hello': <function __main__.hello(name, age)>,\n",
       " '_i4': 'hello(\"pallavi\",20)',\n",
       " '_i5': 'def add(x,y=0) :# y=0 -->default argument, x ---> positinal argument\\n    print(f\"x = \",x)\\n    print(f\"y = \",y)\\n    return x+y',\n",
       " 'add': <function __main__.add(x, y=0)>,\n",
       " '_i6': 'add(5)',\n",
       " '_6': 5,\n",
       " '_i7': 'add(y=5,x=2)',\n",
       " '_7': 7,\n",
       " '_i8': 'add(5,4)',\n",
       " '_8': 9,\n",
       " '_i9': 'def great(x,y,z=0)\\n    if x >= z and x<=y :\\n        print(\"x is greatest\")\\n    elif y>= z :\\n        print(\"y is greatest\")\\n    else :\\n        print(\"z is greatest\")\\n        ',\n",
       " '_i10': 'def great(x,y,z=0) :\\n    if x >= z and x<=y :\\n        print(\"x is greatest\")\\n    elif y>= z :\\n        print(\"y is greatest\")\\n    else :\\n        print(\"z is greatest\")\\n        ',\n",
       " 'great': <function __main__.great(x, y, z=0)>,\n",
       " '_i11': 'great(7,6,9)',\n",
       " '_i12': 'def data(*args) :\\n    print(args)\\n    print(type(args))',\n",
       " 'data': <function __main__.data(*args)>,\n",
       " '_i13': 'data(1,2)',\n",
       " '_i14': 'def mysum(*args)\\n   pass\\nmysum(1,2,3,4,5)',\n",
       " '_i15': 'print(dir(tuple))',\n",
       " '_i16': 'def mysum(*args) :\\n    print(__add__)\\nmysum(1,2,3,4,5)',\n",
       " 'mysum': <function __main__.mysum(*args)>,\n",
       " '_i17': 'def mysum(*args) :\\n    s=0\\n    for var in args:\\n        s+=item\\n    return s\\nmysum(1,2,3,4,5)',\n",
       " '_i18': 'def mysum(*args) :\\n    s=0\\n    for var in args :\\n        s+=item\\n    return s\\nmysum(1,2,3,4,5)',\n",
       " '_i19': 'def mysum(*args) :\\n    s=0\\n    for var in args :\\n        s+=item\\n    return s\\nmysum(1,2,3,4,5,)',\n",
       " '_i20': 'def mysum(*args) :\\n    s=0\\n    for var in args :\\n        s+=var\\n    return s\\nmysum(1,2,3,4,5,)',\n",
       " '_20': 15,\n",
       " '_i21': 'def square(*args) :\\n    for var in args :\\n        s = var*var\\n    return [s]\\nsquare(1,2,3)',\n",
       " 'square': <function __main__.square(*args)>,\n",
       " '_21': [9],\n",
       " '_i22': 'def mysum(*args) :\\n    s=0\\n    for var in args :\\n        s+=var\\n    return s\\nmysum(1,2,3,4,5)',\n",
       " '_22': 15,\n",
       " '_i23': 'def square(*args) :\\n    for var in args :\\n        s = var*var\\n    return s.append(s)\\nsquare(1,2,3)',\n",
       " '_i24': 'def square(*args) :\\n    for var in args :\\n        s = var*var\\n    return [s.append(s)]\\nsquare(1,2,3)',\n",
       " '_i25': 'def square(*args) :\\n    for var in args :\\n        s = var*var\\n        s.append(s)\\n    return s\\nsquare(1,2,3)',\n",
       " '_i26': 'def square(*args) :\\n    for var in args :\\n        s = var*var\\n        s.append(s)\\n    return [s]\\nsquare(1,2,3)',\n",
       " '_i27': 'def square(*args) :\\n    for var in args :\\n        s=[]\\n        s.append(var**2)\\n    return s\\nsquare(1,2,3)',\n",
       " '_27': [9],\n",
       " '_i28': 'def square(*args) :\\n    for var in args :\\n        s=[]\\n        s.append(var**2)\\nreturn s\\nsquare(1,2,3)',\n",
       " '_i29': 'def square(*args) :\\n    s=[]\\n    for var in args :\\n        s.append(var**2)\\nreturn s\\nsquare(1,2,3)',\n",
       " '_i30': 'def square(*args) :\\n    s=[]\\n    for var in args :\\n        s.append(var**2)\\n    return s\\nsquare(1,2,3)',\n",
       " '_30': [1, 4, 9],\n",
       " '_i31': 'd={\"apple\":10,\"orange\":15,\"grapes\":8,\"banana\":6}',\n",
       " 'd': {'apple': 10, 'orange': 15, 'grapes': 8, 'banana': 6},\n",
       " '_i32': 'def update_d(**kwargs) :\\n    for key_value in kwargs :\\n        key_value=key_value**2\\nd1 = update_d(d)\\nprint(d1)',\n",
       " 'update_d': <function __main__.update_d(**kwargs)>,\n",
       " '_i33': 'def update_d(**kwargs) :\\n    for key,value in kwargs.items() :\\n        #print(key,\"=\",value)\\n        kwargs[key]=value**2\\n    return kwargs\\nprint(d)   \\nd1 = update_d(**d)\\nprint(d1)',\n",
       " 'd1': {'apple': 100, 'orange': 225, 'grapes': 64, 'banana': 36},\n",
       " '_i34': 'globals()',\n",
       " '_34': {...},\n",
       " '_i35': 'locals()'}"
      ]
     },
     "execution_count": 35,
     "metadata": {},
     "output_type": "execute_result"
    }
   ],
   "source": [
    "locals()"
   ]
  },
  {
   "cell_type": "code",
   "execution_count": 37,
   "metadata": {},
   "outputs": [
    {
     "name": "stdout",
     "output_type": "stream",
     "text": [
      "5\n"
     ]
    }
   ],
   "source": [
    "x = 5\n",
    "def hello() :\n",
    "    x =10\n",
    "hello()\n",
    "print(x)"
   ]
  },
  {
   "cell_type": "markdown",
   "metadata": {},
   "source": [
    "# recursion = function calling itself"
   ]
  },
  {
   "cell_type": "code",
   "execution_count": 38,
   "metadata": {},
   "outputs": [],
   "source": [
    "import sys"
   ]
  },
  {
   "cell_type": "code",
   "execution_count": 40,
   "metadata": {},
   "outputs": [
    {
     "data": {
      "text/plain": [
       "3000"
      ]
     },
     "execution_count": 40,
     "metadata": {},
     "output_type": "execute_result"
    }
   ],
   "source": [
    "sys.getrecursionlimit()"
   ]
  },
  {
   "cell_type": "code",
   "execution_count": 41,
   "metadata": {},
   "outputs": [],
   "source": [
    "sys.setrecursionlimit(2000)"
   ]
  },
  {
   "cell_type": "code",
   "execution_count": 62,
   "metadata": {},
   "outputs": [
    {
     "name": "stdout",
     "output_type": "stream",
     "text": [
      "enter a no : 6\n"
     ]
    },
    {
     "data": {
      "text/plain": [
       "720"
      ]
     },
     "execution_count": 62,
     "metadata": {},
     "output_type": "execute_result"
    }
   ],
   "source": [
    "# factorial\n",
    "def fact(num) :\n",
    "    if num == 1 :\n",
    "        return 1\n",
    "    return num*fact(num-1)\n",
    "    \n",
    "    \n",
    "num = int(input(\"enter a no : \"))\n",
    "fact(num)"
   ]
  },
  {
   "cell_type": "code",
   "execution_count": 64,
   "metadata": {},
   "outputs": [
    {
     "name": "stdout",
     "output_type": "stream",
     "text": [
      "enter a no : 57\n",
      "not prime\n"
     ]
    }
   ],
   "source": [
    "# prime \n",
    "num=int(input(\"enter a no : \"))\n",
    "\n",
    "check =2\n",
    "while check <= num//2 +1 :\n",
    "    if num % check == 0 :\n",
    "        print(\"not prime\")\n",
    "        break \n",
    "    check += 1\n",
    "else:\n",
    "    print(\"prime\")\n"
   ]
  },
  {
   "cell_type": "code",
   "execution_count": 1,
   "metadata": {},
   "outputs": [],
   "source": [
    "def prime(num,check=2) :\n",
    "    \"\"\" prime(num)--> true if num is prime else false\"\"\"\n",
    "    if check == num//2 +1 :\n",
    "        return True\n",
    "    elif num % check == 0 :\n",
    "        return False\n",
    "    return prime(num,check+1)\n",
    "\n",
    "\n",
    "\n",
    "        "
   ]
  },
  {
   "cell_type": "code",
   "execution_count": 2,
   "metadata": {},
   "outputs": [
    {
     "data": {
      "text/plain": [
       "False"
      ]
     },
     "execution_count": 2,
     "metadata": {},
     "output_type": "execute_result"
    }
   ],
   "source": [
    "prime(121)"
   ]
  },
  {
   "cell_type": "markdown",
   "metadata": {},
   "source": [
    "# lambda \n",
    "### anonymous function or inline function"
   ]
  },
  {
   "cell_type": "markdown",
   "metadata": {},
   "source": [
    "syntax\n",
    "\n",
    "fun_name = lambda arg1,arg2,arg3 .... : return value"
   ]
  },
  {
   "cell_type": "code",
   "execution_count": 5,
   "metadata": {},
   "outputs": [],
   "source": [
    "def even(num) :\n",
    "    if num % 2 ==0 :\n",
    "        return True\n",
    "    else :\n",
    "        return False"
   ]
  },
  {
   "cell_type": "code",
   "execution_count": 4,
   "metadata": {},
   "outputs": [
    {
     "data": {
      "text/plain": [
       "False"
      ]
     },
     "execution_count": 4,
     "metadata": {},
     "output_type": "execute_result"
    }
   ],
   "source": [
    "even(5)"
   ]
  },
  {
   "cell_type": "code",
   "execution_count": 5,
   "metadata": {},
   "outputs": [],
   "source": [
    "even =lambda num :False if num%2 else True"
   ]
  },
  {
   "cell_type": "code",
   "execution_count": 6,
   "metadata": {},
   "outputs": [
    {
     "data": {
      "text/plain": [
       "False"
      ]
     },
     "execution_count": 6,
     "metadata": {},
     "output_type": "execute_result"
    }
   ],
   "source": [
    "even(3)"
   ]
  },
  {
   "cell_type": "code",
   "execution_count": 11,
   "metadata": {},
   "outputs": [],
   "source": [
    "great = lambda x,y,z : x if x>=y and x>=z else y if y>=z else z"
   ]
  },
  {
   "cell_type": "code",
   "execution_count": 12,
   "metadata": {},
   "outputs": [
    {
     "data": {
      "text/plain": [
       "10"
      ]
     },
     "execution_count": 12,
     "metadata": {},
     "output_type": "execute_result"
    }
   ],
   "source": [
    "great(3,4,10)"
   ]
  },
  {
   "cell_type": "code",
   "execution_count": 6,
   "metadata": {},
   "outputs": [],
   "source": [
    "def add(x,y) :\n",
    "    return x+y"
   ]
  },
  {
   "cell_type": "code",
   "execution_count": 7,
   "metadata": {},
   "outputs": [],
   "source": [
    "add = lambda x,y :x+y"
   ]
  },
  {
   "cell_type": "code",
   "execution_count": 8,
   "metadata": {},
   "outputs": [
    {
     "data": {
      "text/plain": [
       "9"
      ]
     },
     "execution_count": 8,
     "metadata": {},
     "output_type": "execute_result"
    }
   ],
   "source": [
    "add(4,5)"
   ]
  },
  {
   "cell_type": "code",
   "execution_count": 9,
   "metadata": {},
   "outputs": [],
   "source": [
    "even = lambda num:False if num % 2 else True"
   ]
  },
  {
   "cell_type": "code",
   "execution_count": 10,
   "metadata": {},
   "outputs": [
    {
     "data": {
      "text/plain": [
       "True"
      ]
     },
     "execution_count": 10,
     "metadata": {},
     "output_type": "execute_result"
    }
   ],
   "source": [
    "even(10)"
   ]
  },
  {
   "cell_type": "code",
   "execution_count": 11,
   "metadata": {},
   "outputs": [
    {
     "data": {
      "text/plain": [
       "False"
      ]
     },
     "execution_count": 11,
     "metadata": {},
     "output_type": "execute_result"
    }
   ],
   "source": [
    "even(21)"
   ]
  },
  {
   "cell_type": "code",
   "execution_count": 12,
   "metadata": {},
   "outputs": [],
   "source": [
    "fact = lambda num: 1 if num == 1 else num*fact(num-1)"
   ]
  },
  {
   "cell_type": "code",
   "execution_count": 13,
   "metadata": {},
   "outputs": [
    {
     "data": {
      "text/plain": [
       "120"
      ]
     },
     "execution_count": 13,
     "metadata": {},
     "output_type": "execute_result"
    }
   ],
   "source": [
    "fact(5)"
   ]
  },
  {
   "cell_type": "code",
   "execution_count": 14,
   "metadata": {},
   "outputs": [],
   "source": [
    "def prime(num,check=2) :\n",
    "    \"\"\" prime(num)--> true if num is prime else false\"\"\"\n",
    "    if check == num//2 +1 :\n",
    "        return True\n",
    "    elif num % check == 0 :\n",
    "        return False\n",
    "    return prime(num,check+1)\n"
   ]
  },
  {
   "cell_type": "code",
   "execution_count": 15,
   "metadata": {},
   "outputs": [],
   "source": [
    "prime = lambda num,check=2 : True if check==num//2 +1 else False if num% check == 0 else prime(num,check+1)"
   ]
  },
  {
   "cell_type": "code",
   "execution_count": 16,
   "metadata": {},
   "outputs": [
    {
     "data": {
      "text/plain": [
       "True"
      ]
     },
     "execution_count": 16,
     "metadata": {},
     "output_type": "execute_result"
    }
   ],
   "source": [
    "prime(3)"
   ]
  },
  {
   "cell_type": "code",
   "execution_count": 17,
   "metadata": {},
   "outputs": [
    {
     "data": {
      "text/plain": [
       "False"
      ]
     },
     "execution_count": 17,
     "metadata": {},
     "output_type": "execute_result"
    }
   ],
   "source": [
    "prime(15)"
   ]
  },
  {
   "cell_type": "code",
   "execution_count": null,
   "metadata": {},
   "outputs": [],
   "source": []
  }
 ],
 "metadata": {
  "kernelspec": {
   "display_name": "Python 3",
   "language": "python",
   "name": "python3"
  },
  "language_info": {
   "codemirror_mode": {
    "name": "ipython",
    "version": 3
   },
   "file_extension": ".py",
   "mimetype": "text/x-python",
   "name": "python",
   "nbconvert_exporter": "python",
   "pygments_lexer": "ipython3",
   "version": "3.7.3"
  }
 },
 "nbformat": 4,
 "nbformat_minor": 2
}
