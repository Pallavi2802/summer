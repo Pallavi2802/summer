{
 "cells": [
  {
   "cell_type": "code",
   "execution_count": 12,
   "metadata": {},
   "outputs": [],
   "source": [
    "f=open(\"log.txt\",\"w\")"
   ]
  },
  {
   "cell_type": "code",
   "execution_count": 13,
   "metadata": {},
   "outputs": [
    {
     "data": {
      "text/plain": [
       "21"
      ]
     },
     "execution_count": 13,
     "metadata": {},
     "output_type": "execute_result"
    }
   ],
   "source": [
    "f.write(\"DATE:LOGTYPE:MESSAGE\\n\")"
   ]
  },
  {
   "cell_type": "code",
   "execution_count": 14,
   "metadata": {},
   "outputs": [],
   "source": [
    "f.close()"
   ]
  },
  {
   "cell_type": "code",
   "execution_count": 15,
   "metadata": {},
   "outputs": [],
   "source": [
    "import time\n",
    "data={\"user\":\"pallavi\",\"password\":\"pal2802\"}\n",
    "def login(user,password):\n",
    "    if user ==  data.get('user') : \n",
    "        if password == data.get('password') : \n",
    "            message = \"User Sucessfully Logged in \"\n",
    "            f = open(\"log.txt\",'a')\n",
    "            ts = time.ctime()\n",
    "            ty = \"INFO\"\n",
    "            s = ts+\":\"+ty+\":\"+message\n",
    "            f.write(s)\n",
    "            f.write('\\n')\n",
    "            f.close()\n",
    "            return True \n",
    "        else : \n",
    "            message = \"Invalid Password\"\n",
    "            f = open(\"log.txt\",'a')\n",
    "            ts = time.ctime()\n",
    "            ty = \"DENY\"\n",
    "            s = ts+\":\"+ty+\":\"+message\n",
    "            f.write(s)\n",
    "            f.write('\\n')\n",
    "            f.close()\n",
    "            return False\n",
    "    else : \n",
    "        message = \"Unknown User tried To Log in \"\n",
    "        f = open(\"log.txt\",'a')\n",
    "        ts = time.ctime()\n",
    "        ty = \"WARNING\"\n",
    "        s = ts+\":\"+ty+\":\"+message\n",
    "        f.write(s)\n",
    "        f.write('\\n')\n",
    "        f.close()\n",
    "        return False\n",
    "        "
   ]
  },
  {
   "cell_type": "code",
   "execution_count": 16,
   "metadata": {},
   "outputs": [
    {
     "data": {
      "text/plain": [
       "True"
      ]
     },
     "execution_count": 16,
     "metadata": {},
     "output_type": "execute_result"
    }
   ],
   "source": [
    "login(\"pallavi\",\"pal2802\")"
   ]
  },
  {
   "cell_type": "code",
   "execution_count": 17,
   "metadata": {},
   "outputs": [
    {
     "ename": "FileExistsError",
     "evalue": "[WinError 183] Cannot create a file when that file already exists: 'bankdat'",
     "output_type": "error",
     "traceback": [
      "\u001b[1;31m---------------------------------------------------------------------------\u001b[0m",
      "\u001b[1;31mFileExistsError\u001b[0m                           Traceback (most recent call last)",
      "\u001b[1;32m<ipython-input-17-7c866f45c781>\u001b[0m in \u001b[0;36m<module>\u001b[1;34m\u001b[0m\n\u001b[0;32m      1\u001b[0m \u001b[1;33m\u001b[0m\u001b[0m\n\u001b[0;32m      2\u001b[0m \u001b[1;32mimport\u001b[0m \u001b[0mos\u001b[0m\u001b[1;33m\u001b[0m\u001b[1;33m\u001b[0m\u001b[0m\n\u001b[1;32m----> 3\u001b[1;33m \u001b[0mos\u001b[0m\u001b[1;33m.\u001b[0m\u001b[0mmkdir\u001b[0m\u001b[1;33m(\u001b[0m\u001b[1;34m\"bankdat\"\u001b[0m\u001b[1;33m)\u001b[0m\u001b[1;33m\u001b[0m\u001b[1;33m\u001b[0m\u001b[0m\n\u001b[0m",
      "\u001b[1;31mFileExistsError\u001b[0m: [WinError 183] Cannot create a file when that file already exists: 'bankdat'"
     ]
    }
   ],
   "source": [
    "\n",
    "import os\n",
    "os.mkdir(\"bankdat\")\n"
   ]
  },
  {
   "cell_type": "code",
   "execution_count": 18,
   "metadata": {},
   "outputs": [],
   "source": [
    "data={\"1001\":{\"name\":\"pallavi\",\"bal\":9909999,\"password\":\"pallavi\"},\n",
    "      \"1002\":{\"name\":\"karan\",\"bal\":99999999999,\"password\":\"karan15796\"},\n",
    "          \"1003\":{\"name\":\"aviral\",\"bal\":9499485,\"password\":\"jjfj\"}\n",
    "     }\n"
   ]
  },
  {
   "cell_type": "code",
   "execution_count": 19,
   "metadata": {},
   "outputs": [
    {
     "data": {
      "text/plain": [
       "{'1001': {'name': 'pallavi', 'bal': 9909999, 'password': 'pallavi'},\n",
       " '1002': {'name': 'karan', 'bal': 99999999999, 'password': 'karan15796'},\n",
       " '1003': {'name': 'aviral', 'bal': 9499485, 'password': 'jjfj'}}"
      ]
     },
     "execution_count": 19,
     "metadata": {},
     "output_type": "execute_result"
    }
   ],
   "source": [
    "data"
   ]
  },
  {
   "cell_type": "code",
   "execution_count": 20,
   "metadata": {},
   "outputs": [],
   "source": [
    "user1=data.get('1001')\n",
    "user2=data.get('1002')\n",
    "user3=data.get('1003')\n"
   ]
  },
  {
   "cell_type": "code",
   "execution_count": 21,
   "metadata": {},
   "outputs": [
    {
     "data": {
      "text/plain": [
       "{'name': 'pallavi', 'bal': 9909999, 'password': 'pallavi'}"
      ]
     },
     "execution_count": 21,
     "metadata": {},
     "output_type": "execute_result"
    }
   ],
   "source": [
    "user1"
   ]
  },
  {
   "cell_type": "code",
   "execution_count": 22,
   "metadata": {},
   "outputs": [],
   "source": [
    "l=[user1,user2,user3]"
   ]
  },
  {
   "cell_type": "code",
   "execution_count": 23,
   "metadata": {},
   "outputs": [
    {
     "data": {
      "text/plain": [
       "[{'name': 'pallavi', 'bal': 9909999, 'password': 'pallavi'},\n",
       " {'name': 'karan', 'bal': 99999999999, 'password': 'karan15796'},\n",
       " {'name': 'aviral', 'bal': 9499485, 'password': 'jjfj'}]"
      ]
     },
     "execution_count": 23,
     "metadata": {},
     "output_type": "execute_result"
    }
   ],
   "source": [
    "l"
   ]
  },
  {
   "cell_type": "code",
   "execution_count": 24,
   "metadata": {},
   "outputs": [
    {
     "name": "stdout",
     "output_type": "stream",
     "text": [
      "data exported succesfully\n"
     ]
    }
   ],
   "source": [
    "import pickle\n",
    "acc=1001\n",
    "for s in l:\n",
    "    name=\"bankdat/\"+str(acc)+\".pkl\"\n",
    "    acc += 1\n",
    "    f=open(name,'wb')\n",
    "    pickle.dump(s,f)\n",
    "    f.close()\n",
    "else :\n",
    "    print(\"data exported succesfully\")"
   ]
  },
  {
   "cell_type": "code",
   "execution_count": 25,
   "metadata": {},
   "outputs": [],
   "source": [
    "def info(acc_no):\n",
    "    name=str(acc_no)+\".pkl\"\n",
    "    if name in os.listdir(\"bankdat/\") : \n",
    "        name = \"bankdat/\"+name\n",
    "        f = open(name,'rb')\n",
    "        data = pickle.load(f)\n",
    "        f.close()\n",
    "        for key,value in data.items() : \n",
    "            print(f\"{key} = {value}\")\n",
    "    else : \n",
    "        print(\"No such user exists\")"
   ]
  },
  {
   "cell_type": "code",
   "execution_count": 26,
   "metadata": {},
   "outputs": [
    {
     "name": "stdout",
     "output_type": "stream",
     "text": [
      "name = karan\n",
      "bal = 99999999999\n",
      "password = karan15796\n"
     ]
    }
   ],
   "source": [
    "info(1002)"
   ]
  },
  {
   "cell_type": "code",
   "execution_count": 27,
   "metadata": {},
   "outputs": [
    {
     "name": "stdout",
     "output_type": "stream",
     "text": [
      "No such user exists\n"
     ]
    }
   ],
   "source": [
    "info(1004)"
   ]
  },
  {
   "cell_type": "markdown",
   "metadata": {},
   "source": [
    "# Bank application"
   ]
  },
  {
   "cell_type": "code",
   "execution_count": 28,
   "metadata": {},
   "outputs": [
    {
     "ename": "FileExistsError",
     "evalue": "[WinError 183] Cannot create a file when that file already exists: 'Databaseofbank'",
     "output_type": "error",
     "traceback": [
      "\u001b[1;31m---------------------------------------------------------------------------\u001b[0m",
      "\u001b[1;31mFileExistsError\u001b[0m                           Traceback (most recent call last)",
      "\u001b[1;32m<ipython-input-28-2b4dd82b7ecd>\u001b[0m in \u001b[0;36m<module>\u001b[1;34m\u001b[0m\n\u001b[0;32m      1\u001b[0m \u001b[1;32mimport\u001b[0m \u001b[0mshelve\u001b[0m\u001b[1;33m\u001b[0m\u001b[1;33m\u001b[0m\u001b[0m\n\u001b[1;32m----> 2\u001b[1;33m \u001b[0mos\u001b[0m\u001b[1;33m.\u001b[0m\u001b[0mmkdir\u001b[0m\u001b[1;33m(\u001b[0m\u001b[1;34m\"Databaseofbank\"\u001b[0m\u001b[1;33m)\u001b[0m\u001b[1;33m\u001b[0m\u001b[1;33m\u001b[0m\u001b[0m\n\u001b[0m\u001b[0;32m      3\u001b[0m \u001b[0mdata\u001b[0m \u001b[1;33m=\u001b[0m \u001b[0mshelve\u001b[0m\u001b[1;33m.\u001b[0m\u001b[0mopen\u001b[0m\u001b[1;33m(\u001b[0m\u001b[1;34m\"databaseofbank/bank.db\"\u001b[0m\u001b[1;33m)\u001b[0m\u001b[1;33m\u001b[0m\u001b[1;33m\u001b[0m\u001b[0m\n",
      "\u001b[1;31mFileExistsError\u001b[0m: [WinError 183] Cannot create a file when that file already exists: 'Databaseofbank'"
     ]
    }
   ],
   "source": [
    "import shelve\n",
    "os.mkdir(\"Databaseofbank\")\n",
    "data = shelve.open(\"databaseofbank/bank.db\")"
   ]
  },
  {
   "cell_type": "code",
   "execution_count": 39,
   "metadata": {},
   "outputs": [],
   "source": [
    "data['1001']=user1\n",
    "data['1002']=user2\n",
    "data['1003']=user3"
   ]
  },
  {
   "cell_type": "code",
   "execution_count": 40,
   "metadata": {},
   "outputs": [],
   "source": [
    "data.close()"
   ]
  },
  {
   "cell_type": "code",
   "execution_count": 41,
   "metadata": {},
   "outputs": [],
   "source": [
    "data=shelve.open(\"Databaseofbank/bank.db\")"
   ]
  },
  {
   "cell_type": "code",
   "execution_count": 42,
   "metadata": {},
   "outputs": [],
   "source": [
    "def information(accno) :\n",
    "    acc=str(accno)\n",
    "    data=shelve.open(\"Databaseofbank/bank.db\")\n",
    "    if acc in data :\n",
    "        d=data.get(acc)\n",
    "        for key,value in d.items() : \n",
    "            print(f\"{key} = {value}\")\n",
    "        else : \n",
    "            data.close()\n",
    "    else : \n",
    "        print(\"No such user exists\")"
   ]
  },
  {
   "cell_type": "code",
   "execution_count": 43,
   "metadata": {},
   "outputs": [
    {
     "name": "stdout",
     "output_type": "stream",
     "text": [
      "name = yash\n",
      "bal = 6855365\n",
      "password = 25106\n"
     ]
    }
   ],
   "source": [
    "information(1004)"
   ]
  },
  {
   "cell_type": "code",
   "execution_count": 44,
   "metadata": {},
   "outputs": [
    {
     "name": "stdout",
     "output_type": "stream",
     "text": [
      "name = aviral\n",
      "bal = 9499485\n",
      "password = jjfj\n"
     ]
    }
   ],
   "source": [
    "information(1003)"
   ]
  },
  {
   "cell_type": "code",
   "execution_count": 58,
   "metadata": {},
   "outputs": [],
   "source": [
    "def useradd(name,bal,password) :\n",
    "    db = shelve.open('Databaseofbank/bank.db')\n",
    "    all_keys = list(db.keys())\n",
    "    all_keys.sort()\n",
    "    acc = str(int(all_keys[-1])+1)\n",
    "    data = { 'name':name,'bal':bal,'password':password}\n",
    "    db[acc] = data\n",
    "    print(\"user added sucessfully\")\n",
    "    print(\"welcome !!!!!\")\n",
    "    "
   ]
  },
  {
   "cell_type": "code",
   "execution_count": 59,
   "metadata": {},
   "outputs": [
    {
     "name": "stdout",
     "output_type": "stream",
     "text": [
      "user added sucessfully\n",
      "welcome !!!!!\n"
     ]
    }
   ],
   "source": [
    "useradd(\"yash\",6855365,'25106')"
   ]
  },
  {
   "cell_type": "code",
   "execution_count": 5,
   "metadata": {},
   "outputs": [],
   "source": [
    "from getpass import getpass\n",
    "import shelve\n",
    "def mainmenu():\n",
    "    s = \"\"\"\n",
    "    1. Login\n",
    "    2. Signup\n",
    "    3 .Exit\n",
    "    \"\"\"\n",
    "    print(s)\n",
    "    ch = int(input(\"Enter your Choice : \"))\n",
    "    if ch == 1 :\n",
    "        accno = input(\"Enter your acc number : \").strip()\n",
    "        password = getpass(\"Enter your password : \")\n",
    "        if login(accno,password) :\n",
    "          menu(accno)\n",
    "        else : \n",
    "          mainmenu()\n",
    "    elif ch == 2 :\n",
    "        name = input(\"enter your name : \")\n",
    "        bal = 0\n",
    "        password = input(\"enter the passwoed to be set :\")\n",
    "        useradd(name,bal,password)\n",
    "    else :\n",
    "        print(\"thanks for using our services\")\n",
    "            \n",
    "def menu(accno):\n",
    "    s = \"\"\"\n",
    "    1. Credit\n",
    "    2. Debit\n",
    "    3. Check Balance\n",
    "    4. Update Password\n",
    "    5. Exit\n",
    "    \"\"\"\n",
    "    print(s)\n",
    "    ch = int(input(\"Enter your choice : \"))\n",
    "    if ch == 4 : \n",
    "        update_password(acc_no) \n",
    "    elif ch == 2 :\n",
    "        pass\n",
    "    elif ch ==3 :\n",
    "        accno=input(\"enter your account no :\")\n",
    "        information(accno)\n",
    "    elif ch == 1 :\n",
    "        pass\n",
    "    else :\n",
    "        print(\"Thanks for using our services\")\n",
    "\n",
    "\n",
    "\n",
    "def updatepassword(accno):\n",
    "    p1 = getpass(\"Enter password : \")\n",
    "    p2 = getpass(\"Verify password :\")\n",
    "    if p1 == p2 : \n",
    "        db = shelve.open('Databseofbank/bank.db',writeback=True)\n",
    "        db[accno]['password'] = p1\n",
    "        print(\"password sucessfully updated\")\n",
    "        print(\"Please Login Again to verify \")\n",
    "        mainmenu()\n",
    "    else : \n",
    "        print(\"Password does not match \")\n",
    "        print(\"Try Again\")\n",
    "        updatepassword(accno)\n",
    "        \n",
    "        \n",
    "def login(accno,password):\n",
    "    db = shelve.open('Databaseofbank/bank.db',writeback=True)\n",
    "    data = db.get(accno,False)\n",
    "    if data : \n",
    "        if data.get('password') == password :\n",
    "            print(\"Login Sucessfull\")\n",
    "            return True \n",
    "        else : \n",
    "            print(\"Invalid Password\")\n",
    "            print(\"Try Again\")\n",
    "            return False \n",
    "    else : \n",
    "        print(\"Invalid Account Number\")\n",
    "        print(\" please signup\")\n",
    "        return False\n",
    "\n",
    "def information(accno) :\n",
    "    acc=str(accno)\n",
    "    data=shelve.open(\"Databaseofbank/bank.db\",writeback=True)\n",
    "    if acc in data :\n",
    "        d=data.get(acc)\n",
    "        for key,value in d.items() : \n",
    "            print(f\"{key} = {value}\")\n",
    "        else : \n",
    "            data.close()\n",
    "    else : \n",
    "        print(\"No such user exists\")\n",
    "        \n",
    "        \n",
    "def useradd(name,bal,password) :\n",
    "    db = shelve.open('Databaseofbank/bank.db',writeback=True)\n",
    "    all_keys = list(db.keys())\n",
    "    all_keys.sort()\n",
    "    acc = str(int(all_keys[-1])+1)\n",
    "    data = { 'name':name,'bal':bal,'password':password}\n",
    "    db[acc] = data\n",
    "    print(\"user added sucessfully\")\n",
    "    print(\"welcome !!!!!\")\n",
    "    menu(acc)"
   ]
  },
  {
   "cell_type": "code",
   "execution_count": 6,
   "metadata": {},
   "outputs": [
    {
     "name": "stdout",
     "output_type": "stream",
     "text": [
      "\n",
      "    1. Login\n",
      "    2. Signup\n",
      "    3 .Exit\n",
      "    \n",
      "Enter your Choice : 1\n",
      "Enter your acc number : 1001\n",
      "Enter your password : ········\n",
      "Invalid Password\n",
      "Try Again\n",
      "\n",
      "    1. Login\n",
      "    2. Signup\n",
      "    3 .Exit\n",
      "    \n",
      "Enter your Choice : 1\n",
      "Enter your acc number : 1001\n",
      "Enter your password : ········\n",
      "Login Sucessfull\n",
      "\n",
      "    1. Credit\n",
      "    2.Debit\n",
      "    3.Check Balance\n",
      "    4.Update Password\n",
      "    5.exit\n",
      "    \n",
      "Enter your choice : 3\n",
      "enter your account no :1001\n",
      "name = pallavi\n",
      "bal = 9909999\n",
      "password = pallavi\n"
     ]
    }
   ],
   "source": [
    "mainmenu()"
   ]
  },
  {
   "cell_type": "code",
   "execution_count": null,
   "metadata": {},
   "outputs": [],
   "source": []
  }
 ],
 "metadata": {
  "kernelspec": {
   "display_name": "Python 3",
   "language": "python",
   "name": "python3"
  },
  "language_info": {
   "codemirror_mode": {
    "name": "ipython",
    "version": 3
   },
   "file_extension": ".py",
   "mimetype": "text/x-python",
   "name": "python",
   "nbconvert_exporter": "python",
   "pygments_lexer": "ipython3",
   "version": "3.7.3"
  }
 },
 "nbformat": 4,
 "nbformat_minor": 2
}
