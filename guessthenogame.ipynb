{
 "cells": [
  {
   "cell_type": "code",
   "execution_count": null,
   "metadata": {},
   "outputs": [],
   "source": [
    "from random import randint\n",
    "n = randint(1,50)\n",
    "c=1\n",
    "while c <= 5 :\n",
    "    no =int(input(\"enter your choice between 1 to 50: \"))\n",
    "    c = c + 1\n",
    "    if no > n :\n",
    "        print(\"Think smaller \")\n",
    "        continue\n",
    "    elif  no < n :\n",
    "        print(\"think bigger\")\n",
    "        continue\n",
    "    elif no == n :\n",
    "            print(f\"you correctly guessed the no at {c-1}th chance\")\n",
    "            break\n",
    "    else :\n",
    "        print(\"invalid \")\n",
    "else:\n",
    "    print(f\"NO MORE CHANCES LEFT YOU LOOSER . THE NO WAS {n}\")"
   ]
  },
  {
   "cell_type": "code",
   "execution_count": null,
   "metadata": {},
   "outputs": [],
   "source": []
  },
  {
   "cell_type": "code",
   "execution_count": null,
   "metadata": {},
   "outputs": [],
   "source": []
  }
 ],
 "metadata": {
  "kernelspec": {
   "display_name": "Python 3",
   "language": "python",
   "name": "python3"
  },
  "language_info": {
   "codemirror_mode": {
    "name": "ipython",
    "version": 3
   },
   "file_extension": ".py",
   "mimetype": "text/x-python",
   "name": "python",
   "nbconvert_exporter": "python",
   "pygments_lexer": "ipython3",
   "version": "3.7.3"
  }
 },
 "nbformat": 4,
 "nbformat_minor": 2
}
