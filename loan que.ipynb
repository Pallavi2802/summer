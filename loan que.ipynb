{
 "cells": [
  {
   "cell_type": "code",
   "execution_count": null,
   "metadata": {},
   "outputs": [],
   "source": [
    "# grant a loan or not\n",
    "# first question --> job type --> government/private/business\n",
    "# if job is government and salary is greater than 50000 provide loan else deny\n",
    "# else if job is private deny with saying nikal jao yha se \n",
    "# else if job is business than ask for turn over if turn over is greater than\n",
    "# 20lakh than provide loan else deny with saying aaukat nh hai"
   ]
  },
  {
   "cell_type": "code",
   "execution_count": 4,
   "metadata": {},
   "outputs": [
    {
     "name": "stdout",
     "output_type": "stream",
     "text": [
      "Enter job type : Business  \n",
      "Enter turn over : 890\n",
      "nahi denge\n"
     ]
    }
   ],
   "source": [
    "jobtype = input(\"Enter job type : \").strip().lower()\n",
    "if jobtype == \"government\" : \n",
    "    salary = eval(input(\"Enter Salary : \"))\n",
    "    if salary >= 50000 : \n",
    "        print(\"Loan  Approved\")\n",
    "    else : \n",
    "        print(\"not approved\")\n",
    "elif jobtype == \"business\" : \n",
    "    trun_over = eval(input(\"Enter turn over : \"))\n",
    "    if trun_over >= 2000000 : \n",
    "        print(\"approved\")\n",
    "    else : \n",
    "        print(\"nahi denge\")\n",
    "else : \n",
    "    print(\"bhuggg \")"
   ]
  }
 ],
 "metadata": {
  "kernelspec": {
   "display_name": "Python 3",
   "language": "python",
   "name": "python3"
  },
  "language_info": {
   "codemirror_mode": {
    "name": "ipython",
    "version": 3
   },
   "file_extension": ".py",
   "mimetype": "text/x-python",
   "name": "python",
   "nbconvert_exporter": "python",
   "pygments_lexer": "ipython3",
   "version": "3.7.3"
  }
 },
 "nbformat": 4,
 "nbformat_minor": 2
}
